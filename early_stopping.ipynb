{
  "cells": [
    {
      "cell_type": "code",
      "execution_count": 8,
      "metadata": {
        "id": "bkX9GvXu5yaw"
      },
      "outputs": [],
      "source": [
        "from keras.datasets import mnist\n",
        "import keras\n",
        "data = mnist.load_data()"
      ]
    },
    {
      "cell_type": "code",
      "execution_count": 2,
      "metadata": {
        "id": "JZOvSbnoyriz"
      },
      "outputs": [],
      "source": [
        "(X_train, y_train), (X_test, y_test) = mnist.load_data()"
      ]
    },
    {
      "cell_type": "code",
      "execution_count": 3,
      "metadata": {
        "id": "6MBlEZKAzFxc"
      },
      "outputs": [],
      "source": [
        "X_train = X_train.reshape(X_train.shape[0], 28*28).astype('float32')\n",
        "X_test = X_test.reshape(X_test.shape[0], 28*28).astype('float32')"
      ]
    },
    {
      "cell_type": "code",
      "execution_count": 4,
      "metadata": {
        "id": "gavTEXfVzeE6"
      },
      "outputs": [],
      "source": [
        "X_train = X_train / 255\n",
        "X_test = X_test / 255"
      ]
    },
    {
      "cell_type": "code",
      "execution_count": 5,
      "metadata": {
        "id": "jjQ2CValBx8Y"
      },
      "outputs": [],
      "source": [
        "from keras.models import Sequential\n",
        "from keras.layers import Dense\n",
        "model = Sequential()\n",
        "model.add(Dense(32, input_dim = 28 * 28, activation= 'relu'))\n",
        "model.add(Dense(64, activation = 'relu'))\n",
        "model.add(Dense(10, activation = 'softmax'))"
      ]
    },
    {
      "cell_type": "code",
      "execution_count": 6,
      "metadata": {
        "colab": {
          "base_uri": "https://localhost:8080/"
        },
        "id": "Dvb-iYFF0bmf",
        "outputId": "96ddfdfc-d902-4603-e61d-df7ea92d43d0"
      },
      "outputs": [
        {
          "name": "stdout",
          "output_type": "stream",
          "text": [
            "Model: \"sequential\"\n",
            "_________________________________________________________________\n",
            " Layer (type)                Output Shape              Param #   \n",
            "=================================================================\n",
            " dense (Dense)               (None, 32)                25120     \n",
            "                                                                 \n",
            " dense_1 (Dense)             (None, 64)                2112      \n",
            "                                                                 \n",
            " dense_2 (Dense)             (None, 10)                650       \n",
            "                                                                 \n",
            "=================================================================\n",
            "Total params: 27,882\n",
            "Trainable params: 27,882\n",
            "Non-trainable params: 0\n",
            "_________________________________________________________________\n"
          ]
        }
      ],
      "source": [
        "model.summary()"
      ]
    },
    {
      "cell_type": "code",
      "execution_count": 9,
      "metadata": {
        "id": "rCWxft1U4egP"
      },
      "outputs": [],
      "source": [
        "import tensorflow as tf\n",
        "opt = keras.optimizers.Adam(learning_rate = 0.001)\n",
        "model.compile(optimizer = opt,loss = tf.keras.losses.SparseCategoricalCrossentropy(from_logits=True),\n",
        "              metrics=['accuracy'])"
      ]
    },
    {
      "cell_type": "markdown",
      "metadata": {
        "id": "3tQsQycKHvCg"
      },
      "source": [
        "# Early Stopping"
      ]
    },
    {
      "cell_type": "markdown",
      "metadata": {
        "id": "s1rdjF_HH4UA"
      },
      "source": [
        "Early Stopping stops training the model once accuracy stops improving thus preventing overfitting while keeping maximum accuracy."
      ]
    },
    {
      "cell_type": "code",
      "execution_count": 12,
      "metadata": {
        "id": "BlyHagDMCY4v"
      },
      "outputs": [],
      "source": [
        "from keras.callbacks import ModelCheckpoint,EarlyStopping,ReduceLROnPlateau\n",
        "callback = [EarlyStopping(monitor = \"accuracy\",patience = 7,verbose = 1)\n",
        "            ,ReduceLROnPlateau(monitor = \"accuracy\",factor = 0.05,patience = 3,min_lr = 0.0001,verbose = 1)]\n",
        "            #Reduce LR on helps in preventing overfitting on one LR"
      ]
    },
    {
      "cell_type": "code",
      "execution_count": 13,
      "metadata": {
        "colab": {
          "base_uri": "https://localhost:8080/"
        },
        "id": "CN2aazso1cFi",
        "outputId": "6523b9cb-836d-422a-c0e0-1b714daec657"
      },
      "outputs": [
        {
          "name": "stdout",
          "output_type": "stream",
          "text": [
            "Epoch 1/100\n",
            "1875/1875 [==============================] - 3s 2ms/step - loss: 0.0878 - accuracy: 0.9724 - lr: 0.0010\n",
            "Epoch 2/100\n",
            "1875/1875 [==============================] - 3s 2ms/step - loss: 0.0779 - accuracy: 0.9756 - lr: 0.0010\n",
            "Epoch 3/100\n",
            "1875/1875 [==============================] - 3s 2ms/step - loss: 0.0693 - accuracy: 0.9776 - lr: 0.0010\n",
            "Epoch 4/100\n",
            "1875/1875 [==============================] - 3s 2ms/step - loss: 0.0622 - accuracy: 0.9801 - lr: 0.0010\n",
            "Epoch 5/100\n",
            "1875/1875 [==============================] - 3s 2ms/step - loss: 0.0563 - accuracy: 0.9820 - lr: 0.0010\n",
            "Epoch 6/100\n",
            "1875/1875 [==============================] - 5s 2ms/step - loss: 0.0509 - accuracy: 0.9835 - lr: 0.0010\n",
            "Epoch 7/100\n",
            "1875/1875 [==============================] - 6s 3ms/step - loss: 0.0472 - accuracy: 0.9848 - lr: 0.0010\n",
            "Epoch 8/100\n",
            "1875/1875 [==============================] - 5s 3ms/step - loss: 0.0440 - accuracy: 0.9854 - lr: 0.0010\n",
            "Epoch 9/100\n",
            "1875/1875 [==============================] - 6s 3ms/step - loss: 0.0394 - accuracy: 0.9869 - lr: 0.0010\n",
            "Epoch 10/100\n",
            "1875/1875 [==============================] - 6s 3ms/step - loss: 0.0365 - accuracy: 0.9877 - lr: 0.0010\n",
            "Epoch 11/100\n",
            "1875/1875 [==============================] - 6s 3ms/step - loss: 0.0341 - accuracy: 0.9891 - lr: 0.0010\n",
            "Epoch 12/100\n",
            "1875/1875 [==============================] - 6s 3ms/step - loss: 0.0320 - accuracy: 0.9895 - lr: 0.0010\n",
            "Epoch 13/100\n",
            "1875/1875 [==============================] - 6s 3ms/step - loss: 0.0291 - accuracy: 0.9898 - lr: 0.0010\n",
            "Epoch 14/100\n",
            "1875/1875 [==============================] - 4s 2ms/step - loss: 0.0280 - accuracy: 0.9903 - lr: 0.0010\n",
            "Epoch 15/100\n",
            "1875/1875 [==============================] - 4s 2ms/step - loss: 0.0254 - accuracy: 0.9909 - lr: 0.0010\n",
            "Epoch 16/100\n",
            "1875/1875 [==============================] - 3s 2ms/step - loss: 0.0246 - accuracy: 0.9912 - lr: 0.0010\n",
            "Epoch 17/100\n",
            "1875/1875 [==============================] - 3s 2ms/step - loss: 0.0222 - accuracy: 0.9924 - lr: 0.0010\n",
            "Epoch 18/100\n",
            "1875/1875 [==============================] - 3s 2ms/step - loss: 0.0217 - accuracy: 0.9924 - lr: 0.0010\n",
            "Epoch 19/100\n",
            "1875/1875 [==============================] - 3s 2ms/step - loss: 0.0202 - accuracy: 0.9929 - lr: 0.0010\n",
            "Epoch 20/100\n",
            "1875/1875 [==============================] - 3s 2ms/step - loss: 0.0191 - accuracy: 0.9931 - lr: 0.0010\n",
            "Epoch 21/100\n",
            "1875/1875 [==============================] - 3s 2ms/step - loss: 0.0197 - accuracy: 0.9931 - lr: 0.0010\n",
            "Epoch 22/100\n",
            "1875/1875 [==============================] - 3s 2ms/step - loss: 0.0178 - accuracy: 0.9939 - lr: 0.0010\n",
            "Epoch 23/100\n",
            "1875/1875 [==============================] - 3s 2ms/step - loss: 0.0159 - accuracy: 0.9944 - lr: 0.0010\n",
            "Epoch 24/100\n",
            "1875/1875 [==============================] - 5s 2ms/step - loss: 0.0166 - accuracy: 0.9947 - lr: 0.0010\n",
            "Epoch 25/100\n",
            "1875/1875 [==============================] - 3s 2ms/step - loss: 0.0160 - accuracy: 0.9946 - lr: 0.0010\n",
            "Epoch 26/100\n",
            "1875/1875 [==============================] - 3s 2ms/step - loss: 0.0138 - accuracy: 0.9952 - lr: 0.0010\n",
            "Epoch 27/100\n",
            "1875/1875 [==============================] - 4s 2ms/step - loss: 0.0158 - accuracy: 0.9945 - lr: 0.0010\n",
            "Epoch 28/100\n",
            "1875/1875 [==============================] - 3s 2ms/step - loss: 0.0142 - accuracy: 0.9954 - lr: 0.0010\n",
            "Epoch 29/100\n",
            "1875/1875 [==============================] - 4s 2ms/step - loss: 0.0121 - accuracy: 0.9957 - lr: 0.0010\n",
            "Epoch 30/100\n",
            "1875/1875 [==============================] - 3s 2ms/step - loss: 0.0144 - accuracy: 0.9948 - lr: 0.0010\n",
            "Epoch 31/100\n",
            "1875/1875 [==============================] - 3s 2ms/step - loss: 0.0112 - accuracy: 0.9960 - lr: 0.0010\n",
            "Epoch 32/100\n",
            "1875/1875 [==============================] - 3s 2ms/step - loss: 0.0154 - accuracy: 0.9949 - lr: 0.0010\n",
            "Epoch 33/100\n",
            "1875/1875 [==============================] - 3s 2ms/step - loss: 0.0110 - accuracy: 0.9961 - lr: 0.0010\n",
            "Epoch 34/100\n",
            "1872/1875 [============================>.] - ETA: 0s - loss: 0.0131 - accuracy: 0.9956\n",
            "Epoch 34: ReduceLROnPlateau reducing learning rate to 0.0001.\n",
            "1875/1875 [==============================] - 3s 2ms/step - loss: 0.0132 - accuracy: 0.9956 - lr: 0.0010\n",
            "Epoch 35/100\n",
            "1875/1875 [==============================] - 3s 2ms/step - loss: 0.0029 - accuracy: 0.9992 - lr: 1.0000e-04\n",
            "Epoch 36/100\n",
            "1875/1875 [==============================] - 3s 2ms/step - loss: 0.0014 - accuracy: 0.9998 - lr: 1.0000e-04\n",
            "Epoch 37/100\n",
            "1875/1875 [==============================] - 3s 2ms/step - loss: 9.5379e-04 - accuracy: 1.0000 - lr: 1.0000e-04\n",
            "Epoch 38/100\n",
            "1875/1875 [==============================] - 3s 2ms/step - loss: 7.2983e-04 - accuracy: 1.0000 - lr: 1.0000e-04\n",
            "Epoch 39/100\n",
            "1875/1875 [==============================] - 3s 2ms/step - loss: 5.7391e-04 - accuracy: 1.0000 - lr: 1.0000e-04\n",
            "Epoch 40/100\n",
            "1875/1875 [==============================] - 3s 2ms/step - loss: 4.7800e-04 - accuracy: 1.0000 - lr: 1.0000e-04\n",
            "Epoch 41/100\n",
            "1875/1875 [==============================] - 3s 2ms/step - loss: 3.7108e-04 - accuracy: 1.0000 - lr: 1.0000e-04\n",
            "Epoch 42/100\n",
            "1875/1875 [==============================] - 3s 2ms/step - loss: 3.2017e-04 - accuracy: 1.0000 - lr: 1.0000e-04\n",
            "Epoch 43/100\n",
            "1875/1875 [==============================] - 4s 2ms/step - loss: 2.7502e-04 - accuracy: 1.0000 - lr: 1.0000e-04\n",
            "Epoch 44/100\n",
            "1875/1875 [==============================] - 4s 2ms/step - loss: 2.3479e-04 - accuracy: 1.0000 - lr: 1.0000e-04\n",
            "Epoch 45/100\n",
            "1875/1875 [==============================] - 3s 2ms/step - loss: 2.0972e-04 - accuracy: 1.0000 - lr: 1.0000e-04\n",
            "Epoch 46/100\n",
            "1875/1875 [==============================] - 3s 2ms/step - loss: 1.6613e-04 - accuracy: 1.0000 - lr: 1.0000e-04\n",
            "Epoch 47/100\n",
            "1875/1875 [==============================] - 3s 2ms/step - loss: 1.5493e-04 - accuracy: 1.0000 - lr: 1.0000e-04\n",
            "Epoch 48/100\n",
            "1875/1875 [==============================] - 3s 2ms/step - loss: 1.3532e-04 - accuracy: 1.0000 - lr: 1.0000e-04\n",
            "Epoch 48: early stopping\n"
          ]
        },
        {
          "data": {
            "text/plain": [
              "<keras.callbacks.History at 0x29509605d80>"
            ]
          },
          "execution_count": 13,
          "metadata": {},
          "output_type": "execute_result"
        }
      ],
      "source": [
        "model.fit(X_train,y_train,epochs = 100,batch_size = 32,callbacks = callback) \n",
        "# Batch Size = 32 is best for most of the models"
      ]
    },
    {
      "cell_type": "code",
      "execution_count": 27,
      "metadata": {
        "id": "sJmZzR_f2Ae6"
      },
      "outputs": [],
      "source": []
    }
  ],
  "metadata": {
    "accelerator": "GPU",
    "colab": {
      "provenance": []
    },
    "kernelspec": {
      "display_name": "Python 3.10.7 64-bit",
      "language": "python",
      "name": "python3"
    },
    "language_info": {
      "codemirror_mode": {
        "name": "ipython",
        "version": 3
      },
      "file_extension": ".py",
      "mimetype": "text/x-python",
      "name": "python",
      "nbconvert_exporter": "python",
      "pygments_lexer": "ipython3",
      "version": "3.10.7"
    },
    "vscode": {
      "interpreter": {
        "hash": "2dcff298e6fc9f300c172f449ac5b974b753c4428b95c0ffa294019aef922779"
      }
    }
  },
  "nbformat": 4,
  "nbformat_minor": 0
}
