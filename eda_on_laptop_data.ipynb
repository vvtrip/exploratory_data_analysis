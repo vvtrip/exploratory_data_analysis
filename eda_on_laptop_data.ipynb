{
 "cells": [
  {
   "cell_type": "markdown",
   "metadata": {
    "id": "XiBtj45ASYlz"
   },
   "source": [
    "# Exploratory Data Analysis on Laptop prices Dataset and using ML algorithms to predict Laptop Sales price\n",
    "\n",
    "**Contributed by** \n",
    "\n",
    "Himanshu Singh (github: https://github.com/himanshus110)\n"
   ]
  },
  {
   "cell_type": "markdown",
   "metadata": {
    "id": "SNW-l8MsTENK"
   },
   "source": [
    "#Exploratory Data Analysis"
   ]
  },
  {
   "cell_type": "markdown",
   "metadata": {
    "id": "sPyk8cm5RgxL"
   },
   "source": [
    "### Importing the libraries\n",
    "First we'll import the essential libraries that will be used to perform EDA on the dataset.\n",
    "We'll use pandas and numpy for performing actions on the dataset and we'll use matplotlib and seaborn for data visualization.\n"
   ]
  },
  {
   "cell_type": "code",
   "execution_count": 49,
   "metadata": {
    "id": "-zG2uQr0RKKQ"
   },
   "outputs": [],
   "source": [
    "import pandas as pd\n",
    "import numpy as np\n",
    "import matplotlib.pyplot as plt\n",
    "import seaborn as sns\n"
   ]
  },
  {
   "cell_type": "markdown",
   "metadata": {
    "id": "H1KVEjCQgpKl"
   },
   "source": [
    "###Inspecting the Data"
   ]
  },
  {
   "cell_type": "code",
   "execution_count": 50,
   "metadata": {
    "colab": {
     "base_uri": "https://localhost:8080/",
     "height": 337
    },
    "id": "ne1Mi0pDRffU",
    "outputId": "df8722ec-74d7-4d10-d5e7-188136aa7af6"
   },
   "outputs": [
    {
     "data": {
      "text/html": [
       "<div>\n",
       "<style scoped>\n",
       "    .dataframe tbody tr th:only-of-type {\n",
       "        vertical-align: middle;\n",
       "    }\n",
       "\n",
       "    .dataframe tbody tr th {\n",
       "        vertical-align: top;\n",
       "    }\n",
       "\n",
       "    .dataframe thead th {\n",
       "        text-align: right;\n",
       "    }\n",
       "</style>\n",
       "<table border=\"1\" class=\"dataframe\">\n",
       "  <thead>\n",
       "    <tr style=\"text-align: right;\">\n",
       "      <th></th>\n",
       "      <th>Product</th>\n",
       "      <th>Price</th>\n",
       "      <th>Processor</th>\n",
       "      <th>RAM</th>\n",
       "      <th>Operating System</th>\n",
       "      <th>Storage</th>\n",
       "      <th>Display</th>\n",
       "      <th>Rating</th>\n",
       "    </tr>\n",
       "  </thead>\n",
       "  <tbody>\n",
       "    <tr>\n",
       "      <th>0</th>\n",
       "      <td>Dell Inspiron Core i3 10th Gen - (8 GB/1 TB HD...</td>\n",
       "      <td>Rs 39,990</td>\n",
       "      <td>Intel Core i3 Processor (10th Gen)</td>\n",
       "      <td>8 GB DDR4 RAM</td>\n",
       "      <td>64 bit Windows 10 Operating System</td>\n",
       "      <td>1 TB HDD</td>\n",
       "      <td>39.62 cm (15.6 inch) Display</td>\n",
       "      <td>3.6</td>\n",
       "    </tr>\n",
       "    <tr>\n",
       "      <th>1</th>\n",
       "      <td>Lenovo Ideapad S145 APU Dual Core A6 - (4 GB/1...</td>\n",
       "      <td>Rs 22,990</td>\n",
       "      <td>AMD APU Dual Core A6 Processor</td>\n",
       "      <td>4 GB DDR4 RAM</td>\n",
       "      <td>64 bit Windows 10 Operating System</td>\n",
       "      <td>1 TB HDD</td>\n",
       "      <td>39.62 cm (15.6 inch) Display</td>\n",
       "      <td>4.0</td>\n",
       "    </tr>\n",
       "    <tr>\n",
       "      <th>2</th>\n",
       "      <td>HP 15s Core i5 10th Gen - (8 GB/1 TB HDD/256 G...</td>\n",
       "      <td>Rs 53,990</td>\n",
       "      <td>Intel Core i5 Processor (10th Gen)</td>\n",
       "      <td>8 GB DDR4 RAM</td>\n",
       "      <td>64 bit Windows 10 Operating System</td>\n",
       "      <td>1 TB HDD|256 GB SSD</td>\n",
       "      <td>39.62 cm (15.6 inch) Display</td>\n",
       "      <td>4.3</td>\n",
       "    </tr>\n",
       "    <tr>\n",
       "      <th>3</th>\n",
       "      <td>Asus VivoBook 14 Ryzen 5 Quad Core 2nd Gen - (...</td>\n",
       "      <td>Rs 42,990</td>\n",
       "      <td>AMD Ryzen 5 Quad Core Processor (2nd Gen)</td>\n",
       "      <td>8 GB DDR4 RAM</td>\n",
       "      <td>64 bit Windows 10 Operating System</td>\n",
       "      <td>512 GB SSD</td>\n",
       "      <td>35.56 cm (14 inch) Display</td>\n",
       "      <td>4.4</td>\n",
       "    </tr>\n",
       "    <tr>\n",
       "      <th>4</th>\n",
       "      <td>Lenovo Ideapad 3 Core i3 10th Gen - (4 GB/1 TB...</td>\n",
       "      <td>Rs 33,990</td>\n",
       "      <td>Intel Core i3 Processor (10th Gen)</td>\n",
       "      <td>4 GB DDR4 RAM</td>\n",
       "      <td>64 bit Windows 10 Operating System</td>\n",
       "      <td>1 TB HDD</td>\n",
       "      <td>35.56 cm (14 inch) Display</td>\n",
       "      <td>3.8</td>\n",
       "    </tr>\n",
       "  </tbody>\n",
       "</table>\n",
       "</div>"
      ],
      "text/plain": [
       "                                             Product      Price  \\\n",
       "0  Dell Inspiron Core i3 10th Gen - (8 GB/1 TB HD...  Rs 39,990   \n",
       "1  Lenovo Ideapad S145 APU Dual Core A6 - (4 GB/1...  Rs 22,990   \n",
       "2  HP 15s Core i5 10th Gen - (8 GB/1 TB HDD/256 G...  Rs 53,990   \n",
       "3  Asus VivoBook 14 Ryzen 5 Quad Core 2nd Gen - (...  Rs 42,990   \n",
       "4  Lenovo Ideapad 3 Core i3 10th Gen - (4 GB/1 TB...  Rs 33,990   \n",
       "\n",
       "                                   Processor            RAM  \\\n",
       "0         Intel Core i3 Processor (10th Gen)  8 GB DDR4 RAM   \n",
       "1             AMD APU Dual Core A6 Processor  4 GB DDR4 RAM   \n",
       "2         Intel Core i5 Processor (10th Gen)  8 GB DDR4 RAM   \n",
       "3  AMD Ryzen 5 Quad Core Processor (2nd Gen)  8 GB DDR4 RAM   \n",
       "4         Intel Core i3 Processor (10th Gen)  4 GB DDR4 RAM   \n",
       "\n",
       "                     Operating System              Storage  \\\n",
       "0  64 bit Windows 10 Operating System             1 TB HDD   \n",
       "1  64 bit Windows 10 Operating System             1 TB HDD   \n",
       "2  64 bit Windows 10 Operating System  1 TB HDD|256 GB SSD   \n",
       "3  64 bit Windows 10 Operating System           512 GB SSD   \n",
       "4  64 bit Windows 10 Operating System             1 TB HDD   \n",
       "\n",
       "                        Display  Rating  \n",
       "0  39.62 cm (15.6 inch) Display     3.6  \n",
       "1  39.62 cm (15.6 inch) Display     4.0  \n",
       "2  39.62 cm (15.6 inch) Display     4.3  \n",
       "3    35.56 cm (14 inch) Display     4.4  \n",
       "4    35.56 cm (14 inch) Display     3.8  "
      ]
     },
     "execution_count": 50,
     "metadata": {},
     "output_type": "execute_result"
    }
   ],
   "source": [
    "data=pd.read_csv(\"data/laptop_data.csv\")\n",
    "data.head()"
   ]
  },
  {
   "cell_type": "code",
   "execution_count": 51,
   "metadata": {
    "colab": {
     "base_uri": "https://localhost:8080/"
    },
    "id": "JKu4cfOoUR9n",
    "outputId": "781930c8-fc6a-47d5-85ca-811fac457c4b"
   },
   "outputs": [
    {
     "data": {
      "text/plain": [
       "(898, 8)"
      ]
     },
     "execution_count": 51,
     "metadata": {},
     "output_type": "execute_result"
    }
   ],
   "source": [
    "data.shape"
   ]
  },
  {
   "cell_type": "code",
   "execution_count": 52,
   "metadata": {
    "colab": {
     "base_uri": "https://localhost:8080/"
    },
    "id": "szxzqC0uRfiG",
    "outputId": "2395789c-cbba-42da-bc26-5cbf5257c816"
   },
   "outputs": [
    {
     "data": {
      "text/plain": [
       "count           898\n",
       "unique          385\n",
       "top       Rs 41,990\n",
       "freq             24\n",
       "Name: Price, dtype: object"
      ]
     },
     "execution_count": 52,
     "metadata": {},
     "output_type": "execute_result"
    }
   ],
   "source": [
    "data.Price.describe()"
   ]
  },
  {
   "cell_type": "markdown",
   "metadata": {
    "id": "bOxOHVZzg7aX"
   },
   "source": [
    "**Checking for missing values**"
   ]
  },
  {
   "cell_type": "code",
   "execution_count": 53,
   "metadata": {
    "colab": {
     "base_uri": "https://localhost:8080/"
    },
    "id": "6p-LM64ERfk7",
    "outputId": "a9414512-7803-4d58-ea18-b4aa4197e968"
   },
   "outputs": [
    {
     "data": {
      "text/plain": [
       "Product             0\n",
       "Price               0\n",
       "Processor           0\n",
       "RAM                 0\n",
       "Operating System    0\n",
       "Storage             1\n",
       "Display             0\n",
       "Rating              0\n",
       "dtype: int64"
      ]
     },
     "execution_count": 53,
     "metadata": {},
     "output_type": "execute_result"
    }
   ],
   "source": [
    "data.isnull().sum()"
   ]
  },
  {
   "cell_type": "markdown",
   "metadata": {
    "id": "SqZXUVOZhFpL"
   },
   "source": [
    "**Imputing the missing value**"
   ]
  },
  {
   "cell_type": "code",
   "execution_count": 54,
   "metadata": {
    "colab": {
     "base_uri": "https://localhost:8080/"
    },
    "id": "3R-IXHg5Rfpy",
    "outputId": "7933203e-d57a-4188-901a-725e1ebcd708"
   },
   "outputs": [
    {
     "data": {
      "text/plain": [
       "Product             0\n",
       "Price               0\n",
       "Processor           0\n",
       "RAM                 0\n",
       "Operating System    0\n",
       "Storage             0\n",
       "Display             0\n",
       "Rating              0\n",
       "dtype: int64"
      ]
     },
     "execution_count": 54,
     "metadata": {},
     "output_type": "execute_result"
    }
   ],
   "source": [
    "#Taking the mode of Storage and filling the missed value in the column with the most frequent value of the column\n",
    "\n",
    "data[\"Storage\"]=data[\"Storage\"].fillna(data[\"Storage\"].mode()[0])\n",
    "data.isnull().sum()"
   ]
  },
  {
   "cell_type": "code",
   "execution_count": 55,
   "metadata": {
    "colab": {
     "base_uri": "https://localhost:8080/",
     "height": 206
    },
    "id": "irx16bOlboPl",
    "outputId": "7c8a3ba2-f980-4563-c440-e7a8fdcad8ff"
   },
   "outputs": [
    {
     "data": {
      "text/html": [
       "<div>\n",
       "<style scoped>\n",
       "    .dataframe tbody tr th:only-of-type {\n",
       "        vertical-align: middle;\n",
       "    }\n",
       "\n",
       "    .dataframe tbody tr th {\n",
       "        vertical-align: top;\n",
       "    }\n",
       "\n",
       "    .dataframe thead th {\n",
       "        text-align: right;\n",
       "    }\n",
       "</style>\n",
       "<table border=\"1\" class=\"dataframe\">\n",
       "  <thead>\n",
       "    <tr style=\"text-align: right;\">\n",
       "      <th></th>\n",
       "      <th>Product</th>\n",
       "      <th>Price</th>\n",
       "      <th>Processor</th>\n",
       "      <th>RAM</th>\n",
       "      <th>Operating System</th>\n",
       "      <th>Storage</th>\n",
       "      <th>Display</th>\n",
       "      <th>Rating</th>\n",
       "    </tr>\n",
       "  </thead>\n",
       "  <tbody>\n",
       "    <tr>\n",
       "      <th>0</th>\n",
       "      <td>Dell Inspiron Core</td>\n",
       "      <td>Rs 39,990</td>\n",
       "      <td>Intel Core i3 Processor (10th Gen)</td>\n",
       "      <td>8 GB DDR4 RAM</td>\n",
       "      <td>64 bit Windows 10 Operating System</td>\n",
       "      <td>1 TB HDD</td>\n",
       "      <td>39.62 cm (15.6 inch) Display</td>\n",
       "      <td>3.6</td>\n",
       "    </tr>\n",
       "    <tr>\n",
       "      <th>1</th>\n",
       "      <td>Lenovo Ideapad S145</td>\n",
       "      <td>Rs 22,990</td>\n",
       "      <td>AMD APU Dual Core A6 Processor</td>\n",
       "      <td>4 GB DDR4 RAM</td>\n",
       "      <td>64 bit Windows 10 Operating System</td>\n",
       "      <td>1 TB HDD</td>\n",
       "      <td>39.62 cm (15.6 inch) Display</td>\n",
       "      <td>4.0</td>\n",
       "    </tr>\n",
       "    <tr>\n",
       "      <th>2</th>\n",
       "      <td>HP 15s Core</td>\n",
       "      <td>Rs 53,990</td>\n",
       "      <td>Intel Core i5 Processor (10th Gen)</td>\n",
       "      <td>8 GB DDR4 RAM</td>\n",
       "      <td>64 bit Windows 10 Operating System</td>\n",
       "      <td>1 TB HDD|256 GB SSD</td>\n",
       "      <td>39.62 cm (15.6 inch) Display</td>\n",
       "      <td>4.3</td>\n",
       "    </tr>\n",
       "    <tr>\n",
       "      <th>3</th>\n",
       "      <td>Asus VivoBook 14</td>\n",
       "      <td>Rs 42,990</td>\n",
       "      <td>AMD Ryzen 5 Quad Core Processor (2nd Gen)</td>\n",
       "      <td>8 GB DDR4 RAM</td>\n",
       "      <td>64 bit Windows 10 Operating System</td>\n",
       "      <td>512 GB SSD</td>\n",
       "      <td>35.56 cm (14 inch) Display</td>\n",
       "      <td>4.4</td>\n",
       "    </tr>\n",
       "    <tr>\n",
       "      <th>4</th>\n",
       "      <td>Lenovo Ideapad 3</td>\n",
       "      <td>Rs 33,990</td>\n",
       "      <td>Intel Core i3 Processor (10th Gen)</td>\n",
       "      <td>4 GB DDR4 RAM</td>\n",
       "      <td>64 bit Windows 10 Operating System</td>\n",
       "      <td>1 TB HDD</td>\n",
       "      <td>35.56 cm (14 inch) Display</td>\n",
       "      <td>3.8</td>\n",
       "    </tr>\n",
       "  </tbody>\n",
       "</table>\n",
       "</div>"
      ],
      "text/plain": [
       "               Product      Price                                  Processor  \\\n",
       "0   Dell Inspiron Core  Rs 39,990         Intel Core i3 Processor (10th Gen)   \n",
       "1  Lenovo Ideapad S145  Rs 22,990             AMD APU Dual Core A6 Processor   \n",
       "2          HP 15s Core  Rs 53,990         Intel Core i5 Processor (10th Gen)   \n",
       "3     Asus VivoBook 14  Rs 42,990  AMD Ryzen 5 Quad Core Processor (2nd Gen)   \n",
       "4     Lenovo Ideapad 3  Rs 33,990         Intel Core i3 Processor (10th Gen)   \n",
       "\n",
       "             RAM                    Operating System              Storage  \\\n",
       "0  8 GB DDR4 RAM  64 bit Windows 10 Operating System             1 TB HDD   \n",
       "1  4 GB DDR4 RAM  64 bit Windows 10 Operating System             1 TB HDD   \n",
       "2  8 GB DDR4 RAM  64 bit Windows 10 Operating System  1 TB HDD|256 GB SSD   \n",
       "3  8 GB DDR4 RAM  64 bit Windows 10 Operating System           512 GB SSD   \n",
       "4  4 GB DDR4 RAM  64 bit Windows 10 Operating System             1 TB HDD   \n",
       "\n",
       "                        Display  Rating  \n",
       "0  39.62 cm (15.6 inch) Display     3.6  \n",
       "1  39.62 cm (15.6 inch) Display     4.0  \n",
       "2  39.62 cm (15.6 inch) Display     4.3  \n",
       "3    35.56 cm (14 inch) Display     4.4  \n",
       "4    35.56 cm (14 inch) Display     3.8  "
      ]
     },
     "execution_count": 55,
     "metadata": {},
     "output_type": "execute_result"
    }
   ],
   "source": [
    "data[\"Product\"]= data[\"Product\"].str.split().str[0:3].apply(lambda parts: \" \".join(parts))\n",
    "data.head()"
   ]
  },
  {
   "cell_type": "markdown",
   "metadata": {
    "id": "_EJ7CDQuhQdi"
   },
   "source": [
    "#### Creating a new column that contains the name of the company that manufactured the laptop\n"
   ]
  },
  {
   "cell_type": "code",
   "execution_count": 56,
   "metadata": {
    "colab": {
     "base_uri": "https://localhost:8080/",
     "height": 250
    },
    "id": "3xAZ4Y7CboZW",
    "outputId": "49bad5a1-49db-476d-acd9-ac6b04154f5f"
   },
   "outputs": [
    {
     "data": {
      "text/html": [
       "<div>\n",
       "<style scoped>\n",
       "    .dataframe tbody tr th:only-of-type {\n",
       "        vertical-align: middle;\n",
       "    }\n",
       "\n",
       "    .dataframe tbody tr th {\n",
       "        vertical-align: top;\n",
       "    }\n",
       "\n",
       "    .dataframe thead th {\n",
       "        text-align: right;\n",
       "    }\n",
       "</style>\n",
       "<table border=\"1\" class=\"dataframe\">\n",
       "  <thead>\n",
       "    <tr style=\"text-align: right;\">\n",
       "      <th></th>\n",
       "      <th>Product</th>\n",
       "      <th>Price</th>\n",
       "      <th>Processor</th>\n",
       "      <th>RAM</th>\n",
       "      <th>Operating System</th>\n",
       "      <th>Storage</th>\n",
       "      <th>Display</th>\n",
       "      <th>Rating</th>\n",
       "      <th>Company</th>\n",
       "    </tr>\n",
       "  </thead>\n",
       "  <tbody>\n",
       "    <tr>\n",
       "      <th>0</th>\n",
       "      <td>Dell Inspiron Core</td>\n",
       "      <td>Rs 39,990</td>\n",
       "      <td>Intel Core i3 Processor (10th Gen)</td>\n",
       "      <td>8 GB DDR4 RAM</td>\n",
       "      <td>64 bit Windows 10 Operating System</td>\n",
       "      <td>1 TB HDD</td>\n",
       "      <td>39.62 cm (15.6 inch) Display</td>\n",
       "      <td>3.6</td>\n",
       "      <td>Dell</td>\n",
       "    </tr>\n",
       "    <tr>\n",
       "      <th>1</th>\n",
       "      <td>Lenovo Ideapad S145</td>\n",
       "      <td>Rs 22,990</td>\n",
       "      <td>AMD APU Dual Core A6 Processor</td>\n",
       "      <td>4 GB DDR4 RAM</td>\n",
       "      <td>64 bit Windows 10 Operating System</td>\n",
       "      <td>1 TB HDD</td>\n",
       "      <td>39.62 cm (15.6 inch) Display</td>\n",
       "      <td>4.0</td>\n",
       "      <td>Lenovo</td>\n",
       "    </tr>\n",
       "    <tr>\n",
       "      <th>2</th>\n",
       "      <td>HP 15s Core</td>\n",
       "      <td>Rs 53,990</td>\n",
       "      <td>Intel Core i5 Processor (10th Gen)</td>\n",
       "      <td>8 GB DDR4 RAM</td>\n",
       "      <td>64 bit Windows 10 Operating System</td>\n",
       "      <td>1 TB HDD|256 GB SSD</td>\n",
       "      <td>39.62 cm (15.6 inch) Display</td>\n",
       "      <td>4.3</td>\n",
       "      <td>HP</td>\n",
       "    </tr>\n",
       "    <tr>\n",
       "      <th>3</th>\n",
       "      <td>Asus VivoBook 14</td>\n",
       "      <td>Rs 42,990</td>\n",
       "      <td>AMD Ryzen 5 Quad Core Processor (2nd Gen)</td>\n",
       "      <td>8 GB DDR4 RAM</td>\n",
       "      <td>64 bit Windows 10 Operating System</td>\n",
       "      <td>512 GB SSD</td>\n",
       "      <td>35.56 cm (14 inch) Display</td>\n",
       "      <td>4.4</td>\n",
       "      <td>Asus</td>\n",
       "    </tr>\n",
       "    <tr>\n",
       "      <th>4</th>\n",
       "      <td>Lenovo Ideapad 3</td>\n",
       "      <td>Rs 33,990</td>\n",
       "      <td>Intel Core i3 Processor (10th Gen)</td>\n",
       "      <td>4 GB DDR4 RAM</td>\n",
       "      <td>64 bit Windows 10 Operating System</td>\n",
       "      <td>1 TB HDD</td>\n",
       "      <td>35.56 cm (14 inch) Display</td>\n",
       "      <td>3.8</td>\n",
       "      <td>Lenovo</td>\n",
       "    </tr>\n",
       "  </tbody>\n",
       "</table>\n",
       "</div>"
      ],
      "text/plain": [
       "               Product      Price                                  Processor  \\\n",
       "0   Dell Inspiron Core  Rs 39,990         Intel Core i3 Processor (10th Gen)   \n",
       "1  Lenovo Ideapad S145  Rs 22,990             AMD APU Dual Core A6 Processor   \n",
       "2          HP 15s Core  Rs 53,990         Intel Core i5 Processor (10th Gen)   \n",
       "3     Asus VivoBook 14  Rs 42,990  AMD Ryzen 5 Quad Core Processor (2nd Gen)   \n",
       "4     Lenovo Ideapad 3  Rs 33,990         Intel Core i3 Processor (10th Gen)   \n",
       "\n",
       "             RAM                    Operating System              Storage  \\\n",
       "0  8 GB DDR4 RAM  64 bit Windows 10 Operating System             1 TB HDD   \n",
       "1  4 GB DDR4 RAM  64 bit Windows 10 Operating System             1 TB HDD   \n",
       "2  8 GB DDR4 RAM  64 bit Windows 10 Operating System  1 TB HDD|256 GB SSD   \n",
       "3  8 GB DDR4 RAM  64 bit Windows 10 Operating System           512 GB SSD   \n",
       "4  4 GB DDR4 RAM  64 bit Windows 10 Operating System             1 TB HDD   \n",
       "\n",
       "                        Display  Rating Company  \n",
       "0  39.62 cm (15.6 inch) Display     3.6    Dell  \n",
       "1  39.62 cm (15.6 inch) Display     4.0  Lenovo  \n",
       "2  39.62 cm (15.6 inch) Display     4.3      HP  \n",
       "3    35.56 cm (14 inch) Display     4.4    Asus  \n",
       "4    35.56 cm (14 inch) Display     3.8  Lenovo  "
      ]
     },
     "execution_count": 56,
     "metadata": {},
     "output_type": "execute_result"
    }
   ],
   "source": [
    "#Taking the first word which is the Brand name from the Product column and creating a new column named Company \n",
    "\n",
    "data[\"Company\"]=data[\"Product\"].str.split().str[0]\n",
    "data.head()"
   ]
  },
  {
   "cell_type": "markdown",
   "metadata": {
    "id": "wCkgv22Bhjuz"
   },
   "source": [
    "### Removing the string part of the RAM column\n"
   ]
  },
  {
   "cell_type": "code",
   "execution_count": 57,
   "metadata": {
    "colab": {
     "base_uri": "https://localhost:8080/",
     "height": 206
    },
    "id": "9J78kXxdbocA",
    "outputId": "df6960d2-a9c9-426d-8059-1c96a7288149"
   },
   "outputs": [
    {
     "data": {
      "text/html": [
       "<div>\n",
       "<style scoped>\n",
       "    .dataframe tbody tr th:only-of-type {\n",
       "        vertical-align: middle;\n",
       "    }\n",
       "\n",
       "    .dataframe tbody tr th {\n",
       "        vertical-align: top;\n",
       "    }\n",
       "\n",
       "    .dataframe thead th {\n",
       "        text-align: right;\n",
       "    }\n",
       "</style>\n",
       "<table border=\"1\" class=\"dataframe\">\n",
       "  <thead>\n",
       "    <tr style=\"text-align: right;\">\n",
       "      <th></th>\n",
       "      <th>Product</th>\n",
       "      <th>Price</th>\n",
       "      <th>Processor</th>\n",
       "      <th>RAM</th>\n",
       "      <th>Operating System</th>\n",
       "      <th>Storage</th>\n",
       "      <th>Display</th>\n",
       "      <th>Rating</th>\n",
       "      <th>Company</th>\n",
       "    </tr>\n",
       "  </thead>\n",
       "  <tbody>\n",
       "    <tr>\n",
       "      <th>0</th>\n",
       "      <td>Dell Inspiron Core</td>\n",
       "      <td>Rs 39,990</td>\n",
       "      <td>Intel Core i3 Processor (10th Gen)</td>\n",
       "      <td>8</td>\n",
       "      <td>64 bit Windows 10 Operating System</td>\n",
       "      <td>1 TB HDD</td>\n",
       "      <td>39.62 cm (15.6 inch) Display</td>\n",
       "      <td>3.6</td>\n",
       "      <td>Dell</td>\n",
       "    </tr>\n",
       "    <tr>\n",
       "      <th>1</th>\n",
       "      <td>Lenovo Ideapad S145</td>\n",
       "      <td>Rs 22,990</td>\n",
       "      <td>AMD APU Dual Core A6 Processor</td>\n",
       "      <td>4</td>\n",
       "      <td>64 bit Windows 10 Operating System</td>\n",
       "      <td>1 TB HDD</td>\n",
       "      <td>39.62 cm (15.6 inch) Display</td>\n",
       "      <td>4.0</td>\n",
       "      <td>Lenovo</td>\n",
       "    </tr>\n",
       "    <tr>\n",
       "      <th>2</th>\n",
       "      <td>HP 15s Core</td>\n",
       "      <td>Rs 53,990</td>\n",
       "      <td>Intel Core i5 Processor (10th Gen)</td>\n",
       "      <td>8</td>\n",
       "      <td>64 bit Windows 10 Operating System</td>\n",
       "      <td>1 TB HDD|256 GB SSD</td>\n",
       "      <td>39.62 cm (15.6 inch) Display</td>\n",
       "      <td>4.3</td>\n",
       "      <td>HP</td>\n",
       "    </tr>\n",
       "    <tr>\n",
       "      <th>3</th>\n",
       "      <td>Asus VivoBook 14</td>\n",
       "      <td>Rs 42,990</td>\n",
       "      <td>AMD Ryzen 5 Quad Core Processor (2nd Gen)</td>\n",
       "      <td>8</td>\n",
       "      <td>64 bit Windows 10 Operating System</td>\n",
       "      <td>512 GB SSD</td>\n",
       "      <td>35.56 cm (14 inch) Display</td>\n",
       "      <td>4.4</td>\n",
       "      <td>Asus</td>\n",
       "    </tr>\n",
       "    <tr>\n",
       "      <th>4</th>\n",
       "      <td>Lenovo Ideapad 3</td>\n",
       "      <td>Rs 33,990</td>\n",
       "      <td>Intel Core i3 Processor (10th Gen)</td>\n",
       "      <td>4</td>\n",
       "      <td>64 bit Windows 10 Operating System</td>\n",
       "      <td>1 TB HDD</td>\n",
       "      <td>35.56 cm (14 inch) Display</td>\n",
       "      <td>3.8</td>\n",
       "      <td>Lenovo</td>\n",
       "    </tr>\n",
       "  </tbody>\n",
       "</table>\n",
       "</div>"
      ],
      "text/plain": [
       "               Product      Price                                  Processor  \\\n",
       "0   Dell Inspiron Core  Rs 39,990         Intel Core i3 Processor (10th Gen)   \n",
       "1  Lenovo Ideapad S145  Rs 22,990             AMD APU Dual Core A6 Processor   \n",
       "2          HP 15s Core  Rs 53,990         Intel Core i5 Processor (10th Gen)   \n",
       "3     Asus VivoBook 14  Rs 42,990  AMD Ryzen 5 Quad Core Processor (2nd Gen)   \n",
       "4     Lenovo Ideapad 3  Rs 33,990         Intel Core i3 Processor (10th Gen)   \n",
       "\n",
       "   RAM                    Operating System              Storage  \\\n",
       "0    8  64 bit Windows 10 Operating System             1 TB HDD   \n",
       "1    4  64 bit Windows 10 Operating System             1 TB HDD   \n",
       "2    8  64 bit Windows 10 Operating System  1 TB HDD|256 GB SSD   \n",
       "3    8  64 bit Windows 10 Operating System           512 GB SSD   \n",
       "4    4  64 bit Windows 10 Operating System             1 TB HDD   \n",
       "\n",
       "                        Display  Rating Company  \n",
       "0  39.62 cm (15.6 inch) Display     3.6    Dell  \n",
       "1  39.62 cm (15.6 inch) Display     4.0  Lenovo  \n",
       "2  39.62 cm (15.6 inch) Display     4.3      HP  \n",
       "3    35.56 cm (14 inch) Display     4.4    Asus  \n",
       "4    35.56 cm (14 inch) Display     3.8  Lenovo  "
      ]
     },
     "execution_count": 57,
     "metadata": {},
     "output_type": "execute_result"
    }
   ],
   "source": [
    "#Removing string part because it's almost same for the entire column\n",
    "\n",
    "data.RAM=data.RAM.str.split().str[0]\n",
    "data.RAM=data.RAM.astype(\"int32\")\n",
    "data.head()"
   ]
  },
  {
   "cell_type": "markdown",
   "metadata": {
    "id": "AtvL7xOxhvuV"
   },
   "source": [
    "### Removing the \"Rs\" part of the Price column and then converting it to integer datatype"
   ]
  },
  {
   "cell_type": "code",
   "execution_count": 58,
   "metadata": {
    "colab": {
     "base_uri": "https://localhost:8080/",
     "height": 206
    },
    "id": "FZU9PIhZbogw",
    "outputId": "76c13674-9513-4360-a265-bb32093de645"
   },
   "outputs": [
    {
     "data": {
      "text/html": [
       "<div>\n",
       "<style scoped>\n",
       "    .dataframe tbody tr th:only-of-type {\n",
       "        vertical-align: middle;\n",
       "    }\n",
       "\n",
       "    .dataframe tbody tr th {\n",
       "        vertical-align: top;\n",
       "    }\n",
       "\n",
       "    .dataframe thead th {\n",
       "        text-align: right;\n",
       "    }\n",
       "</style>\n",
       "<table border=\"1\" class=\"dataframe\">\n",
       "  <thead>\n",
       "    <tr style=\"text-align: right;\">\n",
       "      <th></th>\n",
       "      <th>Product</th>\n",
       "      <th>Price</th>\n",
       "      <th>Processor</th>\n",
       "      <th>RAM</th>\n",
       "      <th>Operating System</th>\n",
       "      <th>Storage</th>\n",
       "      <th>Display</th>\n",
       "      <th>Rating</th>\n",
       "      <th>Company</th>\n",
       "    </tr>\n",
       "  </thead>\n",
       "  <tbody>\n",
       "    <tr>\n",
       "      <th>0</th>\n",
       "      <td>Dell Inspiron Core</td>\n",
       "      <td>39,990</td>\n",
       "      <td>Intel Core i3 Processor (10th Gen)</td>\n",
       "      <td>8</td>\n",
       "      <td>64 bit Windows 10 Operating System</td>\n",
       "      <td>1 TB HDD</td>\n",
       "      <td>39.62 cm (15.6 inch) Display</td>\n",
       "      <td>3.6</td>\n",
       "      <td>Dell</td>\n",
       "    </tr>\n",
       "    <tr>\n",
       "      <th>1</th>\n",
       "      <td>Lenovo Ideapad S145</td>\n",
       "      <td>22,990</td>\n",
       "      <td>AMD APU Dual Core A6 Processor</td>\n",
       "      <td>4</td>\n",
       "      <td>64 bit Windows 10 Operating System</td>\n",
       "      <td>1 TB HDD</td>\n",
       "      <td>39.62 cm (15.6 inch) Display</td>\n",
       "      <td>4.0</td>\n",
       "      <td>Lenovo</td>\n",
       "    </tr>\n",
       "    <tr>\n",
       "      <th>2</th>\n",
       "      <td>HP 15s Core</td>\n",
       "      <td>53,990</td>\n",
       "      <td>Intel Core i5 Processor (10th Gen)</td>\n",
       "      <td>8</td>\n",
       "      <td>64 bit Windows 10 Operating System</td>\n",
       "      <td>1 TB HDD|256 GB SSD</td>\n",
       "      <td>39.62 cm (15.6 inch) Display</td>\n",
       "      <td>4.3</td>\n",
       "      <td>HP</td>\n",
       "    </tr>\n",
       "    <tr>\n",
       "      <th>3</th>\n",
       "      <td>Asus VivoBook 14</td>\n",
       "      <td>42,990</td>\n",
       "      <td>AMD Ryzen 5 Quad Core Processor (2nd Gen)</td>\n",
       "      <td>8</td>\n",
       "      <td>64 bit Windows 10 Operating System</td>\n",
       "      <td>512 GB SSD</td>\n",
       "      <td>35.56 cm (14 inch) Display</td>\n",
       "      <td>4.4</td>\n",
       "      <td>Asus</td>\n",
       "    </tr>\n",
       "    <tr>\n",
       "      <th>4</th>\n",
       "      <td>Lenovo Ideapad 3</td>\n",
       "      <td>33,990</td>\n",
       "      <td>Intel Core i3 Processor (10th Gen)</td>\n",
       "      <td>4</td>\n",
       "      <td>64 bit Windows 10 Operating System</td>\n",
       "      <td>1 TB HDD</td>\n",
       "      <td>35.56 cm (14 inch) Display</td>\n",
       "      <td>3.8</td>\n",
       "      <td>Lenovo</td>\n",
       "    </tr>\n",
       "  </tbody>\n",
       "</table>\n",
       "</div>"
      ],
      "text/plain": [
       "               Product   Price                                  Processor  \\\n",
       "0   Dell Inspiron Core  39,990         Intel Core i3 Processor (10th Gen)   \n",
       "1  Lenovo Ideapad S145  22,990             AMD APU Dual Core A6 Processor   \n",
       "2          HP 15s Core  53,990         Intel Core i5 Processor (10th Gen)   \n",
       "3     Asus VivoBook 14  42,990  AMD Ryzen 5 Quad Core Processor (2nd Gen)   \n",
       "4     Lenovo Ideapad 3  33,990         Intel Core i3 Processor (10th Gen)   \n",
       "\n",
       "   RAM                    Operating System              Storage  \\\n",
       "0    8  64 bit Windows 10 Operating System             1 TB HDD   \n",
       "1    4  64 bit Windows 10 Operating System             1 TB HDD   \n",
       "2    8  64 bit Windows 10 Operating System  1 TB HDD|256 GB SSD   \n",
       "3    8  64 bit Windows 10 Operating System           512 GB SSD   \n",
       "4    4  64 bit Windows 10 Operating System             1 TB HDD   \n",
       "\n",
       "                        Display  Rating Company  \n",
       "0  39.62 cm (15.6 inch) Display     3.6    Dell  \n",
       "1  39.62 cm (15.6 inch) Display     4.0  Lenovo  \n",
       "2  39.62 cm (15.6 inch) Display     4.3      HP  \n",
       "3    35.56 cm (14 inch) Display     4.4    Asus  \n",
       "4    35.56 cm (14 inch) Display     3.8  Lenovo  "
      ]
     },
     "execution_count": 58,
     "metadata": {},
     "output_type": "execute_result"
    }
   ],
   "source": [
    "#Splitting the elements and removing the \"Rs\" part to obtain numbers\n",
    "data[\"Price\"] = data[\"Price\"].str.split().str[1]\n",
    "data.head()"
   ]
  },
  {
   "cell_type": "code",
   "execution_count": 59,
   "metadata": {
    "colab": {
     "base_uri": "https://localhost:8080/"
    },
    "id": "RoJ7r06xbok2",
    "outputId": "09f8d573-f7c4-46b1-d309-3e3d46b76550"
   },
   "outputs": [
    {
     "name": "stdout",
     "output_type": "stream",
     "text": [
      "<class 'pandas.core.frame.DataFrame'>\n",
      "RangeIndex: 898 entries, 0 to 897\n",
      "Data columns (total 9 columns):\n",
      " #   Column            Non-Null Count  Dtype  \n",
      "---  ------            --------------  -----  \n",
      " 0   Product           898 non-null    object \n",
      " 1   Price             898 non-null    object \n",
      " 2   Processor         898 non-null    object \n",
      " 3   RAM               898 non-null    int32  \n",
      " 4   Operating System  898 non-null    object \n",
      " 5   Storage           898 non-null    object \n",
      " 6   Display           898 non-null    object \n",
      " 7   Rating            898 non-null    float64\n",
      " 8   Company           898 non-null    object \n",
      "dtypes: float64(1), int32(1), object(7)\n",
      "memory usage: 59.8+ KB\n"
     ]
    }
   ],
   "source": [
    "data.info()"
   ]
  },
  {
   "cell_type": "code",
   "execution_count": 60,
   "metadata": {
    "id": "FsIl7Zu0boo5"
   },
   "outputs": [],
   "source": [
    "#Removing the commas so that we can change the datatype of the column to int32\n",
    "data.Price = data.Price.str.replace(\",\",\"\")\n"
   ]
  },
  {
   "cell_type": "code",
   "execution_count": 61,
   "metadata": {
    "id": "jp5YRBsGbou9"
   },
   "outputs": [],
   "source": [
    "data.Price=data.Price.astype(\"int32\")"
   ]
  },
  {
   "cell_type": "code",
   "execution_count": 62,
   "metadata": {
    "colab": {
     "base_uri": "https://localhost:8080/",
     "height": 206
    },
    "id": "c7dx02ZT7NF-",
    "outputId": "516cf29d-0e71-4d35-d9a4-8503eac2ee98"
   },
   "outputs": [
    {
     "data": {
      "text/html": [
       "<div>\n",
       "<style scoped>\n",
       "    .dataframe tbody tr th:only-of-type {\n",
       "        vertical-align: middle;\n",
       "    }\n",
       "\n",
       "    .dataframe tbody tr th {\n",
       "        vertical-align: top;\n",
       "    }\n",
       "\n",
       "    .dataframe thead th {\n",
       "        text-align: right;\n",
       "    }\n",
       "</style>\n",
       "<table border=\"1\" class=\"dataframe\">\n",
       "  <thead>\n",
       "    <tr style=\"text-align: right;\">\n",
       "      <th></th>\n",
       "      <th>Product</th>\n",
       "      <th>Price</th>\n",
       "      <th>Processor</th>\n",
       "      <th>RAM</th>\n",
       "      <th>Operating System</th>\n",
       "      <th>Storage</th>\n",
       "      <th>Display</th>\n",
       "      <th>Rating</th>\n",
       "      <th>Company</th>\n",
       "    </tr>\n",
       "  </thead>\n",
       "  <tbody>\n",
       "    <tr>\n",
       "      <th>0</th>\n",
       "      <td>Dell Inspiron Core</td>\n",
       "      <td>39990</td>\n",
       "      <td>Intel Core i3 Processor (10th Gen)</td>\n",
       "      <td>8</td>\n",
       "      <td>64 bit Windows 10 Operating System</td>\n",
       "      <td>1 TB HDD</td>\n",
       "      <td>39.62 cm (15.6 inch) Display</td>\n",
       "      <td>3.6</td>\n",
       "      <td>Dell</td>\n",
       "    </tr>\n",
       "    <tr>\n",
       "      <th>1</th>\n",
       "      <td>Lenovo Ideapad S145</td>\n",
       "      <td>22990</td>\n",
       "      <td>AMD APU Dual Core A6 Processor</td>\n",
       "      <td>4</td>\n",
       "      <td>64 bit Windows 10 Operating System</td>\n",
       "      <td>1 TB HDD</td>\n",
       "      <td>39.62 cm (15.6 inch) Display</td>\n",
       "      <td>4.0</td>\n",
       "      <td>Lenovo</td>\n",
       "    </tr>\n",
       "    <tr>\n",
       "      <th>2</th>\n",
       "      <td>HP 15s Core</td>\n",
       "      <td>53990</td>\n",
       "      <td>Intel Core i5 Processor (10th Gen)</td>\n",
       "      <td>8</td>\n",
       "      <td>64 bit Windows 10 Operating System</td>\n",
       "      <td>1 TB HDD|256 GB SSD</td>\n",
       "      <td>39.62 cm (15.6 inch) Display</td>\n",
       "      <td>4.3</td>\n",
       "      <td>HP</td>\n",
       "    </tr>\n",
       "    <tr>\n",
       "      <th>3</th>\n",
       "      <td>Asus VivoBook 14</td>\n",
       "      <td>42990</td>\n",
       "      <td>AMD Ryzen 5 Quad Core Processor (2nd Gen)</td>\n",
       "      <td>8</td>\n",
       "      <td>64 bit Windows 10 Operating System</td>\n",
       "      <td>512 GB SSD</td>\n",
       "      <td>35.56 cm (14 inch) Display</td>\n",
       "      <td>4.4</td>\n",
       "      <td>Asus</td>\n",
       "    </tr>\n",
       "    <tr>\n",
       "      <th>4</th>\n",
       "      <td>Lenovo Ideapad 3</td>\n",
       "      <td>33990</td>\n",
       "      <td>Intel Core i3 Processor (10th Gen)</td>\n",
       "      <td>4</td>\n",
       "      <td>64 bit Windows 10 Operating System</td>\n",
       "      <td>1 TB HDD</td>\n",
       "      <td>35.56 cm (14 inch) Display</td>\n",
       "      <td>3.8</td>\n",
       "      <td>Lenovo</td>\n",
       "    </tr>\n",
       "  </tbody>\n",
       "</table>\n",
       "</div>"
      ],
      "text/plain": [
       "               Product  Price                                  Processor  RAM  \\\n",
       "0   Dell Inspiron Core  39990         Intel Core i3 Processor (10th Gen)    8   \n",
       "1  Lenovo Ideapad S145  22990             AMD APU Dual Core A6 Processor    4   \n",
       "2          HP 15s Core  53990         Intel Core i5 Processor (10th Gen)    8   \n",
       "3     Asus VivoBook 14  42990  AMD Ryzen 5 Quad Core Processor (2nd Gen)    8   \n",
       "4     Lenovo Ideapad 3  33990         Intel Core i3 Processor (10th Gen)    4   \n",
       "\n",
       "                     Operating System              Storage  \\\n",
       "0  64 bit Windows 10 Operating System             1 TB HDD   \n",
       "1  64 bit Windows 10 Operating System             1 TB HDD   \n",
       "2  64 bit Windows 10 Operating System  1 TB HDD|256 GB SSD   \n",
       "3  64 bit Windows 10 Operating System           512 GB SSD   \n",
       "4  64 bit Windows 10 Operating System             1 TB HDD   \n",
       "\n",
       "                        Display  Rating Company  \n",
       "0  39.62 cm (15.6 inch) Display     3.6    Dell  \n",
       "1  39.62 cm (15.6 inch) Display     4.0  Lenovo  \n",
       "2  39.62 cm (15.6 inch) Display     4.3      HP  \n",
       "3    35.56 cm (14 inch) Display     4.4    Asus  \n",
       "4    35.56 cm (14 inch) Display     3.8  Lenovo  "
      ]
     },
     "execution_count": 62,
     "metadata": {},
     "output_type": "execute_result"
    }
   ],
   "source": [
    "data.head()\n",
    "#This is how our data looks like now"
   ]
  },
  {
   "cell_type": "markdown",
   "metadata": {
    "id": "OjWthUhgjt2k"
   },
   "source": [
    "## Plotting the Graphs to gain more insight of our data"
   ]
  },
  {
   "cell_type": "code",
   "execution_count": 63,
   "metadata": {
    "colab": {
     "base_uri": "https://localhost:8080/",
     "height": 0
    },
    "id": "U85uQfNl7NIm",
    "outputId": "b75bfa01-867f-48f4-b44e-bcd1f7311fb3"
   },
   "outputs": [
    {
     "name": "stderr",
     "output_type": "stream",
     "text": [
      "C:\\Users\\Himanshu\\anaconda3\\lib\\site-packages\\seaborn\\_decorators.py:36: FutureWarning: Pass the following variable as a keyword arg: x. From version 0.12, the only valid positional argument will be `data`, and passing other arguments without an explicit keyword will result in an error or misinterpretation.\n",
      "  warnings.warn(\n"
     ]
    },
    {
     "data": {
      "text/plain": [
       "(array([-50000.,      0.,  50000., 100000., 150000., 200000., 250000.,\n",
       "        300000., 350000., 400000., 450000.]),\n",
       " [Text(0, 0, ''),\n",
       "  Text(0, 0, ''),\n",
       "  Text(0, 0, ''),\n",
       "  Text(0, 0, ''),\n",
       "  Text(0, 0, ''),\n",
       "  Text(0, 0, ''),\n",
       "  Text(0, 0, ''),\n",
       "  Text(0, 0, ''),\n",
       "  Text(0, 0, ''),\n",
       "  Text(0, 0, ''),\n",
       "  Text(0, 0, '')])"
      ]
     },
     "execution_count": 63,
     "metadata": {},
     "output_type": "execute_result"
    },
    {
     "data": {
      "image/png": "[encoded data removed]",
      "text/plain": [
       "<Figure size 1440x720 with 1 Axes>"
      ]
     },
     "metadata": {
      "needs_background": "light"
     },
     "output_type": "display_data"
    }
   ],
   "source": [
    "#Plotting the boxplot will help us to find out more about the Outliers\n",
    "\n",
    "plt.figure(figsize=(20,10))\n",
    "sns.boxplot(data['Price'])\n",
    "plt.xticks(rotation=45)"
   ]
  },
  {
   "cell_type": "markdown",
   "metadata": {
    "id": "B9H8_mjLmjua"
   },
   "source": [
    "## Treating the Outliers"
   ]
  },
  {
   "cell_type": "code",
   "execution_count": 64,
   "metadata": {
    "colab": {
     "base_uri": "https://localhost:8080/"
    },
    "id": "YKDKCNzbmi-o",
    "outputId": "55dc7c5d-031d-4270-a8d2-cf6bbe4dff1f"
   },
   "outputs": [
    {
     "data": {
      "text/plain": [
       "(143220.625, -29948.375)"
      ]
     },
     "execution_count": 64,
     "metadata": {},
     "output_type": "execute_result"
    }
   ],
   "source": [
    "# Finding the upper limit and lower limit using Inter-Quartile Range method \n",
    "\n",
    "percentile_25 = data.Price.quantile(0.25)\n",
    "percentile_75 = data.Price.quantile(0.75)\n",
    "iqr = percentile_75-percentile_25\n",
    "upper_limit = percentile_75 + 1.5 * iqr\n",
    "lower_limit = percentile_25 - 1.5 * iqr\n",
    "upper_limit,lower_limit"
   ]
  },
  {
   "cell_type": "code",
   "execution_count": null,
   "metadata": {
    "id": "ziTEX6Xj5TJF"
   },
   "outputs": [],
   "source": []
  },
  {
   "cell_type": "code",
   "execution_count": 65,
   "metadata": {
    "colab": {
     "base_uri": "https://localhost:8080/"
    },
    "id": "iZ8X9GlXmjBm",
    "outputId": "3fddb542-7cfa-465b-c69d-fb526ef9c675"
   },
   "outputs": [
    {
     "data": {
      "text/plain": [
       "223440.29999999958"
      ]
     },
     "execution_count": 65,
     "metadata": {},
     "output_type": "execute_result"
    }
   ],
   "source": [
    "data.Price.quantile(0.99)-data.Price.quantile(0.01)"
   ]
  },
  {
   "cell_type": "code",
   "execution_count": 66,
   "metadata": {
    "id": "glWAMg2hmjHX"
   },
   "outputs": [],
   "source": [
    "data_without_outliers = data[(data[\"Price\"]<upper_limit)]\n"
   ]
  },
  {
   "cell_type": "code",
   "execution_count": 67,
   "metadata": {
    "colab": {
     "base_uri": "https://localhost:8080/"
    },
    "id": "uHhcdNc-z7-Q",
    "outputId": "b611e461-7a7e-4c47-92c4-e08625cfa2c6"
   },
   "outputs": [
    {
     "data": {
      "text/plain": [
       "(844, 9)"
      ]
     },
     "execution_count": 67,
     "metadata": {},
     "output_type": "execute_result"
    }
   ],
   "source": [
    "data_without_outliers.shape"
   ]
  },
  {
   "cell_type": "code",
   "execution_count": 68,
   "metadata": {
    "colab": {
     "base_uri": "https://localhost:8080/"
    },
    "id": "4IUNjakxz8Ax",
    "outputId": "8167d4da-e816-4571-fdac-a053448b3a1a"
   },
   "outputs": [
    {
     "data": {
      "text/plain": [
       "9999"
      ]
     },
     "execution_count": 68,
     "metadata": {},
     "output_type": "execute_result"
    }
   ],
   "source": [
    "data_without_outliers.Price.min()"
   ]
  },
  {
   "cell_type": "code",
   "execution_count": null,
   "metadata": {
    "id": "ABnyZgqkz8Dc"
   },
   "outputs": [],
   "source": []
  },
  {
   "cell_type": "code",
   "execution_count": 69,
   "metadata": {
    "colab": {
     "base_uri": "https://localhost:8080/",
     "height": 0
    },
    "id": "dvxlPKkRz8Hc",
    "outputId": "f9714604-bd51-4608-aac9-cac029c1b729"
   },
   "outputs": [
    {
     "name": "stderr",
     "output_type": "stream",
     "text": [
      "C:\\Users\\Himanshu\\anaconda3\\lib\\site-packages\\seaborn\\distributions.py:2619: FutureWarning: `distplot` is a deprecated function and will be removed in a future version. Please adapt your code to use either `displot` (a figure-level function with similar flexibility) or `histplot` (an axes-level function for histograms).\n",
      "  warnings.warn(msg, FutureWarning)\n"
     ]
    },
    {
     "data": {
      "text/plain": [
       "<AxesSubplot:xlabel='Price', ylabel='Density'>"
      ]
     },
     "execution_count": 69,
     "metadata": {},
     "output_type": "execute_result"
    },
    {
     "data": {
      "image/png": "[encoded data removed]",
      "text/plain": [
       "<Figure size 1152x360 with 1 Axes>"
      ]
     },
     "metadata": {
      "needs_background": "light"
     },
     "output_type": "display_data"
    }
   ],
   "source": [
    "plt.figure(figsize=(16,5))\n",
    "plt.subplot(1,2,1)\n",
    "sns.distplot(data['Price'])"
   ]
  },
  {
   "cell_type": "code",
   "execution_count": 70,
   "metadata": {
    "colab": {
     "base_uri": "https://localhost:8080/",
     "height": 0
    },
    "id": "XkdYAAF07NLT",
    "outputId": "4a93f075-e981-4270-e19e-2ed3330d0141"
   },
   "outputs": [
    {
     "data": {
      "text/plain": [
       "<AxesSubplot:xlabel='Company', ylabel='Count'>"
      ]
     },
     "execution_count": 70,
     "metadata": {},
     "output_type": "execute_result"
    },
    {
     "data": {
      "image/png": "[encoded data removed]",
      "text/plain": [
       "<Figure size 1440x720 with 1 Axes>"
      ]
     },
     "metadata": {
      "needs_background": "light"
     },
     "output_type": "display_data"
    }
   ],
   "source": [
    "plt.figure(figsize=(20,10))\n",
    "sns.histplot(data_without_outliers, x='Company')"
   ]
  },
  {
   "cell_type": "code",
   "execution_count": 71,
   "metadata": {
    "colab": {
     "base_uri": "https://localhost:8080/",
     "height": 0
    },
    "id": "nTsBcg3LUt4-",
    "outputId": "01a6be1f-efde-4c5d-9c48-e9b506f62ce4"
   },
   "outputs": [
    {
     "data": {
      "text/plain": [
       "([0, 1, 2, 3, 4, 5, 6, 7, 8, 9, 10],\n",
       " [Text(0, 0, ''),\n",
       "  Text(0, 0, ''),\n",
       "  Text(0, 0, ''),\n",
       "  Text(0, 0, ''),\n",
       "  Text(0, 0, ''),\n",
       "  Text(0, 0, ''),\n",
       "  Text(0, 0, ''),\n",
       "  Text(0, 0, ''),\n",
       "  Text(0, 0, ''),\n",
       "  Text(0, 0, ''),\n",
       "  Text(0, 0, '')])"
      ]
     },
     "execution_count": 71,
     "metadata": {},
     "output_type": "execute_result"
    },
    {
     "data": {
      "image/png": "[encoded data removed]",
      "text/plain": [
       "<Figure size 1440x720 with 1 Axes>"
      ]
     },
     "metadata": {
      "needs_background": "light"
     },
     "output_type": "display_data"
    }
   ],
   "source": [
    "plt.figure(figsize=(20,10))\n",
    "sns.histplot(data_without_outliers, x='Operating System')\n",
    "plt.xticks(rotation=90)"
   ]
  },
  {
   "cell_type": "markdown",
   "metadata": {
    "id": "tn5jvCqZD_2_"
   },
   "source": [
    "##Checking the value counts of some columns\n"
   ]
  },
  {
   "cell_type": "code",
   "execution_count": 72,
   "metadata": {
    "colab": {
     "base_uri": "https://localhost:8080/"
    },
    "id": "HCqZ_DLn7NQP",
    "outputId": "4f423d6c-32b8-4569-8e09-b70d92d96a83"
   },
   "outputs": [
    {
     "data": {
      "text/plain": [
       "64 bit Windows 10 Operating System     745\n",
       "DOS Operating System                    53\n",
       "Mac OS Operating System                 45\n",
       "Linux/Ubuntu Operating System           19\n",
       "64 bit Mac OS Operating System          17\n",
       "64 bit Windows 8.1 Operating System      8\n",
       "64 bit DOS Operating System              3\n",
       "Windows 10 Operating System              3\n",
       "64 bit Endless Operating System          2\n",
       "64 bit Windows 8 Operating System        2\n",
       "32 bit Windows 10 Operating System       1\n",
       "Name: Operating System, dtype: int64"
      ]
     },
     "execution_count": 72,
     "metadata": {},
     "output_type": "execute_result"
    }
   ],
   "source": [
    "data[\"Operating System\"].value_counts()"
   ]
  },
  {
   "cell_type": "code",
   "execution_count": 73,
   "metadata": {
    "colab": {
     "base_uri": "https://localhost:8080/"
    },
    "id": "_veku-riTG8p",
    "outputId": "79bf96a1-2af8-4ac0-8dd6-95959d98954b"
   },
   "outputs": [
    {
     "data": {
      "text/plain": [
       "HP             204\n",
       "Asus           184\n",
       "Lenovo         180\n",
       "Acer            90\n",
       "Dell            81\n",
       "Apple           62\n",
       "Avita           30\n",
       "MSI             26\n",
       "Microsoft       21\n",
       "Nexstgo          9\n",
       "Alienware        4\n",
       "LifeDigital      3\n",
       "iLife            2\n",
       "Lava             1\n",
       "iball            1\n",
       "Name: Company, dtype: int64"
      ]
     },
     "execution_count": 73,
     "metadata": {},
     "output_type": "execute_result"
    }
   ],
   "source": [
    "data.Company.value_counts()"
   ]
  },
  {
   "cell_type": "code",
   "execution_count": 74,
   "metadata": {
    "colab": {
     "base_uri": "https://localhost:8080/"
    },
    "id": "0hHtZnutTHCa",
    "outputId": "a530a33a-ca15-4d70-94c4-649fd62eb1d3"
   },
   "outputs": [
    {
     "data": {
      "text/plain": [
       "39.62 cm (15.6 inch) Display                 492\n",
       "35.56 cm (14 inch) Display                   196\n",
       "33.78 cm (13.3 inch) Display                  54\n",
       "35.56 cm (14 inch) Touchscreen Display        41\n",
       "33.78 cm (13.3 inch) Touchscreen Display      20\n",
       "43.94 cm (17.3 inch) Display                  13\n",
       "34.29 cm (13.5 inch) Touchscreen Display      10\n",
       "39.12 cm (15.4 inch) Display                   9\n",
       "30.48 cm (12 inch) Display                     9\n",
       "33.02 cm (13 inch) Display                     7\n",
       "31.24 cm (12.3 inch) Touchscreen Display       5\n",
       "29.46 cm (11.6 inch) Display                   4\n",
       "HD LCD Anti-glare Display                      4\n",
       "40.64 cm (16 inch) Display                     4\n",
       "39.62 cm (15.6 inch) Touchscreen Display       4\n",
       "40.89 cm (16.1 inch) Display                   3\n",
       "1 Year Limited Warranty                        2\n",
       "35.2 cm (13.86 inch) Display                   2\n",
       "35.2 cm (13.86 inch) Touchscreen Display       2\n",
       "38.1 cm (15 inch) Display                      2\n",
       "Full HD LCD Anti-glare Display                 2\n",
       "38.1 cm (15 inch) Touchscreen Display          1\n",
       "1 Year Onsite Warranty                         1\n",
       "Display: Full HD                               1\n",
       "29.18 cm (11.49 inch) Touchscreen Display      1\n",
       "512 GB SSD                                     1\n",
       "33.02 cm (13 inch) Touchscreen Display         1\n",
       "31.75 cm (12.5 inch) Display                   1\n",
       "25.4 cm (10 inch) Touchscreen Display          1\n",
       "33.45 cm (13.17 inch) Display                  1\n",
       "34.32 cm (13.51 inch) Display                  1\n",
       "1 Year                                         1\n",
       "27.66 cm (10.89 inch) Display                  1\n",
       "25.65 cm (10.1 inch) Touchscreen Display       1\n",
       "Name: Display, dtype: int64"
      ]
     },
     "execution_count": 74,
     "metadata": {},
     "output_type": "execute_result"
    }
   ],
   "source": [
    "data.Display.value_counts()"
   ]
  },
  {
   "cell_type": "code",
   "execution_count": 75,
   "metadata": {
    "colab": {
     "base_uri": "https://localhost:8080/"
    },
    "id": "DrA0IAFJ7NVm",
    "outputId": "6727804b-d40f-44c2-a7cf-a743d4c869e8"
   },
   "outputs": [
    {
     "data": {
      "text/plain": [
       "1 TB HDD                                    318\n",
       "512 GB SSD                                  203\n",
       "256 GB SSD                                  125\n",
       "1 TB HDD|256 GB SSD                          96\n",
       "1 TB SSD                                     34\n",
       "128 GB SSD                                   26\n",
       "500 GB HDD                                   26\n",
       "1 TB HDD|128 GB SSD                          25\n",
       "2 TB HDD                                     12\n",
       "1 TB HDD|512 GB SSD                          10\n",
       "1 TB HDD|1 TB SSD                             6\n",
       "1 TB HDD|8 GB SSD                             5\n",
       "2 TB HDD|256 GB SSD                           4\n",
       "35.56 cm (14 inch) Display                    2\n",
       "500 GB HDD|8 GB SSD                           2\n",
       "29.46 cm (11.6 inch) Display                  1\n",
       "29.46 cm (11.6 inch) Touchscreen Display      1\n",
       "128 GB HDD|128 GB SSD                         1\n",
       "750 GB HDD                                    1\n",
       "Name: Storage, dtype: int64"
      ]
     },
     "execution_count": 75,
     "metadata": {},
     "output_type": "execute_result"
    }
   ],
   "source": [
    "data.Storage.value_counts()"
   ]
  },
  {
   "cell_type": "code",
   "execution_count": 76,
   "metadata": {
    "id": "YYmnP8fj7NYU"
   },
   "outputs": [],
   "source": [
    "#x = data['Processor'].value_counts().loc[lambda x: x < 20]\n",
    "#data['Processor'].replace(x.keys(),'Others',inplace=True)\n",
    "#data.Processor.value_counts()\n",
    "\n",
    "#The above code can be used to change the names of processors that have count below 20 to \"Others\""
   ]
  },
  {
   "cell_type": "markdown",
   "metadata": {
    "id": "RCXJdBwEVc_f"
   },
   "source": [
    "# Copying the data\n"
   ]
  },
  {
   "cell_type": "code",
   "execution_count": 77,
   "metadata": {
    "id": "_C0VKuBHUD-W"
   },
   "outputs": [],
   "source": [
    "# Copy the data from which outliers have been removed\n",
    "\n",
    "copied_data = data_without_outliers.copy()\n",
    "\n",
    "# Drop the column \"Product\" because it isn't useful for training a model\n",
    "\n",
    "copied_data.drop([\"Product\"],axis=1,inplace =True)"
   ]
  },
  {
   "cell_type": "code",
   "execution_count": 78,
   "metadata": {
    "id": "wljCNEsYWLLJ"
   },
   "outputs": [],
   "source": [
    "# Create dummies for the selected categorical columns so that it can be ready for training\n",
    "\n",
    "dummies = pd.get_dummies(copied_data, columns=[\"Processor\",\"Operating System\",\"Storage\",\"Display\",\"Company\"])"
   ]
  },
  {
   "cell_type": "code",
   "execution_count": 79,
   "metadata": {
    "id": "Rjr_mlLcWLPu"
   },
   "outputs": [],
   "source": [
    "# Assign the price column to a variable \n",
    "y=dummies.Price"
   ]
  },
  {
   "cell_type": "code",
   "execution_count": 80,
   "metadata": {
    "colab": {
     "base_uri": "https://localhost:8080/",
     "height": 540
    },
    "id": "yBCVaAHoGMOo",
    "outputId": "95f534f8-e43b-40be-b1c1-97da3a1551e3"
   },
   "outputs": [
    {
     "data": {
      "text/html": [
       "<div>\n",
       "<style scoped>\n",
       "    .dataframe tbody tr th:only-of-type {\n",
       "        vertical-align: middle;\n",
       "    }\n",
       "\n",
       "    .dataframe tbody tr th {\n",
       "        vertical-align: top;\n",
       "    }\n",
       "\n",
       "    .dataframe thead th {\n",
       "        text-align: right;\n",
       "    }\n",
       "</style>\n",
       "<table border=\"1\" class=\"dataframe\">\n",
       "  <thead>\n",
       "    <tr style=\"text-align: right;\">\n",
       "      <th></th>\n",
       "      <th>Price</th>\n",
       "      <th>RAM</th>\n",
       "      <th>Rating</th>\n",
       "      <th>Processor_AMD APU Dual Core A4 Processor</th>\n",
       "      <th>Processor_AMD APU Dual Core A4 Processor (9th Gen)</th>\n",
       "      <th>Processor_AMD APU Dual Core A6 Processor</th>\n",
       "      <th>Processor_AMD APU Dual Core A6 Processor (7th Gen)</th>\n",
       "      <th>Processor_AMD APU Dual Core A9 Processor</th>\n",
       "      <th>Processor_AMD APU Dual Core A9 Processor (7th Gen)</th>\n",
       "      <th>Processor_AMD APU Dual Core E1 Processor</th>\n",
       "      <th>...</th>\n",
       "      <th>Company_Dell</th>\n",
       "      <th>Company_HP</th>\n",
       "      <th>Company_Lava</th>\n",
       "      <th>Company_Lenovo</th>\n",
       "      <th>Company_LifeDigital</th>\n",
       "      <th>Company_MSI</th>\n",
       "      <th>Company_Microsoft</th>\n",
       "      <th>Company_Nexstgo</th>\n",
       "      <th>Company_iLife</th>\n",
       "      <th>Company_iball</th>\n",
       "    </tr>\n",
       "  </thead>\n",
       "  <tbody>\n",
       "    <tr>\n",
       "      <th>0</th>\n",
       "      <td>39990</td>\n",
       "      <td>8</td>\n",
       "      <td>3.6</td>\n",
       "      <td>0</td>\n",
       "      <td>0</td>\n",
       "      <td>0</td>\n",
       "      <td>0</td>\n",
       "      <td>0</td>\n",
       "      <td>0</td>\n",
       "      <td>0</td>\n",
       "      <td>...</td>\n",
       "      <td>1</td>\n",
       "      <td>0</td>\n",
       "      <td>0</td>\n",
       "      <td>0</td>\n",
       "      <td>0</td>\n",
       "      <td>0</td>\n",
       "      <td>0</td>\n",
       "      <td>0</td>\n",
       "      <td>0</td>\n",
       "      <td>0</td>\n",
       "    </tr>\n",
       "    <tr>\n",
       "      <th>1</th>\n",
       "      <td>22990</td>\n",
       "      <td>4</td>\n",
       "      <td>4.0</td>\n",
       "      <td>0</td>\n",
       "      <td>0</td>\n",
       "      <td>1</td>\n",
       "      <td>0</td>\n",
       "      <td>0</td>\n",
       "      <td>0</td>\n",
       "      <td>0</td>\n",
       "      <td>...</td>\n",
       "      <td>0</td>\n",
       "      <td>0</td>\n",
       "      <td>0</td>\n",
       "      <td>1</td>\n",
       "      <td>0</td>\n",
       "      <td>0</td>\n",
       "      <td>0</td>\n",
       "      <td>0</td>\n",
       "      <td>0</td>\n",
       "      <td>0</td>\n",
       "    </tr>\n",
       "    <tr>\n",
       "      <th>2</th>\n",
       "      <td>53990</td>\n",
       "      <td>8</td>\n",
       "      <td>4.3</td>\n",
       "      <td>0</td>\n",
       "      <td>0</td>\n",
       "      <td>0</td>\n",
       "      <td>0</td>\n",
       "      <td>0</td>\n",
       "      <td>0</td>\n",
       "      <td>0</td>\n",
       "      <td>...</td>\n",
       "      <td>0</td>\n",
       "      <td>1</td>\n",
       "      <td>0</td>\n",
       "      <td>0</td>\n",
       "      <td>0</td>\n",
       "      <td>0</td>\n",
       "      <td>0</td>\n",
       "      <td>0</td>\n",
       "      <td>0</td>\n",
       "      <td>0</td>\n",
       "    </tr>\n",
       "    <tr>\n",
       "      <th>3</th>\n",
       "      <td>42990</td>\n",
       "      <td>8</td>\n",
       "      <td>4.4</td>\n",
       "      <td>0</td>\n",
       "      <td>0</td>\n",
       "      <td>0</td>\n",
       "      <td>0</td>\n",
       "      <td>0</td>\n",
       "      <td>0</td>\n",
       "      <td>0</td>\n",
       "      <td>...</td>\n",
       "      <td>0</td>\n",
       "      <td>0</td>\n",
       "      <td>0</td>\n",
       "      <td>0</td>\n",
       "      <td>0</td>\n",
       "      <td>0</td>\n",
       "      <td>0</td>\n",
       "      <td>0</td>\n",
       "      <td>0</td>\n",
       "      <td>0</td>\n",
       "    </tr>\n",
       "    <tr>\n",
       "      <th>4</th>\n",
       "      <td>33990</td>\n",
       "      <td>4</td>\n",
       "      <td>3.8</td>\n",
       "      <td>0</td>\n",
       "      <td>0</td>\n",
       "      <td>0</td>\n",
       "      <td>0</td>\n",
       "      <td>0</td>\n",
       "      <td>0</td>\n",
       "      <td>0</td>\n",
       "      <td>...</td>\n",
       "      <td>0</td>\n",
       "      <td>0</td>\n",
       "      <td>0</td>\n",
       "      <td>1</td>\n",
       "      <td>0</td>\n",
       "      <td>0</td>\n",
       "      <td>0</td>\n",
       "      <td>0</td>\n",
       "      <td>0</td>\n",
       "      <td>0</td>\n",
       "    </tr>\n",
       "    <tr>\n",
       "      <th>...</th>\n",
       "      <td>...</td>\n",
       "      <td>...</td>\n",
       "      <td>...</td>\n",
       "      <td>...</td>\n",
       "      <td>...</td>\n",
       "      <td>...</td>\n",
       "      <td>...</td>\n",
       "      <td>...</td>\n",
       "      <td>...</td>\n",
       "      <td>...</td>\n",
       "      <td>...</td>\n",
       "      <td>...</td>\n",
       "      <td>...</td>\n",
       "      <td>...</td>\n",
       "      <td>...</td>\n",
       "      <td>...</td>\n",
       "      <td>...</td>\n",
       "      <td>...</td>\n",
       "      <td>...</td>\n",
       "      <td>...</td>\n",
       "      <td>...</td>\n",
       "    </tr>\n",
       "    <tr>\n",
       "      <th>892</th>\n",
       "      <td>22490</td>\n",
       "      <td>4</td>\n",
       "      <td>3.8</td>\n",
       "      <td>0</td>\n",
       "      <td>0</td>\n",
       "      <td>0</td>\n",
       "      <td>0</td>\n",
       "      <td>0</td>\n",
       "      <td>0</td>\n",
       "      <td>0</td>\n",
       "      <td>...</td>\n",
       "      <td>0</td>\n",
       "      <td>1</td>\n",
       "      <td>0</td>\n",
       "      <td>0</td>\n",
       "      <td>0</td>\n",
       "      <td>0</td>\n",
       "      <td>0</td>\n",
       "      <td>0</td>\n",
       "      <td>0</td>\n",
       "      <td>0</td>\n",
       "    </tr>\n",
       "    <tr>\n",
       "      <th>893</th>\n",
       "      <td>31529</td>\n",
       "      <td>4</td>\n",
       "      <td>4.2</td>\n",
       "      <td>0</td>\n",
       "      <td>0</td>\n",
       "      <td>0</td>\n",
       "      <td>0</td>\n",
       "      <td>0</td>\n",
       "      <td>0</td>\n",
       "      <td>0</td>\n",
       "      <td>...</td>\n",
       "      <td>0</td>\n",
       "      <td>1</td>\n",
       "      <td>0</td>\n",
       "      <td>0</td>\n",
       "      <td>0</td>\n",
       "      <td>0</td>\n",
       "      <td>0</td>\n",
       "      <td>0</td>\n",
       "      <td>0</td>\n",
       "      <td>0</td>\n",
       "    </tr>\n",
       "    <tr>\n",
       "      <th>895</th>\n",
       "      <td>66990</td>\n",
       "      <td>16</td>\n",
       "      <td>4.2</td>\n",
       "      <td>0</td>\n",
       "      <td>0</td>\n",
       "      <td>0</td>\n",
       "      <td>0</td>\n",
       "      <td>0</td>\n",
       "      <td>0</td>\n",
       "      <td>0</td>\n",
       "      <td>...</td>\n",
       "      <td>0</td>\n",
       "      <td>1</td>\n",
       "      <td>0</td>\n",
       "      <td>0</td>\n",
       "      <td>0</td>\n",
       "      <td>0</td>\n",
       "      <td>0</td>\n",
       "      <td>0</td>\n",
       "      <td>0</td>\n",
       "      <td>0</td>\n",
       "    </tr>\n",
       "    <tr>\n",
       "      <th>896</th>\n",
       "      <td>35800</td>\n",
       "      <td>8</td>\n",
       "      <td>4.1</td>\n",
       "      <td>0</td>\n",
       "      <td>0</td>\n",
       "      <td>0</td>\n",
       "      <td>0</td>\n",
       "      <td>0</td>\n",
       "      <td>0</td>\n",
       "      <td>0</td>\n",
       "      <td>...</td>\n",
       "      <td>0</td>\n",
       "      <td>0</td>\n",
       "      <td>0</td>\n",
       "      <td>0</td>\n",
       "      <td>0</td>\n",
       "      <td>0</td>\n",
       "      <td>0</td>\n",
       "      <td>0</td>\n",
       "      <td>0</td>\n",
       "      <td>0</td>\n",
       "    </tr>\n",
       "    <tr>\n",
       "      <th>897</th>\n",
       "      <td>74500</td>\n",
       "      <td>8</td>\n",
       "      <td>4.3</td>\n",
       "      <td>0</td>\n",
       "      <td>0</td>\n",
       "      <td>0</td>\n",
       "      <td>0</td>\n",
       "      <td>0</td>\n",
       "      <td>0</td>\n",
       "      <td>0</td>\n",
       "      <td>...</td>\n",
       "      <td>0</td>\n",
       "      <td>1</td>\n",
       "      <td>0</td>\n",
       "      <td>0</td>\n",
       "      <td>0</td>\n",
       "      <td>0</td>\n",
       "      <td>0</td>\n",
       "      <td>0</td>\n",
       "      <td>0</td>\n",
       "      <td>0</td>\n",
       "    </tr>\n",
       "  </tbody>\n",
       "</table>\n",
       "<p>844 rows × 137 columns</p>\n",
       "</div>"
      ],
      "text/plain": [
       "     Price  RAM  Rating  Processor_AMD APU Dual Core A4 Processor  \\\n",
       "0    39990    8     3.6                                         0   \n",
       "1    22990    4     4.0                                         0   \n",
       "2    53990    8     4.3                                         0   \n",
       "3    42990    8     4.4                                         0   \n",
       "4    33990    4     3.8                                         0   \n",
       "..     ...  ...     ...                                       ...   \n",
       "892  22490    4     3.8                                         0   \n",
       "893  31529    4     4.2                                         0   \n",
       "895  66990   16     4.2                                         0   \n",
       "896  35800    8     4.1                                         0   \n",
       "897  74500    8     4.3                                         0   \n",
       "\n",
       "     Processor_AMD APU Dual Core A4 Processor (9th Gen)  \\\n",
       "0                                                    0    \n",
       "1                                                    0    \n",
       "2                                                    0    \n",
       "3                                                    0    \n",
       "4                                                    0    \n",
       "..                                                 ...    \n",
       "892                                                  0    \n",
       "893                                                  0    \n",
       "895                                                  0    \n",
       "896                                                  0    \n",
       "897                                                  0    \n",
       "\n",
       "     Processor_AMD APU Dual Core A6 Processor  \\\n",
       "0                                           0   \n",
       "1                                           1   \n",
       "2                                           0   \n",
       "3                                           0   \n",
       "4                                           0   \n",
       "..                                        ...   \n",
       "892                                         0   \n",
       "893                                         0   \n",
       "895                                         0   \n",
       "896                                         0   \n",
       "897                                         0   \n",
       "\n",
       "     Processor_AMD APU Dual Core A6 Processor (7th Gen)  \\\n",
       "0                                                    0    \n",
       "1                                                    0    \n",
       "2                                                    0    \n",
       "3                                                    0    \n",
       "4                                                    0    \n",
       "..                                                 ...    \n",
       "892                                                  0    \n",
       "893                                                  0    \n",
       "895                                                  0    \n",
       "896                                                  0    \n",
       "897                                                  0    \n",
       "\n",
       "     Processor_AMD APU Dual Core A9 Processor  \\\n",
       "0                                           0   \n",
       "1                                           0   \n",
       "2                                           0   \n",
       "3                                           0   \n",
       "4                                           0   \n",
       "..                                        ...   \n",
       "892                                         0   \n",
       "893                                         0   \n",
       "895                                         0   \n",
       "896                                         0   \n",
       "897                                         0   \n",
       "\n",
       "     Processor_AMD APU Dual Core A9 Processor (7th Gen)  \\\n",
       "0                                                    0    \n",
       "1                                                    0    \n",
       "2                                                    0    \n",
       "3                                                    0    \n",
       "4                                                    0    \n",
       "..                                                 ...    \n",
       "892                                                  0    \n",
       "893                                                  0    \n",
       "895                                                  0    \n",
       "896                                                  0    \n",
       "897                                                  0    \n",
       "\n",
       "     Processor_AMD APU Dual Core E1 Processor  ...  Company_Dell  Company_HP  \\\n",
       "0                                           0  ...             1           0   \n",
       "1                                           0  ...             0           0   \n",
       "2                                           0  ...             0           1   \n",
       "3                                           0  ...             0           0   \n",
       "4                                           0  ...             0           0   \n",
       "..                                        ...  ...           ...         ...   \n",
       "892                                         0  ...             0           1   \n",
       "893                                         0  ...             0           1   \n",
       "895                                         0  ...             0           1   \n",
       "896                                         0  ...             0           0   \n",
       "897                                         0  ...             0           1   \n",
       "\n",
       "     Company_Lava  Company_Lenovo  Company_LifeDigital  Company_MSI  \\\n",
       "0               0               0                    0            0   \n",
       "1               0               1                    0            0   \n",
       "2               0               0                    0            0   \n",
       "3               0               0                    0            0   \n",
       "4               0               1                    0            0   \n",
       "..            ...             ...                  ...          ...   \n",
       "892             0               0                    0            0   \n",
       "893             0               0                    0            0   \n",
       "895             0               0                    0            0   \n",
       "896             0               0                    0            0   \n",
       "897             0               0                    0            0   \n",
       "\n",
       "     Company_Microsoft  Company_Nexstgo  Company_iLife  Company_iball  \n",
       "0                    0                0              0              0  \n",
       "1                    0                0              0              0  \n",
       "2                    0                0              0              0  \n",
       "3                    0                0              0              0  \n",
       "4                    0                0              0              0  \n",
       "..                 ...              ...            ...            ...  \n",
       "892                  0                0              0              0  \n",
       "893                  0                0              0              0  \n",
       "895                  0                0              0              0  \n",
       "896                  0                0              0              0  \n",
       "897                  0                0              0              0  \n",
       "\n",
       "[844 rows x 137 columns]"
      ]
     },
     "execution_count": 80,
     "metadata": {},
     "output_type": "execute_result"
    }
   ],
   "source": [
    "dummies"
   ]
  },
  {
   "cell_type": "code",
   "execution_count": 81,
   "metadata": {
    "id": "bAPsC4j9WLTH"
   },
   "outputs": [],
   "source": [
    "# Drop the Price column from the data so that it can be used to train a model\n",
    "dummies.drop([\"Price\"],axis=1,inplace=True)\n",
    "X = dummies"
   ]
  },
  {
   "cell_type": "markdown",
   "metadata": {
    "id": "SSqdF_rJdmsu"
   },
   "source": [
    "## Splitting the data"
   ]
  },
  {
   "cell_type": "code",
   "execution_count": 97,
   "metadata": {
    "id": "g1aRFYDPWLN3"
   },
   "outputs": [],
   "source": [
    "from sklearn.model_selection import train_test_split \n",
    "\n",
    "X_train, X_test, y_train, y_test = train_test_split(X, y, test_size=0.25)"
   ]
  },
  {
   "cell_type": "markdown",
   "metadata": {
    "id": "XM2joR2iRUCc"
   },
   "source": [
    "## Importing metrics\n"
   ]
  },
  {
   "cell_type": "code",
   "execution_count": 98,
   "metadata": {
    "id": "JBdFkYZaRaOt"
   },
   "outputs": [],
   "source": [
    "from sklearn.metrics import mean_squared_error, mean_absolute_error\n",
    "from sklearn.metrics import r2_score"
   ]
  },
  {
   "cell_type": "markdown",
   "metadata": {
    "id": "rpp3RpwHdrns"
   },
   "source": [
    "# Different ML Algorithms"
   ]
  },
  {
   "cell_type": "markdown",
   "metadata": {
    "id": "Wdww4M0xdvd2"
   },
   "source": [
    "## Linear Regression"
   ]
  },
  {
   "cell_type": "code",
   "execution_count": 99,
   "metadata": {
    "colab": {
     "base_uri": "https://localhost:8080/"
    },
    "id": "F8Jv5i1fUEAd",
    "outputId": "b7cae141-abbe-4adc-d37f-247d698b3a6b"
   },
   "outputs": [
    {
     "data": {
      "text/plain": [
       "LinearRegression()"
      ]
     },
     "execution_count": 99,
     "metadata": {},
     "output_type": "execute_result"
    }
   ],
   "source": [
    "from sklearn.linear_model import LinearRegression\n",
    "lr = LinearRegression()\n",
    "lr.fit(X_train,y_train)"
   ]
  },
  {
   "cell_type": "code",
   "execution_count": 100,
   "metadata": {
    "id": "POp3-mEcYlKy"
   },
   "outputs": [],
   "source": [
    "pred =lr.predict(X_test)"
   ]
  },
  {
   "cell_type": "code",
   "execution_count": 101,
   "metadata": {
    "colab": {
     "base_uri": "https://localhost:8080/"
    },
    "id": "LQQUzDxjYlNN",
    "outputId": "044ccc14-3300-4d98-d0a5-131685292943"
   },
   "outputs": [
    {
     "data": {
      "text/plain": [
       "2.0308205410777825e+29"
      ]
     },
     "execution_count": 101,
     "metadata": {},
     "output_type": "execute_result"
    }
   ],
   "source": [
    "mse=mean_squared_error(pred,y_test)\n",
    "mse"
   ]
  },
  {
   "cell_type": "markdown",
   "metadata": {
    "id": "XuQBjgwAKaBG"
   },
   "source": [
    "### r2 score of Linear Regression"
   ]
  },
  {
   "cell_type": "code",
   "execution_count": 102,
   "metadata": {
    "colab": {
     "base_uri": "https://localhost:8080/"
    },
    "id": "cpaxy6iyJ2k8",
    "outputId": "059127b5-98e6-4c8d-8c7b-c1de6b61b377"
   },
   "outputs": [
    {
     "data": {
      "text/plain": [
       "-0.01283887960870711"
      ]
     },
     "execution_count": 102,
     "metadata": {},
     "output_type": "execute_result"
    }
   ],
   "source": [
    "r2_score(pred,y_test)"
   ]
  },
  {
   "cell_type": "markdown",
   "metadata": {
    "id": "5M2VosGpV5vF"
   },
   "source": [
    "As you can see from the score above, Linear Regression has performed terribly on the data."
   ]
  },
  {
   "cell_type": "code",
   "execution_count": null,
   "metadata": {
    "id": "p_VC-VW4J2oY"
   },
   "outputs": [],
   "source": []
  },
  {
   "cell_type": "markdown",
   "metadata": {
    "id": "2imKHh7oJKkS"
   },
   "source": [
    "## Decision Tree Regressor"
   ]
  },
  {
   "cell_type": "code",
   "execution_count": 103,
   "metadata": {
    "id": "AxN-ZwgfG-zm"
   },
   "outputs": [],
   "source": [
    "from sklearn.tree import DecisionTreeRegressor"
   ]
  },
  {
   "cell_type": "code",
   "execution_count": 120,
   "metadata": {
    "id": "k9ycrckyKoVN"
   },
   "outputs": [],
   "source": [
    "dt=DecisionTreeRegressor()\n",
    "dt.fit(X_train,y_train)\n",
    "pred = dt.predict(X_test)"
   ]
  },
  {
   "cell_type": "markdown",
   "metadata": {
    "id": "2dnjgrB2Kfz9"
   },
   "source": [
    "r2 score of Decision Tree Regressor"
   ]
  },
  {
   "cell_type": "code",
   "execution_count": 121,
   "metadata": {
    "colab": {
     "base_uri": "https://localhost:8080/"
    },
    "id": "l-7pNqWXG-3I",
    "outputId": "549f9846-59e2-4720-c6b8-ce58b5c22d8e"
   },
   "outputs": [
    {
     "data": {
      "text/plain": [
       "0.8014736783479193"
      ]
     },
     "execution_count": 121,
     "metadata": {},
     "output_type": "execute_result"
    }
   ],
   "source": [
    "r2_score(pred,y_test)"
   ]
  },
  {
   "cell_type": "markdown",
   "metadata": {
    "id": "aURnrHywMH99"
   },
   "source": [
    "# Random Forest Regressor\n"
   ]
  },
  {
   "cell_type": "code",
   "execution_count": 122,
   "metadata": {
    "id": "C--o9AUqML0T"
   },
   "outputs": [],
   "source": [
    "from sklearn.ensemble import RandomForestRegressor"
   ]
  },
  {
   "cell_type": "code",
   "execution_count": 123,
   "metadata": {
    "id": "sTAowZtVMT0t"
   },
   "outputs": [],
   "source": [
    "rf = RandomForestRegressor()\n",
    "rf.fit(X_train,y_train)\n",
    "pred = rf.predict(X_test)"
   ]
  },
  {
   "cell_type": "code",
   "execution_count": 124,
   "metadata": {
    "colab": {
     "base_uri": "https://localhost:8080/"
    },
    "id": "RHSZ8i8PMUCo",
    "outputId": "bc2333c1-f416-4c27-efa3-69cdbdeb2e59"
   },
   "outputs": [
    {
     "data": {
      "text/plain": [
       "0.858575644067866"
      ]
     },
     "execution_count": 124,
     "metadata": {},
     "output_type": "execute_result"
    }
   ],
   "source": [
    "r2_score(pred,y_test)"
   ]
  },
  {
   "cell_type": "markdown",
   "metadata": {
    "id": "9i4YfAS1ZPz1"
   },
   "source": [
    "#KNN Neighbours\n"
   ]
  },
  {
   "cell_type": "code",
   "execution_count": 125,
   "metadata": {
    "id": "ao95PAwPZSnQ"
   },
   "outputs": [],
   "source": [
    "from sklearn.neighbors import KNeighborsRegressor"
   ]
  },
  {
   "cell_type": "code",
   "execution_count": 126,
   "metadata": {
    "id": "yn-AypdVZWQM"
   },
   "outputs": [],
   "source": [
    "knn = KNeighborsRegressor()\n",
    "knn.fit(X_train,y_train)\n",
    "pred = knn.predict(X_test)"
   ]
  },
  {
   "cell_type": "code",
   "execution_count": 127,
   "metadata": {
    "colab": {
     "base_uri": "https://localhost:8080/"
    },
    "id": "g7INK72PZgYS",
    "outputId": "a4ef2ab5-9a4c-43bc-f091-aa5f4bd683d0"
   },
   "outputs": [
    {
     "data": {
      "text/plain": [
       "0.8102333773321068"
      ]
     },
     "execution_count": 127,
     "metadata": {},
     "output_type": "execute_result"
    }
   ],
   "source": [
    "r2_score(pred,y_test)"
   ]
  }
 ],
 "metadata": {
  "colab": {
   "provenance": []
  },
  "kernelspec": {
   "display_name": "Python 3 (ipykernel)",
   "language": "python",
   "name": "python3"
  },
  "language_info": {
   "codemirror_mode": {
    "name": "ipython",
    "version": 3
   },
   "file_extension": ".py",
   "mimetype": "text/x-python",
   "name": "python",
   "nbconvert_exporter": "python",
   "pygments_lexer": "ipython3",
   "version": "3.9.7"
  }
 },
 "nbformat": 4,
 "nbformat_minor": 1
}
