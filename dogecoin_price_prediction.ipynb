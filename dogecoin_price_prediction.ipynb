{
  "cells": [
    {
      "cell_type": "code",
      "execution_count": null,
      "metadata": {
        "colab": {
          "base_uri": "https://localhost:8080/"
        },
        "id": "DoJk1KucWnVw",
        "outputId": "28e48b12-e6cc-43b4-bda2-d26fed63b783"
      },
      "outputs": [
        {
          "name": "stdout",
          "output_type": "stream",
          "text": [
            "dogecoin-historical-data.zip: Skipping, found more recently modified local copy (use --force to force download)\n"
          ]
        }
      ],
      "source": [
        "import os\n",
        "\n",
        "os.environ['KAGGLE_USERNAME'] = \"add_kaggle_username\" # username from the json file\n",
        "os.environ['KAGGLE_KEY'] = \"add_kaggle_key\" # key from the json file\n",
        "\n",
        "\n",
        "!kaggle datasets download -d dhruvildave/dogecoin-historical-data"
      ]
    },
    {
      "cell_type": "code",
      "execution_count": null,
      "metadata": {
        "id": "FFUj_taJW7Ty"
      },
      "outputs": [],
      "source": [
        "import zipfile\n",
        "with zipfile.ZipFile('path_of_zip_file', 'r') as zip_ref:\n",
        "    zip_ref.extractall('path_to_extract')"
      ]
    },
    {
      "cell_type": "code",
      "execution_count": null,
      "metadata": {
        "id": "LOLprgc4kI9j"
      },
      "outputs": [],
      "source": [
        "import pandas as pd\n",
        "import numpy as np\n",
        "import matplotlib.pyplot as plt\n"
      ]
    },
    {
      "cell_type": "code",
      "execution_count": null,
      "metadata": {
        "id": "wMGggB0NpkLl"
      },
      "outputs": [],
      "source": [
        "df = pd.read_csv('DOGE-USD.csv')"
      ]
    },
    {
      "cell_type": "code",
      "execution_count": null,
      "metadata": {
        "colab": {
          "base_uri": "https://localhost:8080/",
          "height": 206
        },
        "id": "EfNdfHT8poDc",
        "outputId": "a50b02ae-2525-455a-85dc-c4ba3c723fa1"
      },
      "outputs": [
        {
          "data": {
            "text/html": [
              "\n",
              "  <div id=\"df-ecdd3ed0-6407-435e-9c2a-c66ff74ab6ee\">\n",
              "    <div class=\"colab-df-container\">\n",
              "      <div>\n",
              "<style scoped>\n",
              "    .dataframe tbody tr th:only-of-type {\n",
              "        vertical-align: middle;\n",
              "    }\n",
              "\n",
              "    .dataframe tbody tr th {\n",
              "        vertical-align: top;\n",
              "    }\n",
              "\n",
              "    .dataframe thead th {\n",
              "        text-align: right;\n",
              "    }\n",
              "</style>\n",
              "<table border=\"1\" class=\"dataframe\">\n",
              "  <thead>\n",
              "    <tr style=\"text-align: right;\">\n",
              "      <th></th>\n",
              "      <th>Date</th>\n",
              "      <th>Open</th>\n",
              "      <th>High</th>\n",
              "      <th>Low</th>\n",
              "      <th>Close</th>\n",
              "      <th>Volume</th>\n",
              "    </tr>\n",
              "  </thead>\n",
              "  <tbody>\n",
              "    <tr>\n",
              "      <th>0</th>\n",
              "      <td>2017-11-09</td>\n",
              "      <td>0.001207</td>\n",
              "      <td>0.001415</td>\n",
              "      <td>0.001181</td>\n",
              "      <td>0.001415</td>\n",
              "      <td>6259550</td>\n",
              "    </tr>\n",
              "    <tr>\n",
              "      <th>1</th>\n",
              "      <td>2017-11-10</td>\n",
              "      <td>0.001421</td>\n",
              "      <td>0.001431</td>\n",
              "      <td>0.001125</td>\n",
              "      <td>0.001163</td>\n",
              "      <td>4246520</td>\n",
              "    </tr>\n",
              "    <tr>\n",
              "      <th>2</th>\n",
              "      <td>2017-11-11</td>\n",
              "      <td>0.001146</td>\n",
              "      <td>0.001257</td>\n",
              "      <td>0.001141</td>\n",
              "      <td>0.001201</td>\n",
              "      <td>2231080</td>\n",
              "    </tr>\n",
              "    <tr>\n",
              "      <th>3</th>\n",
              "      <td>2017-11-12</td>\n",
              "      <td>0.001189</td>\n",
              "      <td>0.001210</td>\n",
              "      <td>0.001002</td>\n",
              "      <td>0.001038</td>\n",
              "      <td>3288960</td>\n",
              "    </tr>\n",
              "    <tr>\n",
              "      <th>4</th>\n",
              "      <td>2017-11-13</td>\n",
              "      <td>0.001046</td>\n",
              "      <td>0.001212</td>\n",
              "      <td>0.001019</td>\n",
              "      <td>0.001211</td>\n",
              "      <td>2481270</td>\n",
              "    </tr>\n",
              "  </tbody>\n",
              "</table>\n",
              "</div>\n",
              "      <button class=\"colab-df-convert\" onclick=\"convertToInteractive('df-ecdd3ed0-6407-435e-9c2a-c66ff74ab6ee')\"\n",
              "              title=\"Convert this dataframe to an interactive table.\"\n",
              "              style=\"display:none;\">\n",
              "        \n",
              "  <svg xmlns=\"http://www.w3.org/2000/svg\" height=\"24px\"viewBox=\"0 0 24 24\"\n",
              "       width=\"24px\">\n",
              "    <path d=\"M0 0h24v24H0V0z\" fill=\"none\"/>\n",
              "    <path d=\"M18.56 5.44l.94 2.06.94-2.06 2.06-.94-2.06-.94-.94-2.06-.94 2.06-2.06.94zm-11 1L8.5 8.5l.94-2.06 2.06-.94-2.06-.94L8.5 2.5l-.94 2.06-2.06.94zm10 10l.94 2.06.94-2.06 2.06-.94-2.06-.94-.94-2.06-.94 2.06-2.06.94z\"/><path d=\"M17.41 7.96l-1.37-1.37c-.4-.4-.92-.59-1.43-.59-.52 0-1.04.2-1.43.59L10.3 9.45l-7.72 7.72c-.78.78-.78 2.05 0 2.83L4 21.41c.39.39.9.59 1.41.59.51 0 1.02-.2 1.41-.59l7.78-7.78 2.81-2.81c.8-.78.8-2.07 0-2.86zM5.41 20L4 18.59l7.72-7.72 1.47 1.35L5.41 20z\"/>\n",
              "  </svg>\n",
              "      </button>\n",
              "      \n",
              "  <style>\n",
              "    .colab-df-container {\n",
              "      display:flex;\n",
              "      flex-wrap:wrap;\n",
              "      gap: 12px;\n",
              "    }\n",
              "\n",
              "    .colab-df-convert {\n",
              "      background-color: #E8F0FE;\n",
              "      border: none;\n",
              "      border-radius: 50%;\n",
              "      cursor: pointer;\n",
              "      display: none;\n",
              "      fill: #1967D2;\n",
              "      height: 32px;\n",
              "      padding: 0 0 0 0;\n",
              "      width: 32px;\n",
              "    }\n",
              "\n",
              "    .colab-df-convert:hover {\n",
              "      background-color: #E2EBFA;\n",
              "      box-shadow: 0px 1px 2px rgba(60, 64, 67, 0.3), 0px 1px 3px 1px rgba(60, 64, 67, 0.15);\n",
              "      fill: #174EA6;\n",
              "    }\n",
              "\n",
              "    [theme=dark] .colab-df-convert {\n",
              "      background-color: #3B4455;\n",
              "      fill: #D2E3FC;\n",
              "    }\n",
              "\n",
              "    [theme=dark] .colab-df-convert:hover {\n",
              "      background-color: #434B5C;\n",
              "      box-shadow: 0px 1px 3px 1px rgba(0, 0, 0, 0.15);\n",
              "      filter: drop-shadow(0px 1px 2px rgba(0, 0, 0, 0.3));\n",
              "      fill: #FFFFFF;\n",
              "    }\n",
              "  </style>\n",
              "\n",
              "      <script>\n",
              "        const buttonEl =\n",
              "          document.querySelector('#df-ecdd3ed0-6407-435e-9c2a-c66ff74ab6ee button.colab-df-convert');\n",
              "        buttonEl.style.display =\n",
              "          google.colab.kernel.accessAllowed ? 'block' : 'none';\n",
              "\n",
              "        async function convertToInteractive(key) {\n",
              "          const element = document.querySelector('#df-ecdd3ed0-6407-435e-9c2a-c66ff74ab6ee');\n",
              "          const dataTable =\n",
              "            await google.colab.kernel.invokeFunction('convertToInteractive',\n",
              "                                                     [key], {});\n",
              "          if (!dataTable) return;\n",
              "\n",
              "          const docLinkHtml = 'Like what you see? Visit the ' +\n",
              "            '<a target=\"_blank\" href=https://colab.research.google.com/notebooks/data_table.ipynb>data table notebook</a>'\n",
              "            + ' to learn more about interactive tables.';\n",
              "          element.innerHTML = '';\n",
              "          dataTable['output_type'] = 'display_data';\n",
              "          await google.colab.output.renderOutput(dataTable, element);\n",
              "          const docLink = document.createElement('div');\n",
              "          docLink.innerHTML = docLinkHtml;\n",
              "          element.appendChild(docLink);\n",
              "        }\n",
              "      </script>\n",
              "    </div>\n",
              "  </div>\n",
              "  "
            ],
            "text/plain": [
              "         Date      Open      High       Low     Close   Volume\n",
              "0  2017-11-09  0.001207  0.001415  0.001181  0.001415  6259550\n",
              "1  2017-11-10  0.001421  0.001431  0.001125  0.001163  4246520\n",
              "2  2017-11-11  0.001146  0.001257  0.001141  0.001201  2231080\n",
              "3  2017-11-12  0.001189  0.001210  0.001002  0.001038  3288960\n",
              "4  2017-11-13  0.001046  0.001212  0.001019  0.001211  2481270"
            ]
          },
          "execution_count": 74,
          "metadata": {},
          "output_type": "execute_result"
        }
      ],
      "source": [
        "df.head()"
      ]
    },
    {
      "cell_type": "code",
      "execution_count": null,
      "metadata": {
        "colab": {
          "base_uri": "https://localhost:8080/"
        },
        "id": "KxQgCCeUppVr",
        "outputId": "07165232-fef2-4022-9c8a-e3b7dff26cbd"
      },
      "outputs": [
        {
          "name": "stdout",
          "output_type": "stream",
          "text": [
            "<class 'pandas.core.frame.DataFrame'>\n",
            "RangeIndex: 1532 entries, 0 to 1531\n",
            "Data columns (total 6 columns):\n",
            " #   Column  Non-Null Count  Dtype  \n",
            "---  ------  --------------  -----  \n",
            " 0   Date    1532 non-null   object \n",
            " 1   Open    1532 non-null   float64\n",
            " 2   High    1532 non-null   float64\n",
            " 3   Low     1532 non-null   float64\n",
            " 4   Close   1532 non-null   float64\n",
            " 5   Volume  1532 non-null   int64  \n",
            "dtypes: float64(4), int64(1), object(1)\n",
            "memory usage: 71.9+ KB\n"
          ]
        }
      ],
      "source": [
        "df.info()"
      ]
    },
    {
      "cell_type": "code",
      "execution_count": null,
      "metadata": {
        "colab": {
          "base_uri": "https://localhost:8080/",
          "height": 300
        },
        "id": "ILcLctXrqLfa",
        "outputId": "0af6be7b-6b03-4dac-8b65-9f94c4059186"
      },
      "outputs": [
        {
          "data": {
            "text/html": [
              "\n",
              "  <div id=\"df-33422730-af84-4754-89bb-f3a4a566c790\">\n",
              "    <div class=\"colab-df-container\">\n",
              "      <div>\n",
              "<style scoped>\n",
              "    .dataframe tbody tr th:only-of-type {\n",
              "        vertical-align: middle;\n",
              "    }\n",
              "\n",
              "    .dataframe tbody tr th {\n",
              "        vertical-align: top;\n",
              "    }\n",
              "\n",
              "    .dataframe thead th {\n",
              "        text-align: right;\n",
              "    }\n",
              "</style>\n",
              "<table border=\"1\" class=\"dataframe\">\n",
              "  <thead>\n",
              "    <tr style=\"text-align: right;\">\n",
              "      <th></th>\n",
              "      <th>Open</th>\n",
              "      <th>High</th>\n",
              "      <th>Low</th>\n",
              "      <th>Close</th>\n",
              "      <th>Volume</th>\n",
              "    </tr>\n",
              "  </thead>\n",
              "  <tbody>\n",
              "    <tr>\n",
              "      <th>count</th>\n",
              "      <td>1532.000000</td>\n",
              "      <td>1532.000000</td>\n",
              "      <td>1532.000000</td>\n",
              "      <td>1532.000000</td>\n",
              "      <td>1.532000e+03</td>\n",
              "    </tr>\n",
              "    <tr>\n",
              "      <th>mean</th>\n",
              "      <td>0.053032</td>\n",
              "      <td>0.056574</td>\n",
              "      <td>0.049593</td>\n",
              "      <td>0.053151</td>\n",
              "      <td>1.049954e+09</td>\n",
              "    </tr>\n",
              "    <tr>\n",
              "      <th>std</th>\n",
              "      <td>0.106257</td>\n",
              "      <td>0.114770</td>\n",
              "      <td>0.097944</td>\n",
              "      <td>0.106358</td>\n",
              "      <td>3.809881e+09</td>\n",
              "    </tr>\n",
              "    <tr>\n",
              "      <th>min</th>\n",
              "      <td>0.001046</td>\n",
              "      <td>0.001210</td>\n",
              "      <td>0.001002</td>\n",
              "      <td>0.001038</td>\n",
              "      <td>1.431720e+06</td>\n",
              "    </tr>\n",
              "    <tr>\n",
              "      <th>25%</th>\n",
              "      <td>0.002494</td>\n",
              "      <td>0.002551</td>\n",
              "      <td>0.002430</td>\n",
              "      <td>0.002495</td>\n",
              "      <td>1.965492e+07</td>\n",
              "    </tr>\n",
              "    <tr>\n",
              "      <th>50%</th>\n",
              "      <td>0.003161</td>\n",
              "      <td>0.003260</td>\n",
              "      <td>0.003059</td>\n",
              "      <td>0.003162</td>\n",
              "      <td>6.806869e+07</td>\n",
              "    </tr>\n",
              "    <tr>\n",
              "      <th>75%</th>\n",
              "      <td>0.009115</td>\n",
              "      <td>0.009615</td>\n",
              "      <td>0.008515</td>\n",
              "      <td>0.009195</td>\n",
              "      <td>2.837324e+08</td>\n",
              "    </tr>\n",
              "    <tr>\n",
              "      <th>max</th>\n",
              "      <td>0.687801</td>\n",
              "      <td>0.737567</td>\n",
              "      <td>0.608168</td>\n",
              "      <td>0.684777</td>\n",
              "      <td>6.941068e+10</td>\n",
              "    </tr>\n",
              "  </tbody>\n",
              "</table>\n",
              "</div>\n",
              "      <button class=\"colab-df-convert\" onclick=\"convertToInteractive('df-33422730-af84-4754-89bb-f3a4a566c790')\"\n",
              "              title=\"Convert this dataframe to an interactive table.\"\n",
              "              style=\"display:none;\">\n",
              "        \n",
              "  <svg xmlns=\"http://www.w3.org/2000/svg\" height=\"24px\"viewBox=\"0 0 24 24\"\n",
              "       width=\"24px\">\n",
              "    <path d=\"M0 0h24v24H0V0z\" fill=\"none\"/>\n",
              "    <path d=\"M18.56 5.44l.94 2.06.94-2.06 2.06-.94-2.06-.94-.94-2.06-.94 2.06-2.06.94zm-11 1L8.5 8.5l.94-2.06 2.06-.94-2.06-.94L8.5 2.5l-.94 2.06-2.06.94zm10 10l.94 2.06.94-2.06 2.06-.94-2.06-.94-.94-2.06-.94 2.06-2.06.94z\"/><path d=\"M17.41 7.96l-1.37-1.37c-.4-.4-.92-.59-1.43-.59-.52 0-1.04.2-1.43.59L10.3 9.45l-7.72 7.72c-.78.78-.78 2.05 0 2.83L4 21.41c.39.39.9.59 1.41.59.51 0 1.02-.2 1.41-.59l7.78-7.78 2.81-2.81c.8-.78.8-2.07 0-2.86zM5.41 20L4 18.59l7.72-7.72 1.47 1.35L5.41 20z\"/>\n",
              "  </svg>\n",
              "      </button>\n",
              "      \n",
              "  <style>\n",
              "    .colab-df-container {\n",
              "      display:flex;\n",
              "      flex-wrap:wrap;\n",
              "      gap: 12px;\n",
              "    }\n",
              "\n",
              "    .colab-df-convert {\n",
              "      background-color: #E8F0FE;\n",
              "      border: none;\n",
              "      border-radius: 50%;\n",
              "      cursor: pointer;\n",
              "      display: none;\n",
              "      fill: #1967D2;\n",
              "      height: 32px;\n",
              "      padding: 0 0 0 0;\n",
              "      width: 32px;\n",
              "    }\n",
              "\n",
              "    .colab-df-convert:hover {\n",
              "      background-color: #E2EBFA;\n",
              "      box-shadow: 0px 1px 2px rgba(60, 64, 67, 0.3), 0px 1px 3px 1px rgba(60, 64, 67, 0.15);\n",
              "      fill: #174EA6;\n",
              "    }\n",
              "\n",
              "    [theme=dark] .colab-df-convert {\n",
              "      background-color: #3B4455;\n",
              "      fill: #D2E3FC;\n",
              "    }\n",
              "\n",
              "    [theme=dark] .colab-df-convert:hover {\n",
              "      background-color: #434B5C;\n",
              "      box-shadow: 0px 1px 3px 1px rgba(0, 0, 0, 0.15);\n",
              "      filter: drop-shadow(0px 1px 2px rgba(0, 0, 0, 0.3));\n",
              "      fill: #FFFFFF;\n",
              "    }\n",
              "  </style>\n",
              "\n",
              "      <script>\n",
              "        const buttonEl =\n",
              "          document.querySelector('#df-33422730-af84-4754-89bb-f3a4a566c790 button.colab-df-convert');\n",
              "        buttonEl.style.display =\n",
              "          google.colab.kernel.accessAllowed ? 'block' : 'none';\n",
              "\n",
              "        async function convertToInteractive(key) {\n",
              "          const element = document.querySelector('#df-33422730-af84-4754-89bb-f3a4a566c790');\n",
              "          const dataTable =\n",
              "            await google.colab.kernel.invokeFunction('convertToInteractive',\n",
              "                                                     [key], {});\n",
              "          if (!dataTable) return;\n",
              "\n",
              "          const docLinkHtml = 'Like what you see? Visit the ' +\n",
              "            '<a target=\"_blank\" href=https://colab.research.google.com/notebooks/data_table.ipynb>data table notebook</a>'\n",
              "            + ' to learn more about interactive tables.';\n",
              "          element.innerHTML = '';\n",
              "          dataTable['output_type'] = 'display_data';\n",
              "          await google.colab.output.renderOutput(dataTable, element);\n",
              "          const docLink = document.createElement('div');\n",
              "          docLink.innerHTML = docLinkHtml;\n",
              "          element.appendChild(docLink);\n",
              "        }\n",
              "      </script>\n",
              "    </div>\n",
              "  </div>\n",
              "  "
            ],
            "text/plain": [
              "              Open         High          Low        Close        Volume\n",
              "count  1532.000000  1532.000000  1532.000000  1532.000000  1.532000e+03\n",
              "mean      0.053032     0.056574     0.049593     0.053151  1.049954e+09\n",
              "std       0.106257     0.114770     0.097944     0.106358  3.809881e+09\n",
              "min       0.001046     0.001210     0.001002     0.001038  1.431720e+06\n",
              "25%       0.002494     0.002551     0.002430     0.002495  1.965492e+07\n",
              "50%       0.003161     0.003260     0.003059     0.003162  6.806869e+07\n",
              "75%       0.009115     0.009615     0.008515     0.009195  2.837324e+08\n",
              "max       0.687801     0.737567     0.608168     0.684777  6.941068e+10"
            ]
          },
          "execution_count": 76,
          "metadata": {},
          "output_type": "execute_result"
        }
      ],
      "source": [
        "df.describe()"
      ]
    },
    {
      "cell_type": "code",
      "execution_count": null,
      "metadata": {
        "id": "IkBhefT_u9NH"
      },
      "outputs": [],
      "source": [
        "df['prediction'] = df[['Close']].shift(-1)"
      ]
    },
    {
      "cell_type": "code",
      "execution_count": null,
      "metadata": {
        "id": "H0mNv3gSvknq"
      },
      "outputs": [],
      "source": [
        "df['prediction'].fillna(value=df['prediction'].mean(),inplace=True)"
      ]
    },
    {
      "cell_type": "code",
      "execution_count": null,
      "metadata": {
        "colab": {
          "base_uri": "https://localhost:8080/"
        },
        "id": "qe6hbaEdvjSr",
        "outputId": "4ed149a1-8e30-482f-c86c-ab0b93ad0713"
      },
      "outputs": [
        {
          "name": "stdout",
          "output_type": "stream",
          "text": [
            "<class 'pandas.core.frame.DataFrame'>\n",
            "RangeIndex: 1532 entries, 0 to 1531\n",
            "Data columns (total 7 columns):\n",
            " #   Column      Non-Null Count  Dtype  \n",
            "---  ------      --------------  -----  \n",
            " 0   Date        1532 non-null   object \n",
            " 1   Open        1532 non-null   float64\n",
            " 2   High        1532 non-null   float64\n",
            " 3   Low         1532 non-null   float64\n",
            " 4   Close       1532 non-null   float64\n",
            " 5   Volume      1532 non-null   int64  \n",
            " 6   prediction  1532 non-null   float64\n",
            "dtypes: float64(5), int64(1), object(1)\n",
            "memory usage: 83.9+ KB\n"
          ]
        }
      ],
      "source": [
        "df.info()"
      ]
    },
    {
      "cell_type": "code",
      "execution_count": null,
      "metadata": {
        "colab": {
          "base_uri": "https://localhost:8080/",
          "height": 300
        },
        "id": "6FQ6C_Kcxp6W",
        "outputId": "ee5e7f9d-da7d-4e4f-ba41-cfe5907db040"
      },
      "outputs": [
        {
          "data": {
            "text/html": [
              "\n",
              "  <div id=\"df-ce9d4cdc-33fc-4809-91d5-82b299aeb8df\">\n",
              "    <div class=\"colab-df-container\">\n",
              "      <div>\n",
              "<style scoped>\n",
              "    .dataframe tbody tr th:only-of-type {\n",
              "        vertical-align: middle;\n",
              "    }\n",
              "\n",
              "    .dataframe tbody tr th {\n",
              "        vertical-align: top;\n",
              "    }\n",
              "\n",
              "    .dataframe thead th {\n",
              "        text-align: right;\n",
              "    }\n",
              "</style>\n",
              "<table border=\"1\" class=\"dataframe\">\n",
              "  <thead>\n",
              "    <tr style=\"text-align: right;\">\n",
              "      <th></th>\n",
              "      <th>Open</th>\n",
              "      <th>High</th>\n",
              "      <th>Low</th>\n",
              "      <th>Close</th>\n",
              "      <th>Volume</th>\n",
              "      <th>prediction</th>\n",
              "    </tr>\n",
              "  </thead>\n",
              "  <tbody>\n",
              "    <tr>\n",
              "      <th>count</th>\n",
              "      <td>1532.000000</td>\n",
              "      <td>1532.000000</td>\n",
              "      <td>1532.000000</td>\n",
              "      <td>1532.000000</td>\n",
              "      <td>1.532000e+03</td>\n",
              "      <td>1532.000000</td>\n",
              "    </tr>\n",
              "    <tr>\n",
              "      <th>mean</th>\n",
              "      <td>0.053032</td>\n",
              "      <td>0.056574</td>\n",
              "      <td>0.049593</td>\n",
              "      <td>0.053151</td>\n",
              "      <td>1.049954e+09</td>\n",
              "      <td>0.053185</td>\n",
              "    </tr>\n",
              "    <tr>\n",
              "      <th>std</th>\n",
              "      <td>0.106257</td>\n",
              "      <td>0.114770</td>\n",
              "      <td>0.097944</td>\n",
              "      <td>0.106358</td>\n",
              "      <td>3.809881e+09</td>\n",
              "      <td>0.106349</td>\n",
              "    </tr>\n",
              "    <tr>\n",
              "      <th>min</th>\n",
              "      <td>0.001046</td>\n",
              "      <td>0.001210</td>\n",
              "      <td>0.001002</td>\n",
              "      <td>0.001038</td>\n",
              "      <td>1.431720e+06</td>\n",
              "      <td>0.001038</td>\n",
              "    </tr>\n",
              "    <tr>\n",
              "      <th>25%</th>\n",
              "      <td>0.002494</td>\n",
              "      <td>0.002551</td>\n",
              "      <td>0.002430</td>\n",
              "      <td>0.002495</td>\n",
              "      <td>1.965492e+07</td>\n",
              "      <td>0.002496</td>\n",
              "    </tr>\n",
              "    <tr>\n",
              "      <th>50%</th>\n",
              "      <td>0.003161</td>\n",
              "      <td>0.003260</td>\n",
              "      <td>0.003059</td>\n",
              "      <td>0.003162</td>\n",
              "      <td>6.806869e+07</td>\n",
              "      <td>0.003162</td>\n",
              "    </tr>\n",
              "    <tr>\n",
              "      <th>75%</th>\n",
              "      <td>0.009115</td>\n",
              "      <td>0.009615</td>\n",
              "      <td>0.008515</td>\n",
              "      <td>0.009195</td>\n",
              "      <td>2.837324e+08</td>\n",
              "      <td>0.009279</td>\n",
              "    </tr>\n",
              "    <tr>\n",
              "      <th>max</th>\n",
              "      <td>0.687801</td>\n",
              "      <td>0.737567</td>\n",
              "      <td>0.608168</td>\n",
              "      <td>0.684777</td>\n",
              "      <td>6.941068e+10</td>\n",
              "      <td>0.684777</td>\n",
              "    </tr>\n",
              "  </tbody>\n",
              "</table>\n",
              "</div>\n",
              "      <button class=\"colab-df-convert\" onclick=\"convertToInteractive('df-ce9d4cdc-33fc-4809-91d5-82b299aeb8df')\"\n",
              "              title=\"Convert this dataframe to an interactive table.\"\n",
              "              style=\"display:none;\">\n",
              "        \n",
              "  <svg xmlns=\"http://www.w3.org/2000/svg\" height=\"24px\"viewBox=\"0 0 24 24\"\n",
              "       width=\"24px\">\n",
              "    <path d=\"M0 0h24v24H0V0z\" fill=\"none\"/>\n",
              "    <path d=\"M18.56 5.44l.94 2.06.94-2.06 2.06-.94-2.06-.94-.94-2.06-.94 2.06-2.06.94zm-11 1L8.5 8.5l.94-2.06 2.06-.94-2.06-.94L8.5 2.5l-.94 2.06-2.06.94zm10 10l.94 2.06.94-2.06 2.06-.94-2.06-.94-.94-2.06-.94 2.06-2.06.94z\"/><path d=\"M17.41 7.96l-1.37-1.37c-.4-.4-.92-.59-1.43-.59-.52 0-1.04.2-1.43.59L10.3 9.45l-7.72 7.72c-.78.78-.78 2.05 0 2.83L4 21.41c.39.39.9.59 1.41.59.51 0 1.02-.2 1.41-.59l7.78-7.78 2.81-2.81c.8-.78.8-2.07 0-2.86zM5.41 20L4 18.59l7.72-7.72 1.47 1.35L5.41 20z\"/>\n",
              "  </svg>\n",
              "      </button>\n",
              "      \n",
              "  <style>\n",
              "    .colab-df-container {\n",
              "      display:flex;\n",
              "      flex-wrap:wrap;\n",
              "      gap: 12px;\n",
              "    }\n",
              "\n",
              "    .colab-df-convert {\n",
              "      background-color: #E8F0FE;\n",
              "      border: none;\n",
              "      border-radius: 50%;\n",
              "      cursor: pointer;\n",
              "      display: none;\n",
              "      fill: #1967D2;\n",
              "      height: 32px;\n",
              "      padding: 0 0 0 0;\n",
              "      width: 32px;\n",
              "    }\n",
              "\n",
              "    .colab-df-convert:hover {\n",
              "      background-color: #E2EBFA;\n",
              "      box-shadow: 0px 1px 2px rgba(60, 64, 67, 0.3), 0px 1px 3px 1px rgba(60, 64, 67, 0.15);\n",
              "      fill: #174EA6;\n",
              "    }\n",
              "\n",
              "    [theme=dark] .colab-df-convert {\n",
              "      background-color: #3B4455;\n",
              "      fill: #D2E3FC;\n",
              "    }\n",
              "\n",
              "    [theme=dark] .colab-df-convert:hover {\n",
              "      background-color: #434B5C;\n",
              "      box-shadow: 0px 1px 3px 1px rgba(0, 0, 0, 0.15);\n",
              "      filter: drop-shadow(0px 1px 2px rgba(0, 0, 0, 0.3));\n",
              "      fill: #FFFFFF;\n",
              "    }\n",
              "  </style>\n",
              "\n",
              "      <script>\n",
              "        const buttonEl =\n",
              "          document.querySelector('#df-ce9d4cdc-33fc-4809-91d5-82b299aeb8df button.colab-df-convert');\n",
              "        buttonEl.style.display =\n",
              "          google.colab.kernel.accessAllowed ? 'block' : 'none';\n",
              "\n",
              "        async function convertToInteractive(key) {\n",
              "          const element = document.querySelector('#df-ce9d4cdc-33fc-4809-91d5-82b299aeb8df');\n",
              "          const dataTable =\n",
              "            await google.colab.kernel.invokeFunction('convertToInteractive',\n",
              "                                                     [key], {});\n",
              "          if (!dataTable) return;\n",
              "\n",
              "          const docLinkHtml = 'Like what you see? Visit the ' +\n",
              "            '<a target=\"_blank\" href=https://colab.research.google.com/notebooks/data_table.ipynb>data table notebook</a>'\n",
              "            + ' to learn more about interactive tables.';\n",
              "          element.innerHTML = '';\n",
              "          dataTable['output_type'] = 'display_data';\n",
              "          await google.colab.output.renderOutput(dataTable, element);\n",
              "          const docLink = document.createElement('div');\n",
              "          docLink.innerHTML = docLinkHtml;\n",
              "          element.appendChild(docLink);\n",
              "        }\n",
              "      </script>\n",
              "    </div>\n",
              "  </div>\n",
              "  "
            ],
            "text/plain": [
              "              Open         High          Low        Close        Volume  \\\n",
              "count  1532.000000  1532.000000  1532.000000  1532.000000  1.532000e+03   \n",
              "mean      0.053032     0.056574     0.049593     0.053151  1.049954e+09   \n",
              "std       0.106257     0.114770     0.097944     0.106358  3.809881e+09   \n",
              "min       0.001046     0.001210     0.001002     0.001038  1.431720e+06   \n",
              "25%       0.002494     0.002551     0.002430     0.002495  1.965492e+07   \n",
              "50%       0.003161     0.003260     0.003059     0.003162  6.806869e+07   \n",
              "75%       0.009115     0.009615     0.008515     0.009195  2.837324e+08   \n",
              "max       0.687801     0.737567     0.608168     0.684777  6.941068e+10   \n",
              "\n",
              "        prediction  \n",
              "count  1532.000000  \n",
              "mean      0.053185  \n",
              "std       0.106349  \n",
              "min       0.001038  \n",
              "25%       0.002496  \n",
              "50%       0.003162  \n",
              "75%       0.009279  \n",
              "max       0.684777  "
            ]
          },
          "execution_count": 80,
          "metadata": {},
          "output_type": "execute_result"
        }
      ],
      "source": [
        "df.describe()"
      ]
    },
    {
      "cell_type": "code",
      "execution_count": null,
      "metadata": {
        "id": "WEo5Hv0hvw2S"
      },
      "outputs": [],
      "source": [
        "X = np.array(df['Close'])\n",
        "X = np.reshape(X, (-1, 1))\n",
        "y = np.array(df['prediction'])\n"
      ]
    },
    {
      "cell_type": "code",
      "execution_count": null,
      "metadata": {
        "colab": {
          "base_uri": "https://localhost:8080/"
        },
        "id": "GMofeUIHwdv3",
        "outputId": "bcc90a02-3af3-405d-ceb3-40d9720a6ad1"
      },
      "outputs": [
        {
          "data": {
            "text/plain": [
              "array([[0.001415],\n",
              "       [0.001163],\n",
              "       [0.001201],\n",
              "       ...,\n",
              "       [0.177176],\n",
              "       [0.171145],\n",
              "       [0.166144]])"
            ]
          },
          "execution_count": 82,
          "metadata": {},
          "output_type": "execute_result"
        }
      ],
      "source": [
        "X"
      ]
    },
    {
      "cell_type": "code",
      "execution_count": null,
      "metadata": {
        "colab": {
          "base_uri": "https://localhost:8080/"
        },
        "id": "BFfRnzBgwcm6",
        "outputId": "04bcce68-f4fe-4905-d920-be564862f9cf"
      },
      "outputs": [
        {
          "data": {
            "text/plain": [
              "array([0.001163  , 0.001201  , 0.001038  , ..., 0.171145  , 0.166144  ,\n",
              "       0.05318503])"
            ]
          },
          "execution_count": 83,
          "metadata": {},
          "output_type": "execute_result"
        }
      ],
      "source": [
        "y"
      ]
    },
    {
      "cell_type": "code",
      "execution_count": null,
      "metadata": {
        "id": "w003I5oBv8z6"
      },
      "outputs": [],
      "source": [
        "from sklearn.model_selection import train_test_split\n",
        "\n",
        "X_train, X_test, y_train, y_test = train_test_split(X, y, test_size=0.15)\n"
      ]
    },
    {
      "cell_type": "code",
      "execution_count": null,
      "metadata": {
        "id": "NeosvDuOwDjB"
      },
      "outputs": [],
      "source": [
        "from sklearn.ensemble import RandomForestRegressor\n",
        "rnd=RandomForestRegressor(n_estimators=12,random_state=507)"
      ]
    },
    {
      "cell_type": "code",
      "execution_count": null,
      "metadata": {
        "colab": {
          "base_uri": "https://localhost:8080/"
        },
        "id": "o7foUQ4nwH0J",
        "outputId": "736f6d13-0e59-4a2e-e383-0544b223cca9"
      },
      "outputs": [
        {
          "data": {
            "text/plain": [
              "RandomForestRegressor(n_estimators=12, random_state=507)"
            ]
          },
          "execution_count": 86,
          "metadata": {},
          "output_type": "execute_result"
        }
      ],
      "source": [
        "rnd.fit(X_train,y_train)"
      ]
    },
    {
      "cell_type": "code",
      "execution_count": null,
      "metadata": {
        "colab": {
          "base_uri": "https://localhost:8080/"
        },
        "id": "i81AlN2fwLwB",
        "outputId": "873ff931-6f33-406a-eaa0-07f12ac81ab3"
      },
      "outputs": [
        {
          "data": {
            "text/plain": [
              "0.9623462640695337"
            ]
          },
          "execution_count": 87,
          "metadata": {},
          "output_type": "execute_result"
        }
      ],
      "source": [
        "rnd.score(X_test,y_test)"
      ]
    },
    {
      "cell_type": "code",
      "execution_count": null,
      "metadata": {
        "colab": {
          "base_uri": "https://localhost:8080/"
        },
        "id": "zTjMQ5wt9Hcl",
        "outputId": "99d0d51a-d8f9-4fe1-c8c0-ce535541eaa8"
      },
      "outputs": [
        {
          "data": {
            "text/plain": [
              "['finalized_model.sav']"
            ]
          },
          "execution_count": 88,
          "metadata": {},
          "output_type": "execute_result"
        }
      ],
      "source": [
        "import joblib\n",
        "\n",
        "filename = 'finalized_model.sav'\n",
        "joblib.dump(rnd, filename)"
      ]
    },
    {
      "cell_type": "code",
      "execution_count": null,
      "metadata": {
        "id": "h7pw8IrzRKS9"
      },
      "outputs": [],
      "source": [
        "model = joblib.load(filename)"
      ]
    },
    {
      "cell_type": "code",
      "execution_count": null,
      "metadata": {
        "colab": {
          "base_uri": "https://localhost:8080/"
        },
        "id": "xjjZe2XWRMMw",
        "outputId": "aa2151c6-e6a4-47bd-dbc0-e6fd833d97e2"
      },
      "outputs": [
        {
          "data": {
            "text/plain": [
              "array([0.33211533, 0.00374883, 0.1710795 , 0.005996  , 0.00318533,\n",
              "       0.00482117, 0.00738975, 0.00205964, 0.27464125, 0.05186533,\n",
              "       0.00253083, 0.00926883, 0.00239821, 0.180349  , 0.0034385 ,\n",
              "       0.24890567, 0.00594575, 0.00263765, 0.26439625, 0.00286817,\n",
              "       0.00205967, 0.00208075, 0.00325125, 0.00264395, 0.171317  ,\n",
              "       0.22479183, 0.00353567, 0.00260167, 0.23578792, 0.00403975,\n",
              "       0.00193825, 0.27778   , 0.00234144, 0.00191217, 0.00261397,\n",
              "       0.0033281 , 0.00488917, 0.00180717, 0.00248792, 0.0020335 ,\n",
              "       0.20564675, 0.00769417, 0.0043605 , 0.0024909 , 0.05013808,\n",
              "       0.00252908, 0.00263556, 0.00335717, 0.00294908, 0.00258425,\n",
              "       0.0023925 , 0.469444  , 0.00286817, 0.00196367, 0.0022895 ,\n",
              "       0.00452783, 0.05829283, 0.0027765 , 0.00260665, 0.00279511,\n",
              "       0.21982508, 0.0060265 , 0.007837  , 0.00309192, 0.00360646,\n",
              "       0.00263512, 0.00625508, 0.00227529, 0.001982  , 0.00286252,\n",
              "       0.003418  , 0.28852092, 0.00296283, 0.16272483, 0.00232792,\n",
              "       0.00255333, 0.00186175, 0.05676642, 0.00402308, 0.00251754,\n",
              "       0.00285706, 0.24046033, 0.00315625, 0.00720292, 0.00214617,\n",
              "       0.00237359, 0.003112  , 0.00207875, 0.056819  , 0.00437842,\n",
              "       0.06076792, 0.00205958, 0.0741245 , 0.00293812, 0.00260423,\n",
              "       0.00228958, 0.00361164, 0.51813142, 0.00244329, 0.00488917,\n",
              "       0.222255  , 0.00227533, 0.00333916, 0.00253017, 0.00413783,\n",
              "       0.05829283, 0.05724217, 0.00232533, 0.00264704, 0.0025265 ,\n",
              "       0.0028845 , 0.00229327, 0.00237359, 0.00281042, 0.00327383,\n",
              "       0.0035907 , 0.00198   , 0.00268242, 0.00244087, 0.002581  ,\n",
              "       0.3103145 , 0.005955  , 0.00454767, 0.00272567, 0.00333883,\n",
              "       0.0076765 , 0.24108533, 0.00909958, 0.00264192, 0.00229108,\n",
              "       0.00280922, 0.1702745 , 0.00254167, 0.00252767, 0.00176267,\n",
              "       0.00544588, 0.06076792, 0.00266575, 0.00302117, 0.00273592,\n",
              "       0.01174842, 0.0051075 , 0.00236087, 0.19132283, 0.00224289,\n",
              "       0.00253017, 0.002339  , 0.00326125, 0.216364  , 0.3347175 ,\n",
              "       0.00265958, 0.00198367, 0.00246475, 0.00224658, 0.00248092,\n",
              "       0.00218242, 0.006938  , 0.00228806, 0.00237836, 0.001884  ,\n",
              "       0.00198558, 0.00209444, 0.00344   , 0.00335442, 0.2476805 ,\n",
              "       0.001828  , 0.2758955 , 0.00296782, 0.33443633, 0.00338671,\n",
              "       0.20978883, 0.05521567, 0.1705405 , 0.00206508, 0.05216175,\n",
              "       0.00220633, 0.072896  , 0.00332625, 0.05581808, 0.00250549,\n",
              "       0.05624208, 0.00743375, 0.00283933, 0.002712  , 0.00232683,\n",
              "       0.00330721, 0.00290167, 0.007871  , 0.25734375, 0.00200733,\n",
              "       0.00239756, 0.00440042, 0.00269433, 0.004198  , 0.00353464,\n",
              "       0.00137   , 0.00433133, 0.18930392, 0.00293812, 0.0019725 ,\n",
              "       0.00265929, 0.24752442, 0.25338417, 0.53327908, 0.00266503,\n",
              "       0.188132  , 0.00190708, 0.009062  , 0.00182525, 0.04911267,\n",
              "       0.00425167, 0.0052865 , 0.24046033, 0.00303708, 0.0016955 ,\n",
              "       0.00344   , 0.0025265 , 0.00352867, 0.003396  , 0.00266071,\n",
              "       0.00506367, 0.05515308, 0.00254383, 0.00323742, 0.003096  ,\n",
              "       0.2461125 , 0.00275067, 0.00263153, 0.25842092, 0.00209325])"
            ]
          },
          "execution_count": 91,
          "metadata": {},
          "output_type": "execute_result"
        }
      ],
      "source": [
        "model.predict(X_test)"
      ]
    },
    {
      "cell_type": "code",
      "execution_count": null,
      "metadata": {
        "id": "c5vAUuVFRPyM"
      },
      "outputs": [],
      "source": []
    }
  ],
  "metadata": {
    "colab": {
      "name": "Untitled34.ipynb",
      "provenance": []
    },
    "kernelspec": {
      "display_name": "Python 3",
      "name": "python3"
    },
    "language_info": {
      "name": "python"
    }
  },
  "nbformat": 4,
  "nbformat_minor": 0
}
