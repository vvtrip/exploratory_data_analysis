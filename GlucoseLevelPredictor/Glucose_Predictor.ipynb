{
 "cells": [
  {
   "cell_type": "code",
   "execution_count": 1,
   "id": "8084358e",
   "metadata": {},
   "outputs": [],
   "source": [
    "import numpy as np\n",
    "import pandas as pd\n",
    "import matplotlib.pyplot as plt\n",
    "from sklearn.linear_model import LinearRegression\n",
    "from sklearn.model_selection import train_test_split\n",
    "from sklearn.metrics import mean_squared_error\n",
    "from sklearn.preprocessing import StandardScaler"
   ]
  },
  {
   "cell_type": "code",
   "execution_count": 2,
   "id": "49cde4a2",
   "metadata": {},
   "outputs": [
    {
     "data": {
      "text/html": [
       "<div>\n",
       "<style scoped>\n",
       "    .dataframe tbody tr th:only-of-type {\n",
       "        vertical-align: middle;\n",
       "    }\n",
       "\n",
       "    .dataframe tbody tr th {\n",
       "        vertical-align: top;\n",
       "    }\n",
       "\n",
       "    .dataframe thead th {\n",
       "        text-align: right;\n",
       "    }\n",
       "</style>\n",
       "<table border=\"1\" class=\"dataframe\">\n",
       "  <thead>\n",
       "    <tr style=\"text-align: right;\">\n",
       "      <th></th>\n",
       "      <th>GlucoseLevel</th>\n",
       "      <th>ArduinoReading</th>\n",
       "      <th>Voltage</th>\n",
       "    </tr>\n",
       "  </thead>\n",
       "  <tbody>\n",
       "    <tr>\n",
       "      <th>0</th>\n",
       "      <td>90</td>\n",
       "      <td>85</td>\n",
       "      <td>0.415039</td>\n",
       "    </tr>\n",
       "    <tr>\n",
       "      <th>1</th>\n",
       "      <td>90</td>\n",
       "      <td>87</td>\n",
       "      <td>0.424805</td>\n",
       "    </tr>\n",
       "    <tr>\n",
       "      <th>2</th>\n",
       "      <td>90</td>\n",
       "      <td>91</td>\n",
       "      <td>0.444336</td>\n",
       "    </tr>\n",
       "    <tr>\n",
       "      <th>3</th>\n",
       "      <td>90</td>\n",
       "      <td>88</td>\n",
       "      <td>0.429688</td>\n",
       "    </tr>\n",
       "    <tr>\n",
       "      <th>4</th>\n",
       "      <td>90</td>\n",
       "      <td>83</td>\n",
       "      <td>0.405273</td>\n",
       "    </tr>\n",
       "    <tr>\n",
       "      <th>...</th>\n",
       "      <td>...</td>\n",
       "      <td>...</td>\n",
       "      <td>...</td>\n",
       "    </tr>\n",
       "    <tr>\n",
       "      <th>85</th>\n",
       "      <td>91</td>\n",
       "      <td>91</td>\n",
       "      <td>0.444336</td>\n",
       "    </tr>\n",
       "    <tr>\n",
       "      <th>86</th>\n",
       "      <td>91</td>\n",
       "      <td>91</td>\n",
       "      <td>0.444336</td>\n",
       "    </tr>\n",
       "    <tr>\n",
       "      <th>87</th>\n",
       "      <td>91</td>\n",
       "      <td>84</td>\n",
       "      <td>0.410156</td>\n",
       "    </tr>\n",
       "    <tr>\n",
       "      <th>88</th>\n",
       "      <td>91</td>\n",
       "      <td>83</td>\n",
       "      <td>0.405273</td>\n",
       "    </tr>\n",
       "    <tr>\n",
       "      <th>89</th>\n",
       "      <td>91</td>\n",
       "      <td>87</td>\n",
       "      <td>0.424805</td>\n",
       "    </tr>\n",
       "  </tbody>\n",
       "</table>\n",
       "<p>90 rows × 3 columns</p>\n",
       "</div>"
      ],
      "text/plain": [
       "    GlucoseLevel  ArduinoReading   Voltage\n",
       "0             90              85  0.415039\n",
       "1             90              87  0.424805\n",
       "2             90              91  0.444336\n",
       "3             90              88  0.429688\n",
       "4             90              83  0.405273\n",
       "..           ...             ...       ...\n",
       "85            91              91  0.444336\n",
       "86            91              91  0.444336\n",
       "87            91              84  0.410156\n",
       "88            91              83  0.405273\n",
       "89            91              87  0.424805\n",
       "\n",
       "[90 rows x 3 columns]"
      ]
     },
     "execution_count": 2,
     "metadata": {},
     "output_type": "execute_result"
    }
   ],
   "source": [
    "df = pd.read_excel('Glucose_Data.xlsx')\n",
    "df"
   ]
  },
  {
   "cell_type": "code",
   "execution_count": 3,
   "id": "a8d9ba34",
   "metadata": {},
   "outputs": [
    {
     "data": {
      "text/html": [
       "<div>\n",
       "<style scoped>\n",
       "    .dataframe tbody tr th:only-of-type {\n",
       "        vertical-align: middle;\n",
       "    }\n",
       "\n",
       "    .dataframe tbody tr th {\n",
       "        vertical-align: top;\n",
       "    }\n",
       "\n",
       "    .dataframe thead th {\n",
       "        text-align: right;\n",
       "    }\n",
       "</style>\n",
       "<table border=\"1\" class=\"dataframe\">\n",
       "  <thead>\n",
       "    <tr style=\"text-align: right;\">\n",
       "      <th></th>\n",
       "      <th>GlucoseLevel</th>\n",
       "      <th>ArduinoReading</th>\n",
       "      <th>Voltage</th>\n",
       "    </tr>\n",
       "  </thead>\n",
       "  <tbody>\n",
       "    <tr>\n",
       "      <th>0</th>\n",
       "      <td>90</td>\n",
       "      <td>85</td>\n",
       "      <td>0.415039</td>\n",
       "    </tr>\n",
       "    <tr>\n",
       "      <th>1</th>\n",
       "      <td>90</td>\n",
       "      <td>87</td>\n",
       "      <td>0.424805</td>\n",
       "    </tr>\n",
       "    <tr>\n",
       "      <th>2</th>\n",
       "      <td>90</td>\n",
       "      <td>91</td>\n",
       "      <td>0.444336</td>\n",
       "    </tr>\n",
       "    <tr>\n",
       "      <th>3</th>\n",
       "      <td>90</td>\n",
       "      <td>88</td>\n",
       "      <td>0.429688</td>\n",
       "    </tr>\n",
       "    <tr>\n",
       "      <th>4</th>\n",
       "      <td>90</td>\n",
       "      <td>83</td>\n",
       "      <td>0.405273</td>\n",
       "    </tr>\n",
       "  </tbody>\n",
       "</table>\n",
       "</div>"
      ],
      "text/plain": [
       "   GlucoseLevel  ArduinoReading   Voltage\n",
       "0            90              85  0.415039\n",
       "1            90              87  0.424805\n",
       "2            90              91  0.444336\n",
       "3            90              88  0.429688\n",
       "4            90              83  0.405273"
      ]
     },
     "execution_count": 3,
     "metadata": {},
     "output_type": "execute_result"
    }
   ],
   "source": [
    "df.head()"
   ]
  },
  {
   "cell_type": "code",
   "execution_count": 4,
   "id": "98e143a3",
   "metadata": {},
   "outputs": [
    {
     "data": {
      "text/html": [
       "<div>\n",
       "<style scoped>\n",
       "    .dataframe tbody tr th:only-of-type {\n",
       "        vertical-align: middle;\n",
       "    }\n",
       "\n",
       "    .dataframe tbody tr th {\n",
       "        vertical-align: top;\n",
       "    }\n",
       "\n",
       "    .dataframe thead th {\n",
       "        text-align: right;\n",
       "    }\n",
       "</style>\n",
       "<table border=\"1\" class=\"dataframe\">\n",
       "  <thead>\n",
       "    <tr style=\"text-align: right;\">\n",
       "      <th></th>\n",
       "      <th>GlucoseLevel</th>\n",
       "      <th>ArduinoReading</th>\n",
       "      <th>Voltage</th>\n",
       "    </tr>\n",
       "  </thead>\n",
       "  <tbody>\n",
       "    <tr>\n",
       "      <th>85</th>\n",
       "      <td>91</td>\n",
       "      <td>91</td>\n",
       "      <td>0.444336</td>\n",
       "    </tr>\n",
       "    <tr>\n",
       "      <th>86</th>\n",
       "      <td>91</td>\n",
       "      <td>91</td>\n",
       "      <td>0.444336</td>\n",
       "    </tr>\n",
       "    <tr>\n",
       "      <th>87</th>\n",
       "      <td>91</td>\n",
       "      <td>84</td>\n",
       "      <td>0.410156</td>\n",
       "    </tr>\n",
       "    <tr>\n",
       "      <th>88</th>\n",
       "      <td>91</td>\n",
       "      <td>83</td>\n",
       "      <td>0.405273</td>\n",
       "    </tr>\n",
       "    <tr>\n",
       "      <th>89</th>\n",
       "      <td>91</td>\n",
       "      <td>87</td>\n",
       "      <td>0.424805</td>\n",
       "    </tr>\n",
       "  </tbody>\n",
       "</table>\n",
       "</div>"
      ],
      "text/plain": [
       "    GlucoseLevel  ArduinoReading   Voltage\n",
       "85            91              91  0.444336\n",
       "86            91              91  0.444336\n",
       "87            91              84  0.410156\n",
       "88            91              83  0.405273\n",
       "89            91              87  0.424805"
      ]
     },
     "execution_count": 4,
     "metadata": {},
     "output_type": "execute_result"
    }
   ],
   "source": [
    "df.tail()"
   ]
  },
  {
   "cell_type": "code",
   "execution_count": 5,
   "id": "fc5e0bef",
   "metadata": {},
   "outputs": [
    {
     "data": {
      "text/html": [
       "<div>\n",
       "<style scoped>\n",
       "    .dataframe tbody tr th:only-of-type {\n",
       "        vertical-align: middle;\n",
       "    }\n",
       "\n",
       "    .dataframe tbody tr th {\n",
       "        vertical-align: top;\n",
       "    }\n",
       "\n",
       "    .dataframe thead th {\n",
       "        text-align: right;\n",
       "    }\n",
       "</style>\n",
       "<table border=\"1\" class=\"dataframe\">\n",
       "  <thead>\n",
       "    <tr style=\"text-align: right;\">\n",
       "      <th></th>\n",
       "      <th>GlucoseLevel</th>\n",
       "      <th>ArduinoReading</th>\n",
       "      <th>Voltage</th>\n",
       "    </tr>\n",
       "  </thead>\n",
       "  <tbody>\n",
       "    <tr>\n",
       "      <th>count</th>\n",
       "      <td>90.000000</td>\n",
       "      <td>90.000000</td>\n",
       "      <td>90.000000</td>\n",
       "    </tr>\n",
       "    <tr>\n",
       "      <th>mean</th>\n",
       "      <td>115.888889</td>\n",
       "      <td>99.733333</td>\n",
       "      <td>0.486979</td>\n",
       "    </tr>\n",
       "    <tr>\n",
       "      <th>std</th>\n",
       "      <td>35.570612</td>\n",
       "      <td>18.575567</td>\n",
       "      <td>0.090701</td>\n",
       "    </tr>\n",
       "    <tr>\n",
       "      <th>min</th>\n",
       "      <td>88.000000</td>\n",
       "      <td>80.000000</td>\n",
       "      <td>0.390625</td>\n",
       "    </tr>\n",
       "    <tr>\n",
       "      <th>25%</th>\n",
       "      <td>91.000000</td>\n",
       "      <td>88.000000</td>\n",
       "      <td>0.429688</td>\n",
       "    </tr>\n",
       "    <tr>\n",
       "      <th>50%</th>\n",
       "      <td>102.000000</td>\n",
       "      <td>93.000000</td>\n",
       "      <td>0.454102</td>\n",
       "    </tr>\n",
       "    <tr>\n",
       "      <th>75%</th>\n",
       "      <td>111.000000</td>\n",
       "      <td>100.750000</td>\n",
       "      <td>0.491943</td>\n",
       "    </tr>\n",
       "    <tr>\n",
       "      <th>max</th>\n",
       "      <td>191.000000</td>\n",
       "      <td>149.000000</td>\n",
       "      <td>0.727539</td>\n",
       "    </tr>\n",
       "  </tbody>\n",
       "</table>\n",
       "</div>"
      ],
      "text/plain": [
       "       GlucoseLevel  ArduinoReading    Voltage\n",
       "count     90.000000       90.000000  90.000000\n",
       "mean     115.888889       99.733333   0.486979\n",
       "std       35.570612       18.575567   0.090701\n",
       "min       88.000000       80.000000   0.390625\n",
       "25%       91.000000       88.000000   0.429688\n",
       "50%      102.000000       93.000000   0.454102\n",
       "75%      111.000000      100.750000   0.491943\n",
       "max      191.000000      149.000000   0.727539"
      ]
     },
     "execution_count": 5,
     "metadata": {},
     "output_type": "execute_result"
    }
   ],
   "source": [
    "df.describe()"
   ]
  },
  {
   "cell_type": "code",
   "execution_count": 6,
   "id": "f9f6364e",
   "metadata": {},
   "outputs": [
    {
     "data": {
      "text/plain": [
       "<matplotlib.collections.PathCollection at 0x7f0c774c4760>"
      ]
     },
     "execution_count": 6,
     "metadata": {},
     "output_type": "execute_result"
    },
    {
     "data": {
      "image/png": "[encoded data removed]",
      "text/plain": [
       "<Figure size 432x288 with 1 Axes>"
      ]
     },
     "metadata": {
      "needs_background": "light"
     },
     "output_type": "display_data"
    }
   ],
   "source": [
    "plt.xlabel('Voltage')\n",
    "plt.ylabel('Glucose Level')\n",
    "plt.scatter(df.Voltage,df.GlucoseLevel,color='red',marker='+')"
   ]
  },
  {
   "cell_type": "code",
   "execution_count": 7,
   "id": "d8b93e6a",
   "metadata": {},
   "outputs": [],
   "source": [
    "X = df['Voltage']\n",
    "Y = df['GlucoseLevel']\n",
    "X = np.array(X)\n",
    "Y = np.array(Y)\n",
    "X = X.reshape(-1,1)\n",
    "Y = Y.reshape(-1,1)"
   ]
  },
  {
   "cell_type": "code",
   "execution_count": 8,
   "id": "a68d7a25",
   "metadata": {},
   "outputs": [
    {
     "data": {
      "text/plain": [
       "((90, 1), (90, 1))"
      ]
     },
     "execution_count": 8,
     "metadata": {},
     "output_type": "execute_result"
    }
   ],
   "source": [
    "X.shape, Y.shape"
   ]
  },
  {
   "cell_type": "code",
   "execution_count": 9,
   "id": "f02999e4",
   "metadata": {},
   "outputs": [],
   "source": [
    "scaler = StandardScaler()\n",
    "scaler.fit(X)\n",
    "standardized_data = scaler.transform(X)\n",
    "X = standardized_data\n",
    "Y = df['GlucoseLevel']"
   ]
  },
  {
   "cell_type": "code",
   "execution_count": 10,
   "id": "5a89a212",
   "metadata": {},
   "outputs": [],
   "source": [
    "X_train, X_test, Y_train, Y_test = train_test_split(X,Y,test_size = 0.20,random_state=72)"
   ]
  },
  {
   "cell_type": "code",
   "execution_count": 11,
   "id": "3a59d37a",
   "metadata": {},
   "outputs": [
    {
     "data": {
      "text/plain": [
       "(72, 1)"
      ]
     },
     "execution_count": 11,
     "metadata": {},
     "output_type": "execute_result"
    }
   ],
   "source": [
    "X_train.shape"
   ]
  },
  {
   "cell_type": "code",
   "execution_count": 12,
   "id": "6225b7da",
   "metadata": {},
   "outputs": [
    {
     "data": {
      "text/plain": [
       "(18, 1)"
      ]
     },
     "execution_count": 12,
     "metadata": {},
     "output_type": "execute_result"
    }
   ],
   "source": [
    "X_test.shape"
   ]
  },
  {
   "cell_type": "code",
   "execution_count": 13,
   "id": "383c31e1",
   "metadata": {},
   "outputs": [
    {
     "name": "stdout",
     "output_type": "stream",
     "text": [
      "[[-0.79760008]\n",
      " [-0.68932858]\n",
      " [-0.47278557]\n",
      " [-0.63519282]\n",
      " [-0.90587159]\n",
      " [-0.79760008]\n",
      " [-0.74346433]\n",
      " [-0.79760008]\n",
      " [-0.58105707]\n",
      " [-1.01414309]\n",
      " [-0.63519282]\n",
      " [-0.36451406]\n",
      " [-0.25624256]\n",
      " [-0.20210681]\n",
      " [-0.25624256]\n",
      " [-0.25624256]\n",
      " [-0.14797106]\n",
      " [-0.36451406]\n",
      " [-0.0938353 ]\n",
      " [-0.25624256]\n",
      " [ 1.2595585 ]\n",
      " [ 1.04301549]\n",
      " [ 1.42196576]\n",
      " [ 1.20542275]\n",
      " [ 1.04301549]\n",
      " [ 1.36783   ]\n",
      " [ 1.36783   ]\n",
      " [ 1.42196576]\n",
      " [ 1.20542275]\n",
      " [ 1.58437301]\n",
      " [ 2.01745903]\n",
      " [ 1.85505177]\n",
      " [ 1.63850876]\n",
      " [ 2.07159478]\n",
      " [ 1.96332328]\n",
      " [ 2.66708805]\n",
      " [ 2.6129523 ]\n",
      " [ 2.28813779]\n",
      " [ 2.39640929]\n",
      " [ 2.34227354]\n",
      " [-0.63519282]\n",
      " [-0.96000734]\n",
      " [-0.90587159]\n",
      " [-0.96000734]\n",
      " [-0.96000734]\n",
      " [-1.01414309]\n",
      " [-0.96000734]\n",
      " [-0.74346433]\n",
      " [-1.06827884]\n",
      " [-1.01414309]\n",
      " [ 0.17684346]\n",
      " [ 0.0144362 ]\n",
      " [ 0.06857195]\n",
      " [ 0.0144362 ]\n",
      " [-0.14797106]\n",
      " [-0.63519282]\n",
      " [-0.25624256]\n",
      " [-0.20210681]\n",
      " [-0.03969955]\n",
      " [ 0.23097921]\n",
      " [-0.25624256]\n",
      " [-0.20210681]\n",
      " [-0.41864982]\n",
      " [-0.36451406]\n",
      " [-0.41864982]\n",
      " [-0.31037831]\n",
      " [-0.31037831]\n",
      " [-0.36451406]\n",
      " [-0.31037831]\n",
      " [-0.25624256]\n",
      " [-0.63519282]\n",
      " [-0.41864982]\n",
      " [-0.36451406]\n",
      " [-0.36451406]\n",
      " [-0.41864982]\n",
      " [-0.68932858]\n",
      " [-0.47278557]\n",
      " [-0.52692132]\n",
      " [-0.14797106]\n",
      " [-0.58105707]\n",
      " [-0.63519282]\n",
      " [-0.85173583]\n",
      " [-0.90587159]\n",
      " [-0.41864982]\n",
      " [-0.47278557]\n",
      " [-0.47278557]\n",
      " [-0.47278557]\n",
      " [-0.85173583]\n",
      " [-0.90587159]\n",
      " [-0.68932858]]\n"
     ]
    }
   ],
   "source": [
    "print(X)"
   ]
  },
  {
   "cell_type": "code",
   "execution_count": 14,
   "id": "91a8737d",
   "metadata": {},
   "outputs": [
    {
     "data": {
      "text/plain": [
       "LinearRegression(copy_X=True, fit_intercept=True, n_jobs=None, normalize=False)"
      ]
     },
     "execution_count": 14,
     "metadata": {},
     "output_type": "execute_result"
    }
   ],
   "source": [
    "lr = LinearRegression(fit_intercept = True)\n",
    "lr.fit(X_train,Y_train)"
   ]
  },
  {
   "cell_type": "code",
   "execution_count": 15,
   "id": "1a5e334e",
   "metadata": {},
   "outputs": [
    {
     "name": "stdout",
     "output_type": "stream",
     "text": [
      "58.50832239675896\n"
     ]
    }
   ],
   "source": [
    "Y_prediction = lr.predict(X_test)\n",
    "mse = mean_squared_error(Y_test,Y_prediction)\n",
    "print(mse)"
   ]
  },
  {
   "cell_type": "code",
   "execution_count": 16,
   "id": "26cba4f6",
   "metadata": {},
   "outputs": [
    {
     "name": "stdout",
     "output_type": "stream",
     "text": [
      "Linear Model Coefficient (m) :  [35.01011089]\n",
      "Linear Model Coefficient (b) :  115.8122208445489\n"
     ]
    }
   ],
   "source": [
    "print('Linear Model Coefficient (m) : ', lr.coef_)\n",
    "print('Linear Model Coefficient (b) : ', lr.intercept_)"
   ]
  },
  {
   "cell_type": "code",
   "execution_count": 17,
   "id": "dac93077",
   "metadata": {},
   "outputs": [
    {
     "data": {
      "text/plain": [
       "array([133.31727629])"
      ]
     },
     "execution_count": 17,
     "metadata": {},
     "output_type": "execute_result"
    }
   ],
   "source": [
    "new_value = [[0.5000]]\n",
    "new_prediction = lr.predict(new_value)\n",
    "new_prediction"
   ]
  }
 ],
 "metadata": {
  "kernelspec": {
   "display_name": "Python 3 (ipykernel)",
   "language": "python",
   "name": "python3"
  },
  "language_info": {
   "codemirror_mode": {
    "name": "ipython",
    "version": 3
   },
   "file_extension": ".py",
   "mimetype": "text/x-python",
   "name": "python",
   "nbconvert_exporter": "python",
   "pygments_lexer": "ipython3",
   "version": "3.9.12"
  }
 },
 "nbformat": 4,
 "nbformat_minor": 5
}
