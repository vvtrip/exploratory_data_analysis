{
 "cells": [
  {
   "cell_type": "code",
   "execution_count": 136,
   "id": "7e752663",
   "metadata": {},
   "outputs": [],
   "source": [
    "import numpy as np\n",
    "import pandas as pd\n",
    "boston_dataset = np.loadtxt(\"0000000000002417_training_boston_x_y_train.csv\",delimiter=\",\")\n",
    "test_data = np.loadtxt(\"0000000000002417_test_boston_x_test.csv\",delimiter=\",\")"
   ]
  },
  {
   "cell_type": "code",
   "execution_count": 137,
   "id": "f5499fd2",
   "metadata": {},
   "outputs": [],
   "source": [
    "def step_gradient(points,learning_rate, m, c):\n",
    "     \n",
    "        m_slope = [0]*13\n",
    "        c_slope = 0\n",
    "        N = len(points)\n",
    "        for i in range(N):\n",
    "            y = points[i][13]\n",
    "            mx = 0\n",
    "            for j in range(13):\n",
    "                mx += m[j]*points[i][j]\n",
    "       \n",
    "            for j in range(13):\n",
    "                m_slope[j] += (-2/N) * (y-mx-c)*points[i][j]\n",
    "               \n",
    "            c_slope += (-2/N) * (y-mx-c) \n",
    "        new_m = [0]*13\n",
    "        new_c = 0\n",
    "        \n",
    "        for i in range(13):\n",
    "            new_m[i] = m[i] - learning_rate*m_slope[i]\n",
    "        new_c = c - learning_rate*c_slope\n",
    "        \n",
    "        return new_m,new_c\n"
   ]
  },
  {
   "cell_type": "code",
   "execution_count": 138,
   "id": "7e500ed0",
   "metadata": {},
   "outputs": [],
   "source": [
    "def gradientDescent(points, learning_rate,iterations):\n",
    "    m = [0]*13\n",
    "    c = 0\n",
    "    for i in range(iterations):\n",
    "        m,c = step_gradient(points,learning_rate,m,c)\n",
    "#         print(\"Iteration: \",i,\" Cost: \",cost(points,m,c))\n",
    "    return m,c"
   ]
  },
  {
   "cell_type": "code",
   "execution_count": 139,
   "id": "54a28fc8",
   "metadata": {},
   "outputs": [],
   "source": [
    "def cost(points, m, c):\n",
    "    total_cost = 0\n",
    "    N = len(points)\n",
    "    for i in range(N):\n",
    "        y = points[i][13]\n",
    "        mx = 0\n",
    "        for j in range(13):\n",
    "                mx += m[j]*points[i][j]\n",
    "        total_cost += (1/N)*((y-mx-c)**2)\n",
    "    return total_cost"
   ]
  },
  {
   "cell_type": "code",
   "execution_count": 140,
   "id": "874fd49e",
   "metadata": {},
   "outputs": [],
   "source": [
    "def run():\n",
    "    learning_rate = 0.01\n",
    "    iterations = 10000\n",
    "    m,c = gradientDescent(boston_dataset, learning_rate, iterations)\n",
    "    print(\"m = \",m)\n",
    "    print(\"c = \",c)\n",
    "    return m,c"
   ]
  },
  {
   "cell_type": "code",
   "execution_count": 141,
   "id": "ff41f9bd",
   "metadata": {},
   "outputs": [
    {
     "name": "stdout",
     "output_type": "stream",
     "text": [
      "m =  [-0.9380805970734362, 0.7410339628208883, 0.01169019563182845, 0.7808738730357463, -2.174557306552989, 2.354296686808945, 0.12333794310562556, -2.952323645170898, 2.5329652607942035, -1.702900291504942, -2.2515195059829094, 0.5883542277611565, -4.26368146951532]\n",
      "c =  22.677233274929193\n"
     ]
    }
   ],
   "source": [
    "m,c = run()"
   ]
  },
  {
   "cell_type": "code",
   "execution_count": 142,
   "id": "7df13aee",
   "metadata": {},
   "outputs": [],
   "source": [
    "def prediction(points,m,c):\n",
    "    pred = np.empty([127,1])\n",
    "    for i in range(127):\n",
    "        current_prediction = 0\n",
    "        for j in range(13):\n",
    "            current_prediction += points[i][j]*m[j]\n",
    "        current_prediction+=c\n",
    "        pred[i] = current_prediction\n",
    "    return pred"
   ]
  },
  {
   "cell_type": "code",
   "execution_count": 143,
   "id": "9576fe0a",
   "metadata": {},
   "outputs": [],
   "source": [
    "pred = prediction(test_data,m,c)\n",
    "pred\n",
    "df = pd.DataFrame(pred)"
   ]
  },
  {
   "cell_type": "code",
   "execution_count": 144,
   "id": "72782e96",
   "metadata": {},
   "outputs": [],
   "source": [
    "df.to_csv('predictions.csv', header = False, index = False)"
   ]
  }
 ],
 "metadata": {
  "kernelspec": {
   "display_name": "Python 3 (ipykernel)",
   "language": "python",
   "name": "python3"
  },
  "language_info": {
   "codemirror_mode": {
    "name": "ipython",
    "version": 3
   },
   "file_extension": ".py",
   "mimetype": "text/x-python",
   "name": "python",
   "nbconvert_exporter": "python",
   "pygments_lexer": "ipython3",
   "version": "3.9.12"
  }
 },
 "nbformat": 4,
 "nbformat_minor": 5
}
