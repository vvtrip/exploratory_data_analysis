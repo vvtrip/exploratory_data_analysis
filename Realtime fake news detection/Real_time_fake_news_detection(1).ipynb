{
  "nbformat": 4,
  "nbformat_minor": 0,
  "metadata": {
    "colab": {
      "name": "Real_time_fake_news_detection(1).ipynb",
      "provenance": []
    },
    "kernelspec": {
      "name": "python3",
      "display_name": "Python 3"
    },
    "language_info": {
      "name": "python"
    }
  },
  "cells": [
    {
      "cell_type": "code",
      "execution_count": null,
      "metadata": {
        "id": "EOJe2gF8PjqH"
      },
      "outputs": [],
      "source": [
        "!pip install -q kaggle"
      ]
    },
    {
      "cell_type": "code",
      "source": [
        "from google.colab import files\n",
        "files.upload()"
      ],
      "metadata": {
        "colab": {
          "resources": {
            "http://localhost:8080/nbextensions/google.colab/files.js": {
              "data": "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",
              "ok": true,
              "headers": [
                [
                  "content-type",
                  "application/javascript"
                ]
              ],
              "status": 200,
              "status_text": ""
            }
          },
          "base_uri": "https://localhost:8080/",
          "height": 91
        },
        "id": "DxuEJG5aQC8K",
        "outputId": "34d5b4f3-4513-4153-822d-f0899ce80ddb"
      },
      "execution_count": null,
      "outputs": [
        {
          "output_type": "display_data",
          "data": {
            "text/plain": [
              "<IPython.core.display.HTML object>"
            ],
            "text/html": [
              "\n",
              "     <input type=\"file\" id=\"files-735c51bc-809f-428a-bb6c-a450dc7fae44\" name=\"files[]\" multiple disabled\n",
              "        style=\"border:none\" />\n",
              "     <output id=\"result-735c51bc-809f-428a-bb6c-a450dc7fae44\">\n",
              "      Upload widget is only available when the cell has been executed in the\n",
              "      current browser session. Please rerun this cell to enable.\n",
              "      </output>\n",
              "      <script src=\"/nbextensions/google.colab/files.js\"></script> "
            ]
          },
          "metadata": {}
        },
        {
          "output_type": "stream",
          "name": "stdout",
          "text": [
            "Saving kaggle.json to kaggle.json\n"
          ]
        },
        {
          "output_type": "execute_result",
          "data": {
            "text/plain": [
              "{'kaggle.json': b'{\"username\":\"samonkaggle\",\"key\":\"36f76ca324bc87aca9d014433b896a18\"}'}"
            ]
          },
          "metadata": {},
          "execution_count": 2
        }
      ]
    },
    {
      "cell_type": "code",
      "source": [
        "! mkdir ~/.kaggle"
      ],
      "metadata": {
        "id": "lOVM_cqTQoPW"
      },
      "execution_count": null,
      "outputs": []
    },
    {
      "cell_type": "code",
      "source": [
        "! cp kaggle.json  ~/.kaggle/"
      ],
      "metadata": {
        "id": "7ZTlVpuiQwb_"
      },
      "execution_count": null,
      "outputs": []
    },
    {
      "cell_type": "code",
      "source": [
        "! chmod 600 ~/.kaggle/kaggle.json"
      ],
      "metadata": {
        "id": "TbXuXFsYRGTa"
      },
      "execution_count": null,
      "outputs": []
    },
    {
      "cell_type": "code",
      "source": [
        "! kaggle datasets list"
      ],
      "metadata": {
        "colab": {
          "base_uri": "https://localhost:8080/"
        },
        "id": "NPv_A3XqRODK",
        "outputId": "a3701a3b-0091-417a-c75e-233a6122011b"
      },
      "execution_count": null,
      "outputs": [
        {
          "output_type": "stream",
          "name": "stdout",
          "text": [
            "ref                                                 title                                  size  lastUpdated          downloadCount  voteCount  usabilityRating  \n",
            "--------------------------------------------------  ------------------------------------  -----  -------------------  -------------  ---------  ---------------  \n",
            "ruchi798/data-science-job-salaries                  Data Science Job Salaries               7KB  2022-06-15 08:59:12          17624        549  1.0              \n",
            "aravindas01/monkeypox-cases-countrywise-data        MonkeyPox Cases_Countrywise Data        6KB  2022-08-10 17:12:36            525         27  0.9117647        \n",
            "faryarmemon/usa-housing-market-factors              U.S. Housing Market Factors            32KB  2022-08-03 02:19:31            425         30  1.0              \n",
            "zzettrkalpakbal/full-filled-brain-stroke-dataset    Brain stroke prediction dataset        52KB  2022-07-16 09:57:08           1973         62  0.9705882        \n",
            "himanshunakrani/student-study-hours                 Student Study Hours                    276B  2022-07-20 13:17:29           1498         57  1.0              \n",
            "jillanisofttech/brain-stroke-dataset                Brain Stroke Dataset                   47KB  2022-08-04 18:02:56            667         29  0.9705882        \n",
            "nancyalaswad90/diamonds-prices                      Diamonds Prices                       711KB  2022-07-09 14:59:21           1945         89  1.0              \n",
            "erqizhou/students-data-analysis                     Students Data Analysis                  2KB  2022-07-20 03:54:13            778         28  1.0              \n",
            "dansbecker/melbourne-housing-snapshot               Melbourne Housing Snapshot            451KB  2018-06-05 12:52:24          92794       1118  0.7058824        \n",
            "gabrielabilleira/football-manager-2022-player-data  Football Manager 2022 Player Data      94KB  2022-07-26 09:49:50            546         28  1.0              \n",
            "mukuldeshantri/ecommerce-fashion-dataset            E-commerce Dataset with 30K Products  546KB  2022-07-08 12:28:18           2262         68  1.0              \n",
            "datasnaek/youtube-new                               Trending YouTube Video Statistics     201MB  2019-06-03 00:56:47         181067       4628  0.7941176        \n",
            "zynicide/wine-reviews                               Wine Reviews                           51MB  2017-11-27 17:08:04         164231       3348  0.7941176        \n",
            "residentmario/ramen-ratings                         Ramen Ratings                          40KB  2018-01-11 16:04:39          35109        802  0.7058824        \n",
            "rtatman/188-million-us-wildfires                    1.88 Million US Wildfires             168MB  2020-05-12 21:03:49          20978       1026  0.8235294        \n",
            "datasnaek/chess                                     Chess Game Dataset (Lichess)            3MB  2017-09-04 03:09:09          30770       1023  0.8235294        \n",
            "jpmiller/publicassistance                           US Public Food Assistance             703KB  2020-08-21 16:51:18          16824        401  0.9117647        \n",
            "dansbecker/powerlifting-database                    powerlifting-database                   9MB  2019-04-30 21:07:41           5207         64  0.5882353        \n",
            "nasa/kepler-exoplanet-search-results                Kepler Exoplanet Search Results         1MB  2017-10-10 18:26:59          10720        667  0.8235294        \n",
            "residentmario/things-on-reddit                      Things on Reddit                       16MB  2017-10-26 14:10:15           8769        219  0.5882353        \n"
          ]
        }
      ]
    },
    {
      "cell_type": "code",
      "source": [
        "! kaggle datasets download -d clmentbisaillon/fake-and-real-news-dataset"
      ],
      "metadata": {
        "colab": {
          "base_uri": "https://localhost:8080/"
        },
        "id": "eq5gr8tSRWx4",
        "outputId": "492f30b1-f00a-4184-fa3a-b6e10818f7aa"
      },
      "execution_count": null,
      "outputs": [
        {
          "output_type": "stream",
          "name": "stdout",
          "text": [
            "Downloading fake-and-real-news-dataset.zip to /content\n",
            " 71% 29.0M/41.0M [00:00<00:00, 154MB/s] \n",
            "100% 41.0M/41.0M [00:00<00:00, 154MB/s]\n"
          ]
        }
      ]
    },
    {
      "cell_type": "code",
      "source": [
        "!unzip fake-and-real-news-dataset.zip"
      ],
      "metadata": {
        "colab": {
          "base_uri": "https://localhost:8080/"
        },
        "id": "Th38VuabTZSC",
        "outputId": "d76bf946-b676-4ba4-e38a-672180547aaa"
      },
      "execution_count": null,
      "outputs": [
        {
          "output_type": "stream",
          "name": "stdout",
          "text": [
            "Archive:  fake-and-real-news-dataset.zip\n",
            "  inflating: Fake.csv                \n",
            "  inflating: True.csv                \n"
          ]
        }
      ]
    },
    {
      "cell_type": "code",
      "source": [
        "import numpy as np\n",
        "import pandas as pd\n",
        "import matplotlib.pyplot as plt\n",
        "import pickle"
      ],
      "metadata": {
        "id": "VVLGEEXxTtBC"
      },
      "execution_count": null,
      "outputs": []
    },
    {
      "cell_type": "code",
      "source": [
        "real_data=pd.read_csv(\"True.csv\")\n",
        "fake_data=pd.read_csv(\"Fake.csv\")"
      ],
      "metadata": {
        "id": "zBNrEqT1UMdJ"
      },
      "execution_count": null,
      "outputs": []
    },
    {
      "cell_type": "code",
      "source": [
        "#Removing Date Attribute\n",
        "real_data = real_data.iloc[:, 0:-1] \n",
        "fake_data = fake_data.iloc[:, 0:-1] "
      ],
      "metadata": {
        "id": "m-vtXue_UMai"
      },
      "execution_count": null,
      "outputs": []
    },
    {
      "cell_type": "code",
      "source": [
        "print(real_data.shape)\n",
        "print(fake_data.shape)"
      ],
      "metadata": {
        "colab": {
          "base_uri": "https://localhost:8080/"
        },
        "id": "kCJCo92EUMX0",
        "outputId": "228ce081-177d-4761-e3f3-e16ad35e7e0a"
      },
      "execution_count": null,
      "outputs": [
        {
          "output_type": "stream",
          "name": "stdout",
          "text": [
            "(21417, 3)\n",
            "(23481, 3)\n"
          ]
        }
      ]
    },
    {
      "cell_type": "code",
      "source": [
        "fake_rate=(fake_data.shape[0])/((fake_data.shape[0])+real_data.shape[0])*100\n",
        "print(\"Percentage of Fake data is: \", fake_rate)"
      ],
      "metadata": {
        "colab": {
          "base_uri": "https://localhost:8080/"
        },
        "id": "7h5gnDY4UtXS",
        "outputId": "a60ac476-4c61-4c6b-da44-17a6e00f5511"
      },
      "execution_count": null,
      "outputs": [
        {
          "output_type": "stream",
          "name": "stdout",
          "text": [
            "Percentage of Fake data is:  52.29854336496058\n"
          ]
        }
      ]
    },
    {
      "cell_type": "code",
      "source": [
        "fake_data['label']=0\n",
        "real_data['label']=1"
      ],
      "metadata": {
        "id": "hNlx9RAkUtUp"
      },
      "execution_count": null,
      "outputs": []
    },
    {
      "cell_type": "code",
      "source": [
        "data = fake_data\n",
        "data=pd.concat([fake_data,real_data], axis=0, ignore_index=True)\n",
        "data"
      ],
      "metadata": {
        "colab": {
          "base_uri": "https://localhost:8080/",
          "height": 424
        },
        "id": "31fbT6FqUtRm",
        "outputId": "de4d5be2-36f4-48b9-ebce-e8666716cdd5"
      },
      "execution_count": null,
      "outputs": [
        {
          "output_type": "execute_result",
          "data": {
            "text/plain": [
              "                                                   title  \\\n",
              "0       Donald Trump Sends Out Embarrassing New Year’...   \n",
              "1       Drunk Bragging Trump Staffer Started Russian ...   \n",
              "2       Sheriff David Clarke Becomes An Internet Joke...   \n",
              "3       Trump Is So Obsessed He Even Has Obama’s Name...   \n",
              "4       Pope Francis Just Called Out Donald Trump Dur...   \n",
              "...                                                  ...   \n",
              "44893  'Fully committed' NATO backs new U.S. approach...   \n",
              "44894  LexisNexis withdrew two products from Chinese ...   \n",
              "44895  Minsk cultural hub becomes haven from authorities   \n",
              "44896  Vatican upbeat on possibility of Pope Francis ...   \n",
              "44897  Indonesia to buy $1.14 billion worth of Russia...   \n",
              "\n",
              "                                                    text    subject  label  \n",
              "0      Donald Trump just couldn t wish all Americans ...       News      0  \n",
              "1      House Intelligence Committee Chairman Devin Nu...       News      0  \n",
              "2      On Friday, it was revealed that former Milwauk...       News      0  \n",
              "3      On Christmas day, Donald Trump announced that ...       News      0  \n",
              "4      Pope Francis used his annual Christmas Day mes...       News      0  \n",
              "...                                                  ...        ...    ...  \n",
              "44893  BRUSSELS (Reuters) - NATO allies on Tuesday we...  worldnews      1  \n",
              "44894  LONDON (Reuters) - LexisNexis, a provider of l...  worldnews      1  \n",
              "44895  MINSK (Reuters) - In the shadow of disused Sov...  worldnews      1  \n",
              "44896  MOSCOW (Reuters) - Vatican Secretary of State ...  worldnews      1  \n",
              "44897  JAKARTA (Reuters) - Indonesia will buy 11 Sukh...  worldnews      1  \n",
              "\n",
              "[44898 rows x 4 columns]"
            ],
            "text/html": [
              "\n",
              "  <div id=\"df-2915caa1-e2e8-43a7-b8b3-c6f4b69e15d7\">\n",
              "    <div class=\"colab-df-container\">\n",
              "      <div>\n",
              "<style scoped>\n",
              "    .dataframe tbody tr th:only-of-type {\n",
              "        vertical-align: middle;\n",
              "    }\n",
              "\n",
              "    .dataframe tbody tr th {\n",
              "        vertical-align: top;\n",
              "    }\n",
              "\n",
              "    .dataframe thead th {\n",
              "        text-align: right;\n",
              "    }\n",
              "</style>\n",
              "<table border=\"1\" class=\"dataframe\">\n",
              "  <thead>\n",
              "    <tr style=\"text-align: right;\">\n",
              "      <th></th>\n",
              "      <th>title</th>\n",
              "      <th>text</th>\n",
              "      <th>subject</th>\n",
              "      <th>label</th>\n",
              "    </tr>\n",
              "  </thead>\n",
              "  <tbody>\n",
              "    <tr>\n",
              "      <th>0</th>\n",
              "      <td>Donald Trump Sends Out Embarrassing New Year’...</td>\n",
              "      <td>Donald Trump just couldn t wish all Americans ...</td>\n",
              "      <td>News</td>\n",
              "      <td>0</td>\n",
              "    </tr>\n",
              "    <tr>\n",
              "      <th>1</th>\n",
              "      <td>Drunk Bragging Trump Staffer Started Russian ...</td>\n",
              "      <td>House Intelligence Committee Chairman Devin Nu...</td>\n",
              "      <td>News</td>\n",
              "      <td>0</td>\n",
              "    </tr>\n",
              "    <tr>\n",
              "      <th>2</th>\n",
              "      <td>Sheriff David Clarke Becomes An Internet Joke...</td>\n",
              "      <td>On Friday, it was revealed that former Milwauk...</td>\n",
              "      <td>News</td>\n",
              "      <td>0</td>\n",
              "    </tr>\n",
              "    <tr>\n",
              "      <th>3</th>\n",
              "      <td>Trump Is So Obsessed He Even Has Obama’s Name...</td>\n",
              "      <td>On Christmas day, Donald Trump announced that ...</td>\n",
              "      <td>News</td>\n",
              "      <td>0</td>\n",
              "    </tr>\n",
              "    <tr>\n",
              "      <th>4</th>\n",
              "      <td>Pope Francis Just Called Out Donald Trump Dur...</td>\n",
              "      <td>Pope Francis used his annual Christmas Day mes...</td>\n",
              "      <td>News</td>\n",
              "      <td>0</td>\n",
              "    </tr>\n",
              "    <tr>\n",
              "      <th>...</th>\n",
              "      <td>...</td>\n",
              "      <td>...</td>\n",
              "      <td>...</td>\n",
              "      <td>...</td>\n",
              "    </tr>\n",
              "    <tr>\n",
              "      <th>44893</th>\n",
              "      <td>'Fully committed' NATO backs new U.S. approach...</td>\n",
              "      <td>BRUSSELS (Reuters) - NATO allies on Tuesday we...</td>\n",
              "      <td>worldnews</td>\n",
              "      <td>1</td>\n",
              "    </tr>\n",
              "    <tr>\n",
              "      <th>44894</th>\n",
              "      <td>LexisNexis withdrew two products from Chinese ...</td>\n",
              "      <td>LONDON (Reuters) - LexisNexis, a provider of l...</td>\n",
              "      <td>worldnews</td>\n",
              "      <td>1</td>\n",
              "    </tr>\n",
              "    <tr>\n",
              "      <th>44895</th>\n",
              "      <td>Minsk cultural hub becomes haven from authorities</td>\n",
              "      <td>MINSK (Reuters) - In the shadow of disused Sov...</td>\n",
              "      <td>worldnews</td>\n",
              "      <td>1</td>\n",
              "    </tr>\n",
              "    <tr>\n",
              "      <th>44896</th>\n",
              "      <td>Vatican upbeat on possibility of Pope Francis ...</td>\n",
              "      <td>MOSCOW (Reuters) - Vatican Secretary of State ...</td>\n",
              "      <td>worldnews</td>\n",
              "      <td>1</td>\n",
              "    </tr>\n",
              "    <tr>\n",
              "      <th>44897</th>\n",
              "      <td>Indonesia to buy $1.14 billion worth of Russia...</td>\n",
              "      <td>JAKARTA (Reuters) - Indonesia will buy 11 Sukh...</td>\n",
              "      <td>worldnews</td>\n",
              "      <td>1</td>\n",
              "    </tr>\n",
              "  </tbody>\n",
              "</table>\n",
              "<p>44898 rows × 4 columns</p>\n",
              "</div>\n",
              "      <button class=\"colab-df-convert\" onclick=\"convertToInteractive('df-2915caa1-e2e8-43a7-b8b3-c6f4b69e15d7')\"\n",
              "              title=\"Convert this dataframe to an interactive table.\"\n",
              "              style=\"display:none;\">\n",
              "        \n",
              "  <svg xmlns=\"http://www.w3.org/2000/svg\" height=\"24px\"viewBox=\"0 0 24 24\"\n",
              "       width=\"24px\">\n",
              "    <path d=\"M0 0h24v24H0V0z\" fill=\"none\"/>\n",
              "    <path d=\"M18.56 5.44l.94 2.06.94-2.06 2.06-.94-2.06-.94-.94-2.06-.94 2.06-2.06.94zm-11 1L8.5 8.5l.94-2.06 2.06-.94-2.06-.94L8.5 2.5l-.94 2.06-2.06.94zm10 10l.94 2.06.94-2.06 2.06-.94-2.06-.94-.94-2.06-.94 2.06-2.06.94z\"/><path d=\"M17.41 7.96l-1.37-1.37c-.4-.4-.92-.59-1.43-.59-.52 0-1.04.2-1.43.59L10.3 9.45l-7.72 7.72c-.78.78-.78 2.05 0 2.83L4 21.41c.39.39.9.59 1.41.59.51 0 1.02-.2 1.41-.59l7.78-7.78 2.81-2.81c.8-.78.8-2.07 0-2.86zM5.41 20L4 18.59l7.72-7.72 1.47 1.35L5.41 20z\"/>\n",
              "  </svg>\n",
              "      </button>\n",
              "      \n",
              "  <style>\n",
              "    .colab-df-container {\n",
              "      display:flex;\n",
              "      flex-wrap:wrap;\n",
              "      gap: 12px;\n",
              "    }\n",
              "\n",
              "    .colab-df-convert {\n",
              "      background-color: #E8F0FE;\n",
              "      border: none;\n",
              "      border-radius: 50%;\n",
              "      cursor: pointer;\n",
              "      display: none;\n",
              "      fill: #1967D2;\n",
              "      height: 32px;\n",
              "      padding: 0 0 0 0;\n",
              "      width: 32px;\n",
              "    }\n",
              "\n",
              "    .colab-df-convert:hover {\n",
              "      background-color: #E2EBFA;\n",
              "      box-shadow: 0px 1px 2px rgba(60, 64, 67, 0.3), 0px 1px 3px 1px rgba(60, 64, 67, 0.15);\n",
              "      fill: #174EA6;\n",
              "    }\n",
              "\n",
              "    [theme=dark] .colab-df-convert {\n",
              "      background-color: #3B4455;\n",
              "      fill: #D2E3FC;\n",
              "    }\n",
              "\n",
              "    [theme=dark] .colab-df-convert:hover {\n",
              "      background-color: #434B5C;\n",
              "      box-shadow: 0px 1px 3px 1px rgba(0, 0, 0, 0.15);\n",
              "      filter: drop-shadow(0px 1px 2px rgba(0, 0, 0, 0.3));\n",
              "      fill: #FFFFFF;\n",
              "    }\n",
              "  </style>\n",
              "\n",
              "      <script>\n",
              "        const buttonEl =\n",
              "          document.querySelector('#df-2915caa1-e2e8-43a7-b8b3-c6f4b69e15d7 button.colab-df-convert');\n",
              "        buttonEl.style.display =\n",
              "          google.colab.kernel.accessAllowed ? 'block' : 'none';\n",
              "\n",
              "        async function convertToInteractive(key) {\n",
              "          const element = document.querySelector('#df-2915caa1-e2e8-43a7-b8b3-c6f4b69e15d7');\n",
              "          const dataTable =\n",
              "            await google.colab.kernel.invokeFunction('convertToInteractive',\n",
              "                                                     [key], {});\n",
              "          if (!dataTable) return;\n",
              "\n",
              "          const docLinkHtml = 'Like what you see? Visit the ' +\n",
              "            '<a target=\"_blank\" href=https://colab.research.google.com/notebooks/data_table.ipynb>data table notebook</a>'\n",
              "            + ' to learn more about interactive tables.';\n",
              "          element.innerHTML = '';\n",
              "          dataTable['output_type'] = 'display_data';\n",
              "          await google.colab.output.renderOutput(dataTable, element);\n",
              "          const docLink = document.createElement('div');\n",
              "          docLink.innerHTML = docLinkHtml;\n",
              "          element.appendChild(docLink);\n",
              "        }\n",
              "      </script>\n",
              "    </div>\n",
              "  </div>\n",
              "  "
            ]
          },
          "metadata": {},
          "execution_count": 16
        }
      ]
    },
    {
      "cell_type": "code",
      "source": [
        "data_title_label = data.iloc[:, [0,3]]"
      ],
      "metadata": {
        "id": "nqfwPOrNUtO2"
      },
      "execution_count": null,
      "outputs": []
    },
    {
      "cell_type": "code",
      "source": [
        "import re\n",
        "import nltk\n",
        "nltk.download('stopwords')\n",
        "from nltk.corpus import stopwords\n",
        "from nltk.stem.porter import PorterStemmer\n",
        "corpus = []\n",
        "for i in range(0, 44898):\n",
        "    title = re.sub('[^a-zA-Z]', ' ', data_title_label['title'][i]) # review to contain only letters a to z and if the character is removed replace it by so+pace\n",
        "    title = title.lower() # review to contain only lower case letter\n",
        "    title = title.split() # Splitting the string into different words\n",
        "    ps = PorterStemmer() # Creating object of the class\n",
        "    title = [ps.stem(word) for word in title if not word in set(stopwords.words('english'))]  # Set here is used only for faster execution of code in case there are too many words...\n",
        "    title = ' '.join(title) # Converting the list back to string\n",
        "    corpus.append(title)"
      ],
      "metadata": {
        "colab": {
          "base_uri": "https://localhost:8080/"
        },
        "id": "8-nsui4VUtL9",
        "outputId": "104b9f00-cb03-40f7-9b67-ea312edc0ae0"
      },
      "execution_count": null,
      "outputs": [
        {
          "output_type": "stream",
          "name": "stderr",
          "text": [
            "[nltk_data] Downloading package stopwords to /root/nltk_data...\n",
            "[nltk_data]   Unzipping corpora/stopwords.zip.\n"
          ]
        }
      ]
    },
    {
      "cell_type": "code",
      "source": [
        "from sklearn.feature_extraction.text import CountVectorizer\n",
        "cv = CountVectorizer(max_features=15000)\n",
        "X = cv.fit_transform(corpus).toarray()\n",
        "y = data_title_label.iloc[:, 1].values"
      ],
      "metadata": {
        "id": "LlCPS6wMUtJQ"
      },
      "execution_count": null,
      "outputs": []
    },
    {
      "cell_type": "code",
      "source": [
        "from sklearn.model_selection import train_test_split\n",
        "X_train, X_test, y_train, y_test = train_test_split(X, y,\n",
        "                                                   test_size=0.25,\n",
        "                                                   random_state=0)"
      ],
      "metadata": {
        "id": "nyj5ZAhgUtGV"
      },
      "execution_count": null,
      "outputs": []
    },
    {
      "cell_type": "code",
      "source": [
        "import keras\n",
        "from keras.models import Sequential\n",
        "from keras.layers import Dense\n",
        "from keras.layers import Input, Embedding, LSTM, Concatenate"
      ],
      "metadata": {
        "id": "9z7e53b3UtDf"
      },
      "execution_count": null,
      "outputs": []
    },
    {
      "cell_type": "code",
      "source": [
        "import tensorflow as tf\n",
        "ann = tf.keras.models.Sequential()"
      ],
      "metadata": {
        "id": "4pf8YV3dUtAe"
      },
      "execution_count": null,
      "outputs": []
    },
    {
      "cell_type": "code",
      "source": [
        "ann.add(tf.keras.layers.Dense(units=6, activation='relu')) \n",
        "ann.add(tf.keras.layers.Dense(units=6, activation='relu')) "
      ],
      "metadata": {
        "id": "kUaglyUMUs9h"
      },
      "execution_count": null,
      "outputs": []
    },
    {
      "cell_type": "code",
      "source": [
        "ann.add(tf.keras.layers.Dense(units=1, activation='sigmoid')) "
      ],
      "metadata": {
        "id": "kun-vxG4Us6Z"
      },
      "execution_count": null,
      "outputs": []
    },
    {
      "cell_type": "code",
      "source": [
        "ann.compile(optimizer='adam', loss='binary_crossentropy', metrics=['accuracy'])"
      ],
      "metadata": {
        "id": "kZ9D5MazUs1Q"
      },
      "execution_count": null,
      "outputs": []
    },
    {
      "cell_type": "code",
      "source": [
        "from tensorflow.keras.callbacks import EarlyStopping"
      ],
      "metadata": {
        "id": "Ow1CGgmlW8R6"
      },
      "execution_count": null,
      "outputs": []
    },
    {
      "cell_type": "code",
      "source": [
        "monitor = EarlyStopping(monitor='loss', min_delta=1e-3, patience=5, verbose=1, mode='auto')\n",
        "ann.fit(X_train, y_train, batch_size=32, epochs=100, verbose=2,callbacks=[monitor])\n",
        "\n",
        "\n"
      ],
      "metadata": {
        "colab": {
          "base_uri": "https://localhost:8080/"
        },
        "id": "Hutr6o1YUsvG",
        "outputId": "de598db9-ef99-4c63-c6bb-a0ab8291e8a0"
      },
      "execution_count": null,
      "outputs": [
        {
          "output_type": "stream",
          "name": "stdout",
          "text": [
            "Epoch 1/100\n",
            "1053/1053 - 12s - loss: 0.0498 - accuracy: 0.9824 - 12s/epoch - 12ms/step\n",
            "Epoch 2/100\n",
            "1053/1053 - 9s - loss: 0.0401 - accuracy: 0.9862 - 9s/epoch - 8ms/step\n",
            "Epoch 3/100\n",
            "1053/1053 - 8s - loss: 0.0330 - accuracy: 0.9891 - 8s/epoch - 8ms/step\n",
            "Epoch 4/100\n",
            "1053/1053 - 8s - loss: 0.0289 - accuracy: 0.9898 - 8s/epoch - 8ms/step\n",
            "Epoch 5/100\n",
            "1053/1053 - 8s - loss: 0.0245 - accuracy: 0.9910 - 8s/epoch - 8ms/step\n",
            "Epoch 6/100\n",
            "1053/1053 - 8s - loss: 0.0202 - accuracy: 0.9926 - 8s/epoch - 8ms/step\n",
            "Epoch 7/100\n",
            "1053/1053 - 8s - loss: 0.0167 - accuracy: 0.9942 - 8s/epoch - 8ms/step\n",
            "Epoch 8/100\n",
            "1053/1053 - 8s - loss: 0.0142 - accuracy: 0.9948 - 8s/epoch - 8ms/step\n",
            "Epoch 9/100\n",
            "1053/1053 - 8s - loss: 0.0110 - accuracy: 0.9960 - 8s/epoch - 8ms/step\n",
            "Epoch 10/100\n",
            "1053/1053 - 8s - loss: 0.0094 - accuracy: 0.9965 - 8s/epoch - 8ms/step\n",
            "Epoch 11/100\n",
            "1053/1053 - 8s - loss: 0.0078 - accuracy: 0.9972 - 8s/epoch - 8ms/step\n",
            "Epoch 12/100\n",
            "1053/1053 - 8s - loss: 0.0060 - accuracy: 0.9980 - 8s/epoch - 8ms/step\n",
            "Epoch 13/100\n",
            "1053/1053 - 10s - loss: 0.0055 - accuracy: 0.9980 - 10s/epoch - 9ms/step\n",
            "Epoch 14/100\n",
            "1053/1053 - 8s - loss: 0.0044 - accuracy: 0.9985 - 8s/epoch - 8ms/step\n",
            "Epoch 15/100\n",
            "1053/1053 - 8s - loss: 0.0034 - accuracy: 0.9991 - 8s/epoch - 8ms/step\n",
            "Epoch 16/100\n",
            "1053/1053 - 8s - loss: 0.0026 - accuracy: 0.9993 - 8s/epoch - 8ms/step\n",
            "Epoch 17/100\n",
            "1053/1053 - 9s - loss: 0.0025 - accuracy: 0.9993 - 9s/epoch - 8ms/step\n",
            "Epoch 18/100\n",
            "1053/1053 - 8s - loss: 0.0024 - accuracy: 0.9991 - 8s/epoch - 8ms/step\n",
            "Epoch 19/100\n",
            "1053/1053 - 8s - loss: 0.0018 - accuracy: 0.9996 - 8s/epoch - 8ms/step\n",
            "Epoch 20/100\n",
            "1053/1053 - 8s - loss: 0.0014 - accuracy: 0.9997 - 8s/epoch - 8ms/step\n",
            "Epoch 21/100\n",
            "1053/1053 - 8s - loss: 7.1481e-04 - accuracy: 0.9999 - 8s/epoch - 8ms/step\n",
            "Epoch 22/100\n",
            "1053/1053 - 8s - loss: 7.5248e-04 - accuracy: 0.9998 - 8s/epoch - 8ms/step\n",
            "Epoch 23/100\n",
            "1053/1053 - 8s - loss: 0.0011 - accuracy: 0.9996 - 8s/epoch - 8ms/step\n",
            "Epoch 24/100\n",
            "1053/1053 - 8s - loss: 0.0016 - accuracy: 0.9994 - 8s/epoch - 8ms/step\n",
            "Epoch 25/100\n",
            "1053/1053 - 8s - loss: 0.0011 - accuracy: 0.9996 - 8s/epoch - 8ms/step\n",
            "Epoch 25: early stopping\n"
          ]
        },
        {
          "output_type": "execute_result",
          "data": {
            "text/plain": [
              "<keras.callbacks.History at 0x7facdbcf8e10>"
            ]
          },
          "metadata": {},
          "execution_count": 29
        }
      ]
    },
    {
      "cell_type": "code",
      "source": [
        "y_pred = ann.predict(X_test)"
      ],
      "metadata": {
        "id": "Bp9ZvnFuYbC2"
      },
      "execution_count": null,
      "outputs": []
    },
    {
      "cell_type": "code",
      "source": [
        "y_pred = (y_pred>0.5)"
      ],
      "metadata": {
        "id": "C5y58AY1YbAe"
      },
      "execution_count": null,
      "outputs": []
    },
    {
      "cell_type": "code",
      "source": [
        "y_pred"
      ],
      "metadata": {
        "colab": {
          "base_uri": "https://localhost:8080/"
        },
        "id": "_EqEi8BHYa9y",
        "outputId": "f56dd4cc-707a-488a-d0fa-7251f5014ad5"
      },
      "execution_count": null,
      "outputs": [
        {
          "output_type": "execute_result",
          "data": {
            "text/plain": [
              "array([[ True],\n",
              "       [ True],\n",
              "       [ True],\n",
              "       ...,\n",
              "       [False],\n",
              "       [ True],\n",
              "       [False]])"
            ]
          },
          "metadata": {},
          "execution_count": 32
        }
      ]
    },
    {
      "cell_type": "code",
      "source": [
        "from sklearn.metrics import confusion_matrix\n",
        "confusion_matrix(y_test, y_pred)"
      ],
      "metadata": {
        "colab": {
          "base_uri": "https://localhost:8080/"
        },
        "id": "kCTUQr1EYa69",
        "outputId": "8025cd31-7766-416d-d715-2583aefaaa45"
      },
      "execution_count": null,
      "outputs": [
        {
          "output_type": "execute_result",
          "data": {
            "text/plain": [
              "array([[5489,  387],\n",
              "       [ 375, 4974]])"
            ]
          },
          "metadata": {},
          "execution_count": 33
        }
      ]
    },
    {
      "cell_type": "code",
      "source": [
        "from sklearn.metrics import classification_report\n",
        "print(classification_report(y_test, y_pred))"
      ],
      "metadata": {
        "colab": {
          "base_uri": "https://localhost:8080/"
        },
        "id": "fIbA_m2tYa3t",
        "outputId": "dfac9f2f-16b1-4add-b94c-59f3fc75d35b"
      },
      "execution_count": null,
      "outputs": [
        {
          "output_type": "stream",
          "name": "stdout",
          "text": [
            "              precision    recall  f1-score   support\n",
            "\n",
            "           0       0.94      0.93      0.94      5876\n",
            "           1       0.93      0.93      0.93      5349\n",
            "\n",
            "    accuracy                           0.93     11225\n",
            "   macro avg       0.93      0.93      0.93     11225\n",
            "weighted avg       0.93      0.93      0.93     11225\n",
            "\n"
          ]
        }
      ]
    },
    {
      "cell_type": "code",
      "source": [
        "X.shape"
      ],
      "metadata": {
        "colab": {
          "base_uri": "https://localhost:8080/"
        },
        "id": "NJ1tIh-YYaxX",
        "outputId": "c386a3ea-862b-4b5c-b8c9-d55969fb333f"
      },
      "execution_count": null,
      "outputs": [
        {
          "output_type": "execute_result",
          "data": {
            "text/plain": [
              "(44898, 13206)"
            ]
          },
          "metadata": {},
          "execution_count": 35
        }
      ]
    },
    {
      "cell_type": "code",
      "source": [
        "import pickle"
      ],
      "metadata": {
        "id": "71K-VISYYwoD"
      },
      "execution_count": null,
      "outputs": []
    },
    {
      "cell_type": "code",
      "source": [
        "pickle.dump(ann, open('model.pkl', 'wb'))"
      ],
      "metadata": {
        "id": "73noG949YzrN"
      },
      "execution_count": null,
      "outputs": []
    },
    {
      "cell_type": "code",
      "source": [
        "pickled_model = pickle.load(open('model.pkl', 'rb'))\n",
        "pickled_model.predict(X_test)"
      ],
      "metadata": {
        "colab": {
          "base_uri": "https://localhost:8080/"
        },
        "id": "Q_BOB4CYYzi2",
        "outputId": "ef6587d4-799c-4e03-baad-00b72551b15c"
      },
      "execution_count": null,
      "outputs": [
        {
          "output_type": "execute_result",
          "data": {
            "text/plain": [
              "array([[1.0000000e+00],\n",
              "       [9.9998647e-01],\n",
              "       [1.0000000e+00],\n",
              "       ...,\n",
              "       [7.6403409e-02],\n",
              "       [1.0000000e+00],\n",
              "       [5.4982303e-29]], dtype=float32)"
            ]
          },
          "metadata": {},
          "execution_count": 38
        }
      ]
    },
    {
      "cell_type": "code",
      "source": [
        "import urllib.request\n",
        "from xml.dom.minidom import parseString\n",
        "\n",
        "def get_google_new_results( term, count ):\n",
        "    results = []\n",
        "    terms=term.split()\n",
        "    ss=\"\"\n",
        "    ss=ss.join(terms)\n",
        "    obj = parseString( urllib.request.urlopen('http://news.google.com/news?q=%s&output=rss' % ss).read() )\n",
        "    items = obj.getElementsByTagName('item') # Get each item\n",
        "    for item in items[:count]:\n",
        "        t,l = '', ''\n",
        "        for node in item.childNodes:\n",
        "            if node.nodeName == 'title':\n",
        "                t = node.childNodes[0].data\n",
        "            elif node.nodeName == 'link':\n",
        "                l = node.childNodes[0].data\n",
        "        results.append( (t,l) )\n",
        "    return results\n",
        "\n",
        "\n",
        "print(\"Enter term to scrape from\")\n",
        "x = str(\"Donald Trump\")\n",
        "\n",
        "items = get_google_new_results( x, 50 )\n",
        "\n",
        "# df.append()\n",
        "# new_df = pd.DataFrame(columns=[\"TITLE\",\"LINK\"])\n",
        "result=[]\n",
        "for title,link in items:\n",
        "  result.append(title)\n",
        "\n",
        "# for X_new in result:\n",
        "#   corpus = []\n",
        "#   title = re.sub('[^a-zA-Z]', ' ', X_new) # review to contain only letters a to z and if the character is removed replace it by so+pace\n",
        "#   title = title.lower() # review to contain only lower case letter\n",
        "#   title = title.split() # Splitting the string into different words\n",
        "#   ps = PorterStemmer() # Creating object of the class\n",
        "#   title = [ps.stem(word) for word in title if not word in set(stopwords.words('english'))]  # Set here is used only for faster execution of code in case there are too many words...\n",
        "#   title = ' '.join(title) # Converting the list back to string\n",
        "#   corpus.append(title)"
      ],
      "metadata": {
        "colab": {
          "base_uri": "https://localhost:8080/"
        },
        "id": "p7A35sjyYzgi",
        "outputId": "859d0123-9562-4c00-dbf4-0f9b8f8b6c4a"
      },
      "execution_count": null,
      "outputs": [
        {
          "output_type": "stream",
          "name": "stdout",
          "text": [
            "Enter term to scrape from\n"
          ]
        }
      ]
    },
    {
      "cell_type": "code",
      "source": [
        "X_new=[]\n",
        "for i in result:\n",
        "  corpus = []\n",
        "  title = re.sub('[^a-zA-Z]', ' ', i) # review to contain only letters a to z and if the character is removed replace it by so+pace\n",
        "  title = title.lower() # review to contain only lower case letter\n",
        "  title = title.split() # Splitting the string into different words\n",
        "  ps = PorterStemmer() # Creating object of the class\n",
        "  title = [ps.stem(word) for word in title if not word in set(stopwords.words('english'))]  # Set here is used only for faster execution of code in case there are too many words...\n",
        "  title = ' '.join(title) # Converting the list back to string\n",
        "  corpus.append(title)\n",
        "  X_new.append(corpus)\n",
        "print(len(X_new))"
      ],
      "metadata": {
        "colab": {
          "base_uri": "https://localhost:8080/"
        },
        "id": "yEVd3bKFYzdl",
        "outputId": "55f08c39-39c8-4d8b-8c40-41174be22296"
      },
      "execution_count": null,
      "outputs": [
        {
          "output_type": "stream",
          "name": "stdout",
          "text": [
            "50\n"
          ]
        }
      ]
    },
    {
      "cell_type": "code",
      "source": [
        "result"
      ],
      "metadata": {
        "colab": {
          "base_uri": "https://localhost:8080/"
        },
        "id": "l1cXS4AEZrxw",
        "outputId": "971bd0dc-a8c8-4c1a-bd51-7c2c48dafc0d"
      },
      "execution_count": null,
      "outputs": [
        {
          "output_type": "execute_result",
          "data": {
            "text/plain": [
              "['Former President Donald Trump invokes Fifth Amendment rights and declines to answer questions from NY attorney general - CNN',\n",
              " 'Analysis | Donald Trump has been preparing for this moment for a long time - The Washington Post',\n",
              " 'The vise is tightening around Donald Trump as 2024 decision looms - CNN',\n",
              " 'How to Prosecute Donald Trump - National Review',\n",
              " 'How Donald Trump changed Facebook - The Verge',\n",
              " \"Donald Trump on 2024: 'I've Already Made That Decision' - New York Magazine\",\n",
              " 'Opinion | Donald Trump’s Politics of Persecution - The New York Times',\n",
              " 'Trump Will Release the Warrant - The Atlantic',\n",
              " 'The Cult of Donald Trump - The Intercept',\n",
              " 'Liz Cheney’s Revenge on Donald Trump—and Her Own Party - The New Yorker',\n",
              " \"'Posturing and politicking' will lead to US resembling third-world country: Attorney for Donald Trump - Fox News\",\n",
              " 'Donald Trump hints at 2024 White House comeback bid: ‘The time is coming’ - Fox News',\n",
              " 'Donald Trump Teases 2024 Run in Return to Washington - Bloomberg',\n",
              " \"Donald Trump's scandals are unprecedented. Here's how. - USA TODAY\",\n",
              " 'Donald Trump to tout Schedule F at Turning Point rally - Axios',\n",
              " 'Donald Trump refuses to answer questions about family business - ABC News',\n",
              " \"Here's proof that Donald Trump didn't get it on January 6 - CNN\",\n",
              " 'Should Donald Trump be prosecuted? - Brookings Institution',\n",
              " 'Now what? Donald Trump and 3 eldest kids have all been deposed in NY - Business Insider',\n",
              " \"Murdoch's New York Post dumps Trump, calling him 'unworthy to be chief executive again' - CNN\",\n",
              " \"The One Time Trump Couldn't Lie His Way Out of a Crisis - POLITICO\",\n",
              " 'South Park Creators Have A Lost Donald Trump Deepfake Movie - Giant Freakin Robot',\n",
              " \"Donald Trump just can't quit the 2020 election - CNN\",\n",
              " \"Donald Trump remembers ex-wife Ivana Trump's 'beautiful life' - NPR\",\n",
              " 'Dick Cheney attacks Donald Trump as ‘greatest threat to our republic’ - The Guardian US',\n",
              " \"Donald Trump Reportedly Worried Republicans Visiting His Club Are 'Wearing A Wire' - Benzinga\",\n",
              " 'Mo Brooks won’t rule out Donald Trump committed crimes, says FBI needs to explain reason for Mar-a-Lago search - AL.com',\n",
              " \"Ivana Trump, the woman who turned Donald Trump into 'The Donald' - The Washington Post\",\n",
              " 'Are his `enemies` what make Donald Trump popular in spite of the many controversies? - WION',\n",
              " \"Donald Trump 'Takes Back Over' Government in Four Months, Pastor Says - Newsweek\",\n",
              " 'Donald Trump is totally obsessed with the January 6 committee - CNN',\n",
              " 'Donald Trump Was “a President Asking for Civil War” - The New Yorker',\n",
              " 'How the January 6 committee used Fox News against Donald Trump - CNN',\n",
              " \"Meta's new chatbot claims Donald Trump 'will always be president' - The National\",\n",
              " 'Opinion: Donald Trump, the rule of law and the demise of civic faith - The Denver Post',\n",
              " 'Donald Trump Jr. endorses Carolina Amesty in HD 45 - Florida Politics',\n",
              " \"Paul LePage compares America to 'banana republic' after search of Donald Trump's house - Bangor Daily News\",\n",
              " 'Donald Trump’s betting odds to win 2024 election take hit - Las Vegas Review-Journal',\n",
              " 'Donald Trump Should Never Be Allowed Within 1,000 Feet of the White House Again: A Pocket Guide - Vanity Fair',\n",
              " 'Analysis | The Justice Department Should Indict Donald Trump - The Washington Post',\n",
              " \"Here's how Donald Trump could theoretically run for president and govern the US from prison, according to 9 legal scholars - Yahoo News\",\n",
              " 'Opinion | Why Rupert Murdoch Is Finally Done with Donald Trump - POLITICO',\n",
              " 'Local candidate to hold rally with Donald Trump Jr. - WKBN.com',\n",
              " 'What John Bolton gets wrong about coup attempts -- and Donald Trump - CNN',\n",
              " 'Donald Trump and Mike Pence will hold dueling campaign events in Arizona on Friday - Arizona Mirror',\n",
              " \"Tom Brady says his relationship with Donald Trump was 'mischaracterized' by the media - CNN\",\n",
              " 'Trump’s silence on Jan. 6 is damning - New York Post ',\n",
              " 'Report: Trump Thinks Running for President Again Is His Get Out of Jail Free Card - Vanity Fair',\n",
              " 'Donald Trump Outtakes January 6th Exposes True Feelings About Insurrection - TMZ',\n",
              " 'Will Ivana help Donald Trump with tax breaks from beyond the grave? - The Guardian US']"
            ]
          },
          "metadata": {},
          "execution_count": 43
        }
      ]
    },
    {
      "cell_type": "code",
      "source": [
        "#Transforming the the headline into bag of words with pretrained weights\n",
        "final_pred=[]\n",
        "confidence=[]\n",
        "for i in X_new:\n",
        "  X_sample = cv.transform(i).toarray()\n",
        "  prob=pickled_model.predict(X_sample.reshape(1, -1))\n",
        "  if(prob>0.5):\n",
        "    final_pred.append(\"True News\")\n",
        "    confidence.append(int(prob*100))\n",
        "    # print(float(prob*100))\n",
        "    # print(\"True News\")\n",
        "  else:\n",
        "    final_pred.append(\"Fake News\")\n",
        "    confidence.append(int(prob*100))\n",
        "    # print(float(prob*100))\n",
        "    # print(\"Fake News\")"
      ],
      "metadata": {
        "id": "mt7A3DYaZrv8"
      },
      "execution_count": null,
      "outputs": []
    },
    {
      "cell_type": "code",
      "source": [
        "conf=pd.DataFrame(confidence,columns=[\"Confidence\"])"
      ],
      "metadata": {
        "id": "qrQBml8QZrtF"
      },
      "execution_count": null,
      "outputs": []
    },
    {
      "cell_type": "code",
      "source": [
        "dff=pd.DataFrame(final_pred, columns=[\"Final Prediction\"])"
      ],
      "metadata": {
        "id": "q_UYataZZrqW"
      },
      "execution_count": null,
      "outputs": []
    },
    {
      "cell_type": "code",
      "source": [
        "final_titles=pd.DataFrame(result,columns=[\"Tilte\"])"
      ],
      "metadata": {
        "id": "Whjj1GRVZrnh"
      },
      "execution_count": null,
      "outputs": []
    },
    {
      "cell_type": "code",
      "source": [
        "final_display=pd.concat([final_titles, dff,conf], axis=1, join='inner')"
      ],
      "metadata": {
        "id": "E_o24KUEZrkn"
      },
      "execution_count": null,
      "outputs": []
    },
    {
      "cell_type": "code",
      "source": [
        "final_display"
      ],
      "metadata": {
        "colab": {
          "base_uri": "https://localhost:8080/",
          "height": 1000
        },
        "id": "TdBomewUaVDM",
        "outputId": "b5d1d0cb-a8ce-4d80-f4ff-7e8c3d0fb9db"
      },
      "execution_count": null,
      "outputs": [
        {
          "output_type": "execute_result",
          "data": {
            "text/plain": [
              "                                                Tilte Final Prediction  \\\n",
              "0   Former President Donald Trump invokes Fifth Am...        True News   \n",
              "1   Analysis | Donald Trump has been preparing for...        True News   \n",
              "2   The vise is tightening around Donald Trump as ...        True News   \n",
              "3     How to Prosecute Donald Trump - National Review        Fake News   \n",
              "4       How Donald Trump changed Facebook - The Verge        True News   \n",
              "5   Donald Trump on 2024: 'I've Already Made That ...        Fake News   \n",
              "6   Opinion | Donald Trump’s Politics of Persecuti...        Fake News   \n",
              "7       Trump Will Release the Warrant - The Atlantic        True News   \n",
              "8            The Cult of Donald Trump - The Intercept        Fake News   \n",
              "9   Liz Cheney’s Revenge on Donald Trump—and Her O...        True News   \n",
              "10  'Posturing and politicking' will lead to US re...        Fake News   \n",
              "11  Donald Trump hints at 2024 White House comebac...        True News   \n",
              "12  Donald Trump Teases 2024 Run in Return to Wash...        Fake News   \n",
              "13  Donald Trump's scandals are unprecedented. Her...        Fake News   \n",
              "14  Donald Trump to tout Schedule F at Turning Poi...        True News   \n",
              "15  Donald Trump refuses to answer questions about...        Fake News   \n",
              "16  Here's proof that Donald Trump didn't get it o...        Fake News   \n",
              "17  Should Donald Trump be prosecuted? - Brookings...        True News   \n",
              "18  Now what? Donald Trump and 3 eldest kids have ...        True News   \n",
              "19  Murdoch's New York Post dumps Trump, calling h...        True News   \n",
              "20  The One Time Trump Couldn't Lie His Way Out of...        Fake News   \n",
              "21  South Park Creators Have A Lost Donald Trump D...        Fake News   \n",
              "22  Donald Trump just can't quit the 2020 election...        Fake News   \n",
              "23  Donald Trump remembers ex-wife Ivana Trump's '...        Fake News   \n",
              "24  Dick Cheney attacks Donald Trump as ‘greatest ...        Fake News   \n",
              "25  Donald Trump Reportedly Worried Republicans Vi...        Fake News   \n",
              "26  Mo Brooks won’t rule out Donald Trump committe...        Fake News   \n",
              "27  Ivana Trump, the woman who turned Donald Trump...        Fake News   \n",
              "28  Are his `enemies` what make Donald Trump popul...        Fake News   \n",
              "29  Donald Trump 'Takes Back Over' Government in F...        True News   \n",
              "30  Donald Trump is totally obsessed with the Janu...        Fake News   \n",
              "31  Donald Trump Was “a President Asking for Civil...        True News   \n",
              "32  How the January 6 committee used Fox News agai...        Fake News   \n",
              "33  Meta's new chatbot claims Donald Trump 'will a...        Fake News   \n",
              "34  Opinion: Donald Trump, the rule of law and the...        Fake News   \n",
              "35  Donald Trump Jr. endorses Carolina Amesty in H...        Fake News   \n",
              "36  Paul LePage compares America to 'banana republ...        Fake News   \n",
              "37  Donald Trump’s betting odds to win 2024 electi...        Fake News   \n",
              "38  Donald Trump Should Never Be Allowed Within 1,...        True News   \n",
              "39  Analysis | The Justice Department Should Indic...        Fake News   \n",
              "40  Here's how Donald Trump could theoretically ru...        Fake News   \n",
              "41  Opinion | Why Rupert Murdoch Is Finally Done w...        Fake News   \n",
              "42  Local candidate to hold rally with Donald Trum...        Fake News   \n",
              "43  What John Bolton gets wrong about coup attempt...        Fake News   \n",
              "44  Donald Trump and Mike Pence will hold dueling ...        True News   \n",
              "45  Tom Brady says his relationship with Donald Tr...        Fake News   \n",
              "46  Trump’s silence on Jan. 6 is damning - New Yor...        True News   \n",
              "47  Report: Trump Thinks Running for President Aga...        Fake News   \n",
              "48  Donald Trump Outtakes January 6th Exposes True...        Fake News   \n",
              "49  Will Ivana help Donald Trump with tax breaks f...        Fake News   \n",
              "\n",
              "    Confidence  \n",
              "0           99  \n",
              "1           99  \n",
              "2           99  \n",
              "3            2  \n",
              "4           84  \n",
              "5            0  \n",
              "6            0  \n",
              "7           99  \n",
              "8            0  \n",
              "9           99  \n",
              "10           0  \n",
              "11          99  \n",
              "12           0  \n",
              "13           0  \n",
              "14          97  \n",
              "15           0  \n",
              "16           0  \n",
              "17          99  \n",
              "18          99  \n",
              "19          99  \n",
              "20           0  \n",
              "21           0  \n",
              "22          23  \n",
              "23           0  \n",
              "24           0  \n",
              "25           0  \n",
              "26           0  \n",
              "27           0  \n",
              "28           0  \n",
              "29          99  \n",
              "30           0  \n",
              "31          99  \n",
              "32           0  \n",
              "33           0  \n",
              "34           0  \n",
              "35           0  \n",
              "36           0  \n",
              "37          26  \n",
              "38         100  \n",
              "39           0  \n",
              "40           0  \n",
              "41           0  \n",
              "42           0  \n",
              "43           0  \n",
              "44          99  \n",
              "45          23  \n",
              "46          99  \n",
              "47           0  \n",
              "48           0  \n",
              "49           0  "
            ],
            "text/html": [
              "\n",
              "  <div id=\"df-dbfd1921-e3c7-430a-8458-31faa22d4dd5\">\n",
              "    <div class=\"colab-df-container\">\n",
              "      <div>\n",
              "<style scoped>\n",
              "    .dataframe tbody tr th:only-of-type {\n",
              "        vertical-align: middle;\n",
              "    }\n",
              "\n",
              "    .dataframe tbody tr th {\n",
              "        vertical-align: top;\n",
              "    }\n",
              "\n",
              "    .dataframe thead th {\n",
              "        text-align: right;\n",
              "    }\n",
              "</style>\n",
              "<table border=\"1\" class=\"dataframe\">\n",
              "  <thead>\n",
              "    <tr style=\"text-align: right;\">\n",
              "      <th></th>\n",
              "      <th>Tilte</th>\n",
              "      <th>Final Prediction</th>\n",
              "      <th>Confidence</th>\n",
              "    </tr>\n",
              "  </thead>\n",
              "  <tbody>\n",
              "    <tr>\n",
              "      <th>0</th>\n",
              "      <td>Former President Donald Trump invokes Fifth Am...</td>\n",
              "      <td>True News</td>\n",
              "      <td>99</td>\n",
              "    </tr>\n",
              "    <tr>\n",
              "      <th>1</th>\n",
              "      <td>Analysis | Donald Trump has been preparing for...</td>\n",
              "      <td>True News</td>\n",
              "      <td>99</td>\n",
              "    </tr>\n",
              "    <tr>\n",
              "      <th>2</th>\n",
              "      <td>The vise is tightening around Donald Trump as ...</td>\n",
              "      <td>True News</td>\n",
              "      <td>99</td>\n",
              "    </tr>\n",
              "    <tr>\n",
              "      <th>3</th>\n",
              "      <td>How to Prosecute Donald Trump - National Review</td>\n",
              "      <td>Fake News</td>\n",
              "      <td>2</td>\n",
              "    </tr>\n",
              "    <tr>\n",
              "      <th>4</th>\n",
              "      <td>How Donald Trump changed Facebook - The Verge</td>\n",
              "      <td>True News</td>\n",
              "      <td>84</td>\n",
              "    </tr>\n",
              "    <tr>\n",
              "      <th>5</th>\n",
              "      <td>Donald Trump on 2024: 'I've Already Made That ...</td>\n",
              "      <td>Fake News</td>\n",
              "      <td>0</td>\n",
              "    </tr>\n",
              "    <tr>\n",
              "      <th>6</th>\n",
              "      <td>Opinion | Donald Trump’s Politics of Persecuti...</td>\n",
              "      <td>Fake News</td>\n",
              "      <td>0</td>\n",
              "    </tr>\n",
              "    <tr>\n",
              "      <th>7</th>\n",
              "      <td>Trump Will Release the Warrant - The Atlantic</td>\n",
              "      <td>True News</td>\n",
              "      <td>99</td>\n",
              "    </tr>\n",
              "    <tr>\n",
              "      <th>8</th>\n",
              "      <td>The Cult of Donald Trump - The Intercept</td>\n",
              "      <td>Fake News</td>\n",
              "      <td>0</td>\n",
              "    </tr>\n",
              "    <tr>\n",
              "      <th>9</th>\n",
              "      <td>Liz Cheney’s Revenge on Donald Trump—and Her O...</td>\n",
              "      <td>True News</td>\n",
              "      <td>99</td>\n",
              "    </tr>\n",
              "    <tr>\n",
              "      <th>10</th>\n",
              "      <td>'Posturing and politicking' will lead to US re...</td>\n",
              "      <td>Fake News</td>\n",
              "      <td>0</td>\n",
              "    </tr>\n",
              "    <tr>\n",
              "      <th>11</th>\n",
              "      <td>Donald Trump hints at 2024 White House comebac...</td>\n",
              "      <td>True News</td>\n",
              "      <td>99</td>\n",
              "    </tr>\n",
              "    <tr>\n",
              "      <th>12</th>\n",
              "      <td>Donald Trump Teases 2024 Run in Return to Wash...</td>\n",
              "      <td>Fake News</td>\n",
              "      <td>0</td>\n",
              "    </tr>\n",
              "    <tr>\n",
              "      <th>13</th>\n",
              "      <td>Donald Trump's scandals are unprecedented. Her...</td>\n",
              "      <td>Fake News</td>\n",
              "      <td>0</td>\n",
              "    </tr>\n",
              "    <tr>\n",
              "      <th>14</th>\n",
              "      <td>Donald Trump to tout Schedule F at Turning Poi...</td>\n",
              "      <td>True News</td>\n",
              "      <td>97</td>\n",
              "    </tr>\n",
              "    <tr>\n",
              "      <th>15</th>\n",
              "      <td>Donald Trump refuses to answer questions about...</td>\n",
              "      <td>Fake News</td>\n",
              "      <td>0</td>\n",
              "    </tr>\n",
              "    <tr>\n",
              "      <th>16</th>\n",
              "      <td>Here's proof that Donald Trump didn't get it o...</td>\n",
              "      <td>Fake News</td>\n",
              "      <td>0</td>\n",
              "    </tr>\n",
              "    <tr>\n",
              "      <th>17</th>\n",
              "      <td>Should Donald Trump be prosecuted? - Brookings...</td>\n",
              "      <td>True News</td>\n",
              "      <td>99</td>\n",
              "    </tr>\n",
              "    <tr>\n",
              "      <th>18</th>\n",
              "      <td>Now what? Donald Trump and 3 eldest kids have ...</td>\n",
              "      <td>True News</td>\n",
              "      <td>99</td>\n",
              "    </tr>\n",
              "    <tr>\n",
              "      <th>19</th>\n",
              "      <td>Murdoch's New York Post dumps Trump, calling h...</td>\n",
              "      <td>True News</td>\n",
              "      <td>99</td>\n",
              "    </tr>\n",
              "    <tr>\n",
              "      <th>20</th>\n",
              "      <td>The One Time Trump Couldn't Lie His Way Out of...</td>\n",
              "      <td>Fake News</td>\n",
              "      <td>0</td>\n",
              "    </tr>\n",
              "    <tr>\n",
              "      <th>21</th>\n",
              "      <td>South Park Creators Have A Lost Donald Trump D...</td>\n",
              "      <td>Fake News</td>\n",
              "      <td>0</td>\n",
              "    </tr>\n",
              "    <tr>\n",
              "      <th>22</th>\n",
              "      <td>Donald Trump just can't quit the 2020 election...</td>\n",
              "      <td>Fake News</td>\n",
              "      <td>23</td>\n",
              "    </tr>\n",
              "    <tr>\n",
              "      <th>23</th>\n",
              "      <td>Donald Trump remembers ex-wife Ivana Trump's '...</td>\n",
              "      <td>Fake News</td>\n",
              "      <td>0</td>\n",
              "    </tr>\n",
              "    <tr>\n",
              "      <th>24</th>\n",
              "      <td>Dick Cheney attacks Donald Trump as ‘greatest ...</td>\n",
              "      <td>Fake News</td>\n",
              "      <td>0</td>\n",
              "    </tr>\n",
              "    <tr>\n",
              "      <th>25</th>\n",
              "      <td>Donald Trump Reportedly Worried Republicans Vi...</td>\n",
              "      <td>Fake News</td>\n",
              "      <td>0</td>\n",
              "    </tr>\n",
              "    <tr>\n",
              "      <th>26</th>\n",
              "      <td>Mo Brooks won’t rule out Donald Trump committe...</td>\n",
              "      <td>Fake News</td>\n",
              "      <td>0</td>\n",
              "    </tr>\n",
              "    <tr>\n",
              "      <th>27</th>\n",
              "      <td>Ivana Trump, the woman who turned Donald Trump...</td>\n",
              "      <td>Fake News</td>\n",
              "      <td>0</td>\n",
              "    </tr>\n",
              "    <tr>\n",
              "      <th>28</th>\n",
              "      <td>Are his `enemies` what make Donald Trump popul...</td>\n",
              "      <td>Fake News</td>\n",
              "      <td>0</td>\n",
              "    </tr>\n",
              "    <tr>\n",
              "      <th>29</th>\n",
              "      <td>Donald Trump 'Takes Back Over' Government in F...</td>\n",
              "      <td>True News</td>\n",
              "      <td>99</td>\n",
              "    </tr>\n",
              "    <tr>\n",
              "      <th>30</th>\n",
              "      <td>Donald Trump is totally obsessed with the Janu...</td>\n",
              "      <td>Fake News</td>\n",
              "      <td>0</td>\n",
              "    </tr>\n",
              "    <tr>\n",
              "      <th>31</th>\n",
              "      <td>Donald Trump Was “a President Asking for Civil...</td>\n",
              "      <td>True News</td>\n",
              "      <td>99</td>\n",
              "    </tr>\n",
              "    <tr>\n",
              "      <th>32</th>\n",
              "      <td>How the January 6 committee used Fox News agai...</td>\n",
              "      <td>Fake News</td>\n",
              "      <td>0</td>\n",
              "    </tr>\n",
              "    <tr>\n",
              "      <th>33</th>\n",
              "      <td>Meta's new chatbot claims Donald Trump 'will a...</td>\n",
              "      <td>Fake News</td>\n",
              "      <td>0</td>\n",
              "    </tr>\n",
              "    <tr>\n",
              "      <th>34</th>\n",
              "      <td>Opinion: Donald Trump, the rule of law and the...</td>\n",
              "      <td>Fake News</td>\n",
              "      <td>0</td>\n",
              "    </tr>\n",
              "    <tr>\n",
              "      <th>35</th>\n",
              "      <td>Donald Trump Jr. endorses Carolina Amesty in H...</td>\n",
              "      <td>Fake News</td>\n",
              "      <td>0</td>\n",
              "    </tr>\n",
              "    <tr>\n",
              "      <th>36</th>\n",
              "      <td>Paul LePage compares America to 'banana republ...</td>\n",
              "      <td>Fake News</td>\n",
              "      <td>0</td>\n",
              "    </tr>\n",
              "    <tr>\n",
              "      <th>37</th>\n",
              "      <td>Donald Trump’s betting odds to win 2024 electi...</td>\n",
              "      <td>Fake News</td>\n",
              "      <td>26</td>\n",
              "    </tr>\n",
              "    <tr>\n",
              "      <th>38</th>\n",
              "      <td>Donald Trump Should Never Be Allowed Within 1,...</td>\n",
              "      <td>True News</td>\n",
              "      <td>100</td>\n",
              "    </tr>\n",
              "    <tr>\n",
              "      <th>39</th>\n",
              "      <td>Analysis | The Justice Department Should Indic...</td>\n",
              "      <td>Fake News</td>\n",
              "      <td>0</td>\n",
              "    </tr>\n",
              "    <tr>\n",
              "      <th>40</th>\n",
              "      <td>Here's how Donald Trump could theoretically ru...</td>\n",
              "      <td>Fake News</td>\n",
              "      <td>0</td>\n",
              "    </tr>\n",
              "    <tr>\n",
              "      <th>41</th>\n",
              "      <td>Opinion | Why Rupert Murdoch Is Finally Done w...</td>\n",
              "      <td>Fake News</td>\n",
              "      <td>0</td>\n",
              "    </tr>\n",
              "    <tr>\n",
              "      <th>42</th>\n",
              "      <td>Local candidate to hold rally with Donald Trum...</td>\n",
              "      <td>Fake News</td>\n",
              "      <td>0</td>\n",
              "    </tr>\n",
              "    <tr>\n",
              "      <th>43</th>\n",
              "      <td>What John Bolton gets wrong about coup attempt...</td>\n",
              "      <td>Fake News</td>\n",
              "      <td>0</td>\n",
              "    </tr>\n",
              "    <tr>\n",
              "      <th>44</th>\n",
              "      <td>Donald Trump and Mike Pence will hold dueling ...</td>\n",
              "      <td>True News</td>\n",
              "      <td>99</td>\n",
              "    </tr>\n",
              "    <tr>\n",
              "      <th>45</th>\n",
              "      <td>Tom Brady says his relationship with Donald Tr...</td>\n",
              "      <td>Fake News</td>\n",
              "      <td>23</td>\n",
              "    </tr>\n",
              "    <tr>\n",
              "      <th>46</th>\n",
              "      <td>Trump’s silence on Jan. 6 is damning - New Yor...</td>\n",
              "      <td>True News</td>\n",
              "      <td>99</td>\n",
              "    </tr>\n",
              "    <tr>\n",
              "      <th>47</th>\n",
              "      <td>Report: Trump Thinks Running for President Aga...</td>\n",
              "      <td>Fake News</td>\n",
              "      <td>0</td>\n",
              "    </tr>\n",
              "    <tr>\n",
              "      <th>48</th>\n",
              "      <td>Donald Trump Outtakes January 6th Exposes True...</td>\n",
              "      <td>Fake News</td>\n",
              "      <td>0</td>\n",
              "    </tr>\n",
              "    <tr>\n",
              "      <th>49</th>\n",
              "      <td>Will Ivana help Donald Trump with tax breaks f...</td>\n",
              "      <td>Fake News</td>\n",
              "      <td>0</td>\n",
              "    </tr>\n",
              "  </tbody>\n",
              "</table>\n",
              "</div>\n",
              "      <button class=\"colab-df-convert\" onclick=\"convertToInteractive('df-dbfd1921-e3c7-430a-8458-31faa22d4dd5')\"\n",
              "              title=\"Convert this dataframe to an interactive table.\"\n",
              "              style=\"display:none;\">\n",
              "        \n",
              "  <svg xmlns=\"http://www.w3.org/2000/svg\" height=\"24px\"viewBox=\"0 0 24 24\"\n",
              "       width=\"24px\">\n",
              "    <path d=\"M0 0h24v24H0V0z\" fill=\"none\"/>\n",
              "    <path d=\"M18.56 5.44l.94 2.06.94-2.06 2.06-.94-2.06-.94-.94-2.06-.94 2.06-2.06.94zm-11 1L8.5 8.5l.94-2.06 2.06-.94-2.06-.94L8.5 2.5l-.94 2.06-2.06.94zm10 10l.94 2.06.94-2.06 2.06-.94-2.06-.94-.94-2.06-.94 2.06-2.06.94z\"/><path d=\"M17.41 7.96l-1.37-1.37c-.4-.4-.92-.59-1.43-.59-.52 0-1.04.2-1.43.59L10.3 9.45l-7.72 7.72c-.78.78-.78 2.05 0 2.83L4 21.41c.39.39.9.59 1.41.59.51 0 1.02-.2 1.41-.59l7.78-7.78 2.81-2.81c.8-.78.8-2.07 0-2.86zM5.41 20L4 18.59l7.72-7.72 1.47 1.35L5.41 20z\"/>\n",
              "  </svg>\n",
              "      </button>\n",
              "      \n",
              "  <style>\n",
              "    .colab-df-container {\n",
              "      display:flex;\n",
              "      flex-wrap:wrap;\n",
              "      gap: 12px;\n",
              "    }\n",
              "\n",
              "    .colab-df-convert {\n",
              "      background-color: #E8F0FE;\n",
              "      border: none;\n",
              "      border-radius: 50%;\n",
              "      cursor: pointer;\n",
              "      display: none;\n",
              "      fill: #1967D2;\n",
              "      height: 32px;\n",
              "      padding: 0 0 0 0;\n",
              "      width: 32px;\n",
              "    }\n",
              "\n",
              "    .colab-df-convert:hover {\n",
              "      background-color: #E2EBFA;\n",
              "      box-shadow: 0px 1px 2px rgba(60, 64, 67, 0.3), 0px 1px 3px 1px rgba(60, 64, 67, 0.15);\n",
              "      fill: #174EA6;\n",
              "    }\n",
              "\n",
              "    [theme=dark] .colab-df-convert {\n",
              "      background-color: #3B4455;\n",
              "      fill: #D2E3FC;\n",
              "    }\n",
              "\n",
              "    [theme=dark] .colab-df-convert:hover {\n",
              "      background-color: #434B5C;\n",
              "      box-shadow: 0px 1px 3px 1px rgba(0, 0, 0, 0.15);\n",
              "      filter: drop-shadow(0px 1px 2px rgba(0, 0, 0, 0.3));\n",
              "      fill: #FFFFFF;\n",
              "    }\n",
              "  </style>\n",
              "\n",
              "      <script>\n",
              "        const buttonEl =\n",
              "          document.querySelector('#df-dbfd1921-e3c7-430a-8458-31faa22d4dd5 button.colab-df-convert');\n",
              "        buttonEl.style.display =\n",
              "          google.colab.kernel.accessAllowed ? 'block' : 'none';\n",
              "\n",
              "        async function convertToInteractive(key) {\n",
              "          const element = document.querySelector('#df-dbfd1921-e3c7-430a-8458-31faa22d4dd5');\n",
              "          const dataTable =\n",
              "            await google.colab.kernel.invokeFunction('convertToInteractive',\n",
              "                                                     [key], {});\n",
              "          if (!dataTable) return;\n",
              "\n",
              "          const docLinkHtml = 'Like what you see? Visit the ' +\n",
              "            '<a target=\"_blank\" href=https://colab.research.google.com/notebooks/data_table.ipynb>data table notebook</a>'\n",
              "            + ' to learn more about interactive tables.';\n",
              "          element.innerHTML = '';\n",
              "          dataTable['output_type'] = 'display_data';\n",
              "          await google.colab.output.renderOutput(dataTable, element);\n",
              "          const docLink = document.createElement('div');\n",
              "          docLink.innerHTML = docLinkHtml;\n",
              "          element.appendChild(docLink);\n",
              "        }\n",
              "      </script>\n",
              "    </div>\n",
              "  </div>\n",
              "  "
            ]
          },
          "metadata": {},
          "execution_count": 50
        }
      ]
    },
    {
      "cell_type": "code",
      "source": [
        "fake_news_percent=(final_display[\"Final Prediction\"].value_counts()[\"Fake News\"])*(100/50)"
      ],
      "metadata": {
        "id": "bIE_M_H2abD6"
      },
      "execution_count": null,
      "outputs": []
    },
    {
      "cell_type": "code",
      "source": [
        "fake_news_percent"
      ],
      "metadata": {
        "colab": {
          "base_uri": "https://localhost:8080/"
        },
        "id": "LUVSQ3a_aeTn",
        "outputId": "d1523a5f-1084-49f9-ae90-afba083f79aa"
      },
      "execution_count": null,
      "outputs": [
        {
          "output_type": "execute_result",
          "data": {
            "text/plain": [
              "68.0"
            ]
          },
          "metadata": {},
          "execution_count": 52
        }
      ]
    }
  ]
}